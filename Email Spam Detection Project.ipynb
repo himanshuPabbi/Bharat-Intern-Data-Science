{
 "cells": [
  {
   "cell_type": "code",
   "execution_count": 1,
   "id": "705e3655",
   "metadata": {},
   "outputs": [],
   "source": [
    "import pandas as pd"
   ]
  },
  {
   "cell_type": "code",
   "execution_count": 2,
   "id": "edeacdcf",
   "metadata": {},
   "outputs": [],
   "source": [
    "import numpy as np"
   ]
  },
  {
   "cell_type": "code",
   "execution_count": 3,
   "id": "b8586962",
   "metadata": {},
   "outputs": [],
   "source": [
    "import seaborn as sns"
   ]
  },
  {
   "cell_type": "code",
   "execution_count": 4,
   "id": "4b522093",
   "metadata": {},
   "outputs": [],
   "source": [
    "from sklearn.preprocessing import LabelEncoder"
   ]
  },
  {
   "cell_type": "code",
   "execution_count": 5,
   "id": "877247dc",
   "metadata": {},
   "outputs": [],
   "source": [
    "import matplotlib.pyplot as plt"
   ]
  },
  {
   "cell_type": "code",
   "execution_count": 6,
   "id": "e6b7361b",
   "metadata": {},
   "outputs": [],
   "source": [
    "import nltk"
   ]
  },
  {
   "cell_type": "code",
   "execution_count": 7,
   "id": "3b45a659",
   "metadata": {},
   "outputs": [],
   "source": [
    "from sklearn.model_selection import train_test_split"
   ]
  },
  {
   "cell_type": "code",
   "execution_count": 8,
   "id": "87fcae3e",
   "metadata": {},
   "outputs": [],
   "source": [
    "from sklearn.ensemble import RandomForestClassifier"
   ]
  },
  {
   "cell_type": "code",
   "execution_count": 9,
   "id": "f71e11a4",
   "metadata": {},
   "outputs": [],
   "source": [
    "from sklearn.linear_model import LogisticRegression"
   ]
  },
  {
   "cell_type": "code",
   "execution_count": 10,
   "id": "cf104a38",
   "metadata": {},
   "outputs": [],
   "source": [
    "from sklearn.neighbors import KNeighborsClassifier"
   ]
  },
  {
   "cell_type": "code",
   "execution_count": 11,
   "id": "d669cd53",
   "metadata": {},
   "outputs": [],
   "source": [
    "from sklearn.tree import DecisionTreeClassifier"
   ]
  },
  {
   "cell_type": "code",
   "execution_count": 12,
   "id": "e9b6128e",
   "metadata": {},
   "outputs": [],
   "source": [
    "import xgboost as xgb "
   ]
  },
  {
   "cell_type": "code",
   "execution_count": 13,
   "id": "ddbdd397",
   "metadata": {},
   "outputs": [],
   "source": [
    "from sklearn.metrics import accuracy_score,confusion_matrix,classification_report"
   ]
  },
  {
   "cell_type": "code",
   "execution_count": 14,
   "id": "bd3af537",
   "metadata": {},
   "outputs": [],
   "source": [
    "from sklearn.model_selection import train_test_split,KFold,cross_val_score"
   ]
  },
  {
   "cell_type": "code",
   "execution_count": 15,
   "id": "66edf4ac",
   "metadata": {},
   "outputs": [],
   "source": [
    "from sklearn.naive_bayes import GaussianNB"
   ]
  },
  {
   "cell_type": "code",
   "execution_count": 16,
   "id": "dda5d8e6",
   "metadata": {},
   "outputs": [],
   "source": [
    "from sklearn.preprocessing import StandardScaler"
   ]
  },
  {
   "cell_type": "code",
   "execution_count": 17,
   "id": "531a847c",
   "metadata": {},
   "outputs": [],
   "source": [
    "df=pd.read_csv(\"spam.csv\")\n"
   ]
  },
  {
   "cell_type": "code",
   "execution_count": 18,
   "id": "732b8f4b",
   "metadata": {},
   "outputs": [
    {
     "data": {
      "text/html": [
       "<div>\n",
       "<style scoped>\n",
       "    .dataframe tbody tr th:only-of-type {\n",
       "        vertical-align: middle;\n",
       "    }\n",
       "\n",
       "    .dataframe tbody tr th {\n",
       "        vertical-align: top;\n",
       "    }\n",
       "\n",
       "    .dataframe thead th {\n",
       "        text-align: right;\n",
       "    }\n",
       "</style>\n",
       "<table border=\"1\" class=\"dataframe\">\n",
       "  <thead>\n",
       "    <tr style=\"text-align: right;\">\n",
       "      <th></th>\n",
       "      <th>Category</th>\n",
       "      <th>Message</th>\n",
       "    </tr>\n",
       "  </thead>\n",
       "  <tbody>\n",
       "    <tr>\n",
       "      <th>0</th>\n",
       "      <td>ham</td>\n",
       "      <td>Go until jurong point, crazy.. Available only ...</td>\n",
       "    </tr>\n",
       "    <tr>\n",
       "      <th>1</th>\n",
       "      <td>ham</td>\n",
       "      <td>Ok lar... Joking wif u oni...</td>\n",
       "    </tr>\n",
       "    <tr>\n",
       "      <th>2</th>\n",
       "      <td>spam</td>\n",
       "      <td>Free entry in 2 a wkly comp to win FA Cup fina...</td>\n",
       "    </tr>\n",
       "    <tr>\n",
       "      <th>3</th>\n",
       "      <td>ham</td>\n",
       "      <td>U dun say so early hor... U c already then say...</td>\n",
       "    </tr>\n",
       "    <tr>\n",
       "      <th>4</th>\n",
       "      <td>ham</td>\n",
       "      <td>Nah I don't think he goes to usf, he lives aro...</td>\n",
       "    </tr>\n",
       "  </tbody>\n",
       "</table>\n",
       "</div>"
      ],
      "text/plain": [
       "  Category                                            Message\n",
       "0      ham  Go until jurong point, crazy.. Available only ...\n",
       "1      ham                      Ok lar... Joking wif u oni...\n",
       "2     spam  Free entry in 2 a wkly comp to win FA Cup fina...\n",
       "3      ham  U dun say so early hor... U c already then say...\n",
       "4      ham  Nah I don't think he goes to usf, he lives aro..."
      ]
     },
     "execution_count": 18,
     "metadata": {},
     "output_type": "execute_result"
    }
   ],
   "source": [
    "df.head()"
   ]
  },
  {
   "cell_type": "code",
   "execution_count": 19,
   "id": "79abb509",
   "metadata": {},
   "outputs": [
    {
     "data": {
      "text/plain": [
       "Category    0\n",
       "Message     0\n",
       "dtype: int64"
      ]
     },
     "execution_count": 19,
     "metadata": {},
     "output_type": "execute_result"
    }
   ],
   "source": [
    "df.isnull().sum()"
   ]
  },
  {
   "cell_type": "code",
   "execution_count": 20,
   "id": "c1981966",
   "metadata": {},
   "outputs": [
    {
     "name": "stdout",
     "output_type": "stream",
     "text": [
      "<class 'pandas.core.frame.DataFrame'>\n",
      "RangeIndex: 5572 entries, 0 to 5571\n",
      "Data columns (total 2 columns):\n",
      " #   Column    Non-Null Count  Dtype \n",
      "---  ------    --------------  ----- \n",
      " 0   Category  5572 non-null   object\n",
      " 1   Message   5572 non-null   object\n",
      "dtypes: object(2)\n",
      "memory usage: 87.2+ KB\n"
     ]
    }
   ],
   "source": [
    "df.info()"
   ]
  },
  {
   "cell_type": "code",
   "execution_count": 21,
   "id": "163e1da6",
   "metadata": {},
   "outputs": [
    {
     "data": {
      "text/plain": [
       "(5572, 2)"
      ]
     },
     "execution_count": 21,
     "metadata": {},
     "output_type": "execute_result"
    }
   ],
   "source": [
    "df.shape"
   ]
  },
  {
   "cell_type": "code",
   "execution_count": 22,
   "id": "3707fb3e",
   "metadata": {},
   "outputs": [],
   "source": [
    "df=df.drop_duplicates()"
   ]
  },
  {
   "cell_type": "code",
   "execution_count": 23,
   "id": "3ba4fd81",
   "metadata": {},
   "outputs": [
    {
     "data": {
      "text/html": [
       "<div>\n",
       "<style scoped>\n",
       "    .dataframe tbody tr th:only-of-type {\n",
       "        vertical-align: middle;\n",
       "    }\n",
       "\n",
       "    .dataframe tbody tr th {\n",
       "        vertical-align: top;\n",
       "    }\n",
       "\n",
       "    .dataframe thead th {\n",
       "        text-align: right;\n",
       "    }\n",
       "</style>\n",
       "<table border=\"1\" class=\"dataframe\">\n",
       "  <thead>\n",
       "    <tr style=\"text-align: right;\">\n",
       "      <th></th>\n",
       "      <th>Category</th>\n",
       "      <th>Message</th>\n",
       "    </tr>\n",
       "  </thead>\n",
       "  <tbody>\n",
       "    <tr>\n",
       "      <th>0</th>\n",
       "      <td>ham</td>\n",
       "      <td>Go until jurong point, crazy.. Available only ...</td>\n",
       "    </tr>\n",
       "    <tr>\n",
       "      <th>1</th>\n",
       "      <td>ham</td>\n",
       "      <td>Ok lar... Joking wif u oni...</td>\n",
       "    </tr>\n",
       "    <tr>\n",
       "      <th>2</th>\n",
       "      <td>spam</td>\n",
       "      <td>Free entry in 2 a wkly comp to win FA Cup fina...</td>\n",
       "    </tr>\n",
       "    <tr>\n",
       "      <th>3</th>\n",
       "      <td>ham</td>\n",
       "      <td>U dun say so early hor... U c already then say...</td>\n",
       "    </tr>\n",
       "    <tr>\n",
       "      <th>4</th>\n",
       "      <td>ham</td>\n",
       "      <td>Nah I don't think he goes to usf, he lives aro...</td>\n",
       "    </tr>\n",
       "    <tr>\n",
       "      <th>...</th>\n",
       "      <td>...</td>\n",
       "      <td>...</td>\n",
       "    </tr>\n",
       "    <tr>\n",
       "      <th>5567</th>\n",
       "      <td>spam</td>\n",
       "      <td>This is the 2nd time we have tried 2 contact u...</td>\n",
       "    </tr>\n",
       "    <tr>\n",
       "      <th>5568</th>\n",
       "      <td>ham</td>\n",
       "      <td>Will ü b going to esplanade fr home?</td>\n",
       "    </tr>\n",
       "    <tr>\n",
       "      <th>5569</th>\n",
       "      <td>ham</td>\n",
       "      <td>Pity, * was in mood for that. So...any other s...</td>\n",
       "    </tr>\n",
       "    <tr>\n",
       "      <th>5570</th>\n",
       "      <td>ham</td>\n",
       "      <td>The guy did some bitching but I acted like i'd...</td>\n",
       "    </tr>\n",
       "    <tr>\n",
       "      <th>5571</th>\n",
       "      <td>ham</td>\n",
       "      <td>Rofl. Its true to its name</td>\n",
       "    </tr>\n",
       "  </tbody>\n",
       "</table>\n",
       "<p>5157 rows × 2 columns</p>\n",
       "</div>"
      ],
      "text/plain": [
       "     Category                                            Message\n",
       "0         ham  Go until jurong point, crazy.. Available only ...\n",
       "1         ham                      Ok lar... Joking wif u oni...\n",
       "2        spam  Free entry in 2 a wkly comp to win FA Cup fina...\n",
       "3         ham  U dun say so early hor... U c already then say...\n",
       "4         ham  Nah I don't think he goes to usf, he lives aro...\n",
       "...       ...                                                ...\n",
       "5567     spam  This is the 2nd time we have tried 2 contact u...\n",
       "5568      ham               Will ü b going to esplanade fr home?\n",
       "5569      ham  Pity, * was in mood for that. So...any other s...\n",
       "5570      ham  The guy did some bitching but I acted like i'd...\n",
       "5571      ham                         Rofl. Its true to its name\n",
       "\n",
       "[5157 rows x 2 columns]"
      ]
     },
     "execution_count": 23,
     "metadata": {},
     "output_type": "execute_result"
    }
   ],
   "source": [
    "df"
   ]
  },
  {
   "cell_type": "code",
   "execution_count": 24,
   "id": "33c8ea64",
   "metadata": {},
   "outputs": [
    {
     "data": {
      "text/plain": [
       "<AxesSubplot:xlabel='Category', ylabel='count'>"
      ]
     },
     "execution_count": 24,
     "metadata": {},
     "output_type": "execute_result"
    },
    {
     "data": {
      "image/png": "[encoded data removed]",
      "text/plain": [
       "<Figure size 432x288 with 1 Axes>"
      ]
     },
     "metadata": {
      "needs_background": "light"
     },
     "output_type": "display_data"
    }
   ],
   "source": [
    "sns.countplot(x=df['Category'])"
   ]
  },
  {
   "cell_type": "code",
   "execution_count": 25,
   "id": "b696b97a",
   "metadata": {},
   "outputs": [],
   "source": [
    "df['num_characters']=df['Message'].apply(len)"
   ]
  },
  {
   "cell_type": "code",
   "execution_count": 26,
   "id": "01078138",
   "metadata": {},
   "outputs": [
    {
     "data": {
      "text/html": [
       "<div>\n",
       "<style scoped>\n",
       "    .dataframe tbody tr th:only-of-type {\n",
       "        vertical-align: middle;\n",
       "    }\n",
       "\n",
       "    .dataframe tbody tr th {\n",
       "        vertical-align: top;\n",
       "    }\n",
       "\n",
       "    .dataframe thead th {\n",
       "        text-align: right;\n",
       "    }\n",
       "</style>\n",
       "<table border=\"1\" class=\"dataframe\">\n",
       "  <thead>\n",
       "    <tr style=\"text-align: right;\">\n",
       "      <th></th>\n",
       "      <th>Category</th>\n",
       "      <th>Message</th>\n",
       "      <th>num_characters</th>\n",
       "    </tr>\n",
       "  </thead>\n",
       "  <tbody>\n",
       "    <tr>\n",
       "      <th>0</th>\n",
       "      <td>ham</td>\n",
       "      <td>Go until jurong point, crazy.. Available only ...</td>\n",
       "      <td>111</td>\n",
       "    </tr>\n",
       "    <tr>\n",
       "      <th>1</th>\n",
       "      <td>ham</td>\n",
       "      <td>Ok lar... Joking wif u oni...</td>\n",
       "      <td>29</td>\n",
       "    </tr>\n",
       "    <tr>\n",
       "      <th>2</th>\n",
       "      <td>spam</td>\n",
       "      <td>Free entry in 2 a wkly comp to win FA Cup fina...</td>\n",
       "      <td>155</td>\n",
       "    </tr>\n",
       "    <tr>\n",
       "      <th>3</th>\n",
       "      <td>ham</td>\n",
       "      <td>U dun say so early hor... U c already then say...</td>\n",
       "      <td>49</td>\n",
       "    </tr>\n",
       "    <tr>\n",
       "      <th>4</th>\n",
       "      <td>ham</td>\n",
       "      <td>Nah I don't think he goes to usf, he lives aro...</td>\n",
       "      <td>61</td>\n",
       "    </tr>\n",
       "    <tr>\n",
       "      <th>...</th>\n",
       "      <td>...</td>\n",
       "      <td>...</td>\n",
       "      <td>...</td>\n",
       "    </tr>\n",
       "    <tr>\n",
       "      <th>5567</th>\n",
       "      <td>spam</td>\n",
       "      <td>This is the 2nd time we have tried 2 contact u...</td>\n",
       "      <td>160</td>\n",
       "    </tr>\n",
       "    <tr>\n",
       "      <th>5568</th>\n",
       "      <td>ham</td>\n",
       "      <td>Will ü b going to esplanade fr home?</td>\n",
       "      <td>36</td>\n",
       "    </tr>\n",
       "    <tr>\n",
       "      <th>5569</th>\n",
       "      <td>ham</td>\n",
       "      <td>Pity, * was in mood for that. So...any other s...</td>\n",
       "      <td>57</td>\n",
       "    </tr>\n",
       "    <tr>\n",
       "      <th>5570</th>\n",
       "      <td>ham</td>\n",
       "      <td>The guy did some bitching but I acted like i'd...</td>\n",
       "      <td>125</td>\n",
       "    </tr>\n",
       "    <tr>\n",
       "      <th>5571</th>\n",
       "      <td>ham</td>\n",
       "      <td>Rofl. Its true to its name</td>\n",
       "      <td>26</td>\n",
       "    </tr>\n",
       "  </tbody>\n",
       "</table>\n",
       "<p>5157 rows × 3 columns</p>\n",
       "</div>"
      ],
      "text/plain": [
       "     Category                                            Message  \\\n",
       "0         ham  Go until jurong point, crazy.. Available only ...   \n",
       "1         ham                      Ok lar... Joking wif u oni...   \n",
       "2        spam  Free entry in 2 a wkly comp to win FA Cup fina...   \n",
       "3         ham  U dun say so early hor... U c already then say...   \n",
       "4         ham  Nah I don't think he goes to usf, he lives aro...   \n",
       "...       ...                                                ...   \n",
       "5567     spam  This is the 2nd time we have tried 2 contact u...   \n",
       "5568      ham               Will ü b going to esplanade fr home?   \n",
       "5569      ham  Pity, * was in mood for that. So...any other s...   \n",
       "5570      ham  The guy did some bitching but I acted like i'd...   \n",
       "5571      ham                         Rofl. Its true to its name   \n",
       "\n",
       "      num_characters  \n",
       "0                111  \n",
       "1                 29  \n",
       "2                155  \n",
       "3                 49  \n",
       "4                 61  \n",
       "...              ...  \n",
       "5567             160  \n",
       "5568              36  \n",
       "5569              57  \n",
       "5570             125  \n",
       "5571              26  \n",
       "\n",
       "[5157 rows x 3 columns]"
      ]
     },
     "execution_count": 26,
     "metadata": {},
     "output_type": "execute_result"
    }
   ],
   "source": [
    "df"
   ]
  },
  {
   "cell_type": "code",
   "execution_count": 27,
   "id": "94fec751",
   "metadata": {},
   "outputs": [],
   "source": [
    "df['num_words']=df['Message'].apply(lambda x:len(nltk.word_tokenize(x)))"
   ]
  },
  {
   "cell_type": "code",
   "execution_count": 28,
   "id": "e054513f",
   "metadata": {},
   "outputs": [
    {
     "data": {
      "text/html": [
       "<div>\n",
       "<style scoped>\n",
       "    .dataframe tbody tr th:only-of-type {\n",
       "        vertical-align: middle;\n",
       "    }\n",
       "\n",
       "    .dataframe tbody tr th {\n",
       "        vertical-align: top;\n",
       "    }\n",
       "\n",
       "    .dataframe thead th {\n",
       "        text-align: right;\n",
       "    }\n",
       "</style>\n",
       "<table border=\"1\" class=\"dataframe\">\n",
       "  <thead>\n",
       "    <tr style=\"text-align: right;\">\n",
       "      <th></th>\n",
       "      <th>Category</th>\n",
       "      <th>Message</th>\n",
       "      <th>num_characters</th>\n",
       "      <th>num_words</th>\n",
       "    </tr>\n",
       "  </thead>\n",
       "  <tbody>\n",
       "    <tr>\n",
       "      <th>0</th>\n",
       "      <td>ham</td>\n",
       "      <td>Go until jurong point, crazy.. Available only ...</td>\n",
       "      <td>111</td>\n",
       "      <td>24</td>\n",
       "    </tr>\n",
       "    <tr>\n",
       "      <th>1</th>\n",
       "      <td>ham</td>\n",
       "      <td>Ok lar... Joking wif u oni...</td>\n",
       "      <td>29</td>\n",
       "      <td>8</td>\n",
       "    </tr>\n",
       "    <tr>\n",
       "      <th>2</th>\n",
       "      <td>spam</td>\n",
       "      <td>Free entry in 2 a wkly comp to win FA Cup fina...</td>\n",
       "      <td>155</td>\n",
       "      <td>37</td>\n",
       "    </tr>\n",
       "    <tr>\n",
       "      <th>3</th>\n",
       "      <td>ham</td>\n",
       "      <td>U dun say so early hor... U c already then say...</td>\n",
       "      <td>49</td>\n",
       "      <td>13</td>\n",
       "    </tr>\n",
       "    <tr>\n",
       "      <th>4</th>\n",
       "      <td>ham</td>\n",
       "      <td>Nah I don't think he goes to usf, he lives aro...</td>\n",
       "      <td>61</td>\n",
       "      <td>15</td>\n",
       "    </tr>\n",
       "    <tr>\n",
       "      <th>...</th>\n",
       "      <td>...</td>\n",
       "      <td>...</td>\n",
       "      <td>...</td>\n",
       "      <td>...</td>\n",
       "    </tr>\n",
       "    <tr>\n",
       "      <th>5567</th>\n",
       "      <td>spam</td>\n",
       "      <td>This is the 2nd time we have tried 2 contact u...</td>\n",
       "      <td>160</td>\n",
       "      <td>35</td>\n",
       "    </tr>\n",
       "    <tr>\n",
       "      <th>5568</th>\n",
       "      <td>ham</td>\n",
       "      <td>Will ü b going to esplanade fr home?</td>\n",
       "      <td>36</td>\n",
       "      <td>9</td>\n",
       "    </tr>\n",
       "    <tr>\n",
       "      <th>5569</th>\n",
       "      <td>ham</td>\n",
       "      <td>Pity, * was in mood for that. So...any other s...</td>\n",
       "      <td>57</td>\n",
       "      <td>15</td>\n",
       "    </tr>\n",
       "    <tr>\n",
       "      <th>5570</th>\n",
       "      <td>ham</td>\n",
       "      <td>The guy did some bitching but I acted like i'd...</td>\n",
       "      <td>125</td>\n",
       "      <td>27</td>\n",
       "    </tr>\n",
       "    <tr>\n",
       "      <th>5571</th>\n",
       "      <td>ham</td>\n",
       "      <td>Rofl. Its true to its name</td>\n",
       "      <td>26</td>\n",
       "      <td>7</td>\n",
       "    </tr>\n",
       "  </tbody>\n",
       "</table>\n",
       "<p>5157 rows × 4 columns</p>\n",
       "</div>"
      ],
      "text/plain": [
       "     Category                                            Message  \\\n",
       "0         ham  Go until jurong point, crazy.. Available only ...   \n",
       "1         ham                      Ok lar... Joking wif u oni...   \n",
       "2        spam  Free entry in 2 a wkly comp to win FA Cup fina...   \n",
       "3         ham  U dun say so early hor... U c already then say...   \n",
       "4         ham  Nah I don't think he goes to usf, he lives aro...   \n",
       "...       ...                                                ...   \n",
       "5567     spam  This is the 2nd time we have tried 2 contact u...   \n",
       "5568      ham               Will ü b going to esplanade fr home?   \n",
       "5569      ham  Pity, * was in mood for that. So...any other s...   \n",
       "5570      ham  The guy did some bitching but I acted like i'd...   \n",
       "5571      ham                         Rofl. Its true to its name   \n",
       "\n",
       "      num_characters  num_words  \n",
       "0                111         24  \n",
       "1                 29          8  \n",
       "2                155         37  \n",
       "3                 49         13  \n",
       "4                 61         15  \n",
       "...              ...        ...  \n",
       "5567             160         35  \n",
       "5568              36          9  \n",
       "5569              57         15  \n",
       "5570             125         27  \n",
       "5571              26          7  \n",
       "\n",
       "[5157 rows x 4 columns]"
      ]
     },
     "execution_count": 28,
     "metadata": {},
     "output_type": "execute_result"
    }
   ],
   "source": [
    "df"
   ]
  },
  {
   "cell_type": "code",
   "execution_count": 29,
   "id": "c2c5390e",
   "metadata": {},
   "outputs": [],
   "source": [
    "df['num_sentence']=df['Message'].apply(lambda x:len(nltk.sent_tokenize(x)))"
   ]
  },
  {
   "cell_type": "code",
   "execution_count": 30,
   "id": "1f8252c8",
   "metadata": {},
   "outputs": [
    {
     "data": {
      "text/html": [
       "<div>\n",
       "<style scoped>\n",
       "    .dataframe tbody tr th:only-of-type {\n",
       "        vertical-align: middle;\n",
       "    }\n",
       "\n",
       "    .dataframe tbody tr th {\n",
       "        vertical-align: top;\n",
       "    }\n",
       "\n",
       "    .dataframe thead th {\n",
       "        text-align: right;\n",
       "    }\n",
       "</style>\n",
       "<table border=\"1\" class=\"dataframe\">\n",
       "  <thead>\n",
       "    <tr style=\"text-align: right;\">\n",
       "      <th></th>\n",
       "      <th>Category</th>\n",
       "      <th>Message</th>\n",
       "      <th>num_characters</th>\n",
       "      <th>num_words</th>\n",
       "      <th>num_sentence</th>\n",
       "    </tr>\n",
       "  </thead>\n",
       "  <tbody>\n",
       "    <tr>\n",
       "      <th>0</th>\n",
       "      <td>ham</td>\n",
       "      <td>Go until jurong point, crazy.. Available only ...</td>\n",
       "      <td>111</td>\n",
       "      <td>24</td>\n",
       "      <td>2</td>\n",
       "    </tr>\n",
       "    <tr>\n",
       "      <th>1</th>\n",
       "      <td>ham</td>\n",
       "      <td>Ok lar... Joking wif u oni...</td>\n",
       "      <td>29</td>\n",
       "      <td>8</td>\n",
       "      <td>2</td>\n",
       "    </tr>\n",
       "    <tr>\n",
       "      <th>2</th>\n",
       "      <td>spam</td>\n",
       "      <td>Free entry in 2 a wkly comp to win FA Cup fina...</td>\n",
       "      <td>155</td>\n",
       "      <td>37</td>\n",
       "      <td>2</td>\n",
       "    </tr>\n",
       "    <tr>\n",
       "      <th>3</th>\n",
       "      <td>ham</td>\n",
       "      <td>U dun say so early hor... U c already then say...</td>\n",
       "      <td>49</td>\n",
       "      <td>13</td>\n",
       "      <td>1</td>\n",
       "    </tr>\n",
       "    <tr>\n",
       "      <th>4</th>\n",
       "      <td>ham</td>\n",
       "      <td>Nah I don't think he goes to usf, he lives aro...</td>\n",
       "      <td>61</td>\n",
       "      <td>15</td>\n",
       "      <td>1</td>\n",
       "    </tr>\n",
       "    <tr>\n",
       "      <th>...</th>\n",
       "      <td>...</td>\n",
       "      <td>...</td>\n",
       "      <td>...</td>\n",
       "      <td>...</td>\n",
       "      <td>...</td>\n",
       "    </tr>\n",
       "    <tr>\n",
       "      <th>5567</th>\n",
       "      <td>spam</td>\n",
       "      <td>This is the 2nd time we have tried 2 contact u...</td>\n",
       "      <td>160</td>\n",
       "      <td>35</td>\n",
       "      <td>4</td>\n",
       "    </tr>\n",
       "    <tr>\n",
       "      <th>5568</th>\n",
       "      <td>ham</td>\n",
       "      <td>Will ü b going to esplanade fr home?</td>\n",
       "      <td>36</td>\n",
       "      <td>9</td>\n",
       "      <td>1</td>\n",
       "    </tr>\n",
       "    <tr>\n",
       "      <th>5569</th>\n",
       "      <td>ham</td>\n",
       "      <td>Pity, * was in mood for that. So...any other s...</td>\n",
       "      <td>57</td>\n",
       "      <td>15</td>\n",
       "      <td>2</td>\n",
       "    </tr>\n",
       "    <tr>\n",
       "      <th>5570</th>\n",
       "      <td>ham</td>\n",
       "      <td>The guy did some bitching but I acted like i'd...</td>\n",
       "      <td>125</td>\n",
       "      <td>27</td>\n",
       "      <td>1</td>\n",
       "    </tr>\n",
       "    <tr>\n",
       "      <th>5571</th>\n",
       "      <td>ham</td>\n",
       "      <td>Rofl. Its true to its name</td>\n",
       "      <td>26</td>\n",
       "      <td>7</td>\n",
       "      <td>2</td>\n",
       "    </tr>\n",
       "  </tbody>\n",
       "</table>\n",
       "<p>5157 rows × 5 columns</p>\n",
       "</div>"
      ],
      "text/plain": [
       "     Category                                            Message  \\\n",
       "0         ham  Go until jurong point, crazy.. Available only ...   \n",
       "1         ham                      Ok lar... Joking wif u oni...   \n",
       "2        spam  Free entry in 2 a wkly comp to win FA Cup fina...   \n",
       "3         ham  U dun say so early hor... U c already then say...   \n",
       "4         ham  Nah I don't think he goes to usf, he lives aro...   \n",
       "...       ...                                                ...   \n",
       "5567     spam  This is the 2nd time we have tried 2 contact u...   \n",
       "5568      ham               Will ü b going to esplanade fr home?   \n",
       "5569      ham  Pity, * was in mood for that. So...any other s...   \n",
       "5570      ham  The guy did some bitching but I acted like i'd...   \n",
       "5571      ham                         Rofl. Its true to its name   \n",
       "\n",
       "      num_characters  num_words  num_sentence  \n",
       "0                111         24             2  \n",
       "1                 29          8             2  \n",
       "2                155         37             2  \n",
       "3                 49         13             1  \n",
       "4                 61         15             1  \n",
       "...              ...        ...           ...  \n",
       "5567             160         35             4  \n",
       "5568              36          9             1  \n",
       "5569              57         15             2  \n",
       "5570             125         27             1  \n",
       "5571              26          7             2  \n",
       "\n",
       "[5157 rows x 5 columns]"
      ]
     },
     "execution_count": 30,
     "metadata": {},
     "output_type": "execute_result"
    }
   ],
   "source": [
    "df"
   ]
  },
  {
   "cell_type": "code",
   "execution_count": 31,
   "id": "29de344f",
   "metadata": {},
   "outputs": [
    {
     "data": {
      "text/html": [
       "<div>\n",
       "<style scoped>\n",
       "    .dataframe tbody tr th:only-of-type {\n",
       "        vertical-align: middle;\n",
       "    }\n",
       "\n",
       "    .dataframe tbody tr th {\n",
       "        vertical-align: top;\n",
       "    }\n",
       "\n",
       "    .dataframe thead th {\n",
       "        text-align: right;\n",
       "    }\n",
       "</style>\n",
       "<table border=\"1\" class=\"dataframe\">\n",
       "  <thead>\n",
       "    <tr style=\"text-align: right;\">\n",
       "      <th></th>\n",
       "      <th>num_characters</th>\n",
       "      <th>num_words</th>\n",
       "      <th>num_sentence</th>\n",
       "    </tr>\n",
       "  </thead>\n",
       "  <tbody>\n",
       "    <tr>\n",
       "      <th>count</th>\n",
       "      <td>5157.000000</td>\n",
       "      <td>5157.000000</td>\n",
       "      <td>5157.000000</td>\n",
       "    </tr>\n",
       "    <tr>\n",
       "      <th>mean</th>\n",
       "      <td>79.103936</td>\n",
       "      <td>18.557882</td>\n",
       "      <td>1.950553</td>\n",
       "    </tr>\n",
       "    <tr>\n",
       "      <th>std</th>\n",
       "      <td>58.382922</td>\n",
       "      <td>13.406024</td>\n",
       "      <td>1.362981</td>\n",
       "    </tr>\n",
       "    <tr>\n",
       "      <th>min</th>\n",
       "      <td>2.000000</td>\n",
       "      <td>1.000000</td>\n",
       "      <td>1.000000</td>\n",
       "    </tr>\n",
       "    <tr>\n",
       "      <th>25%</th>\n",
       "      <td>36.000000</td>\n",
       "      <td>9.000000</td>\n",
       "      <td>1.000000</td>\n",
       "    </tr>\n",
       "    <tr>\n",
       "      <th>50%</th>\n",
       "      <td>61.000000</td>\n",
       "      <td>15.000000</td>\n",
       "      <td>1.000000</td>\n",
       "    </tr>\n",
       "    <tr>\n",
       "      <th>75%</th>\n",
       "      <td>118.000000</td>\n",
       "      <td>26.000000</td>\n",
       "      <td>2.000000</td>\n",
       "    </tr>\n",
       "    <tr>\n",
       "      <th>max</th>\n",
       "      <td>910.000000</td>\n",
       "      <td>220.000000</td>\n",
       "      <td>28.000000</td>\n",
       "    </tr>\n",
       "  </tbody>\n",
       "</table>\n",
       "</div>"
      ],
      "text/plain": [
       "       num_characters    num_words  num_sentence\n",
       "count     5157.000000  5157.000000   5157.000000\n",
       "mean        79.103936    18.557882      1.950553\n",
       "std         58.382922    13.406024      1.362981\n",
       "min          2.000000     1.000000      1.000000\n",
       "25%         36.000000     9.000000      1.000000\n",
       "50%         61.000000    15.000000      1.000000\n",
       "75%        118.000000    26.000000      2.000000\n",
       "max        910.000000   220.000000     28.000000"
      ]
     },
     "execution_count": 31,
     "metadata": {},
     "output_type": "execute_result"
    }
   ],
   "source": [
    "df[['num_characters','num_words','num_sentence']].describe()"
   ]
  },
  {
   "cell_type": "code",
   "execution_count": 32,
   "id": "6c95dcc3",
   "metadata": {},
   "outputs": [
    {
     "data": {
      "text/html": [
       "<div>\n",
       "<style scoped>\n",
       "    .dataframe tbody tr th:only-of-type {\n",
       "        vertical-align: middle;\n",
       "    }\n",
       "\n",
       "    .dataframe tbody tr th {\n",
       "        vertical-align: top;\n",
       "    }\n",
       "\n",
       "    .dataframe thead th {\n",
       "        text-align: right;\n",
       "    }\n",
       "</style>\n",
       "<table border=\"1\" class=\"dataframe\">\n",
       "  <thead>\n",
       "    <tr style=\"text-align: right;\">\n",
       "      <th></th>\n",
       "      <th>Category</th>\n",
       "      <th>Message</th>\n",
       "      <th>num_characters</th>\n",
       "      <th>num_words</th>\n",
       "      <th>num_sentence</th>\n",
       "    </tr>\n",
       "  </thead>\n",
       "  <tbody>\n",
       "    <tr>\n",
       "      <th>0</th>\n",
       "      <td>ham</td>\n",
       "      <td>Go until jurong point, crazy.. Available only ...</td>\n",
       "      <td>111</td>\n",
       "      <td>24</td>\n",
       "      <td>2</td>\n",
       "    </tr>\n",
       "    <tr>\n",
       "      <th>1</th>\n",
       "      <td>ham</td>\n",
       "      <td>Ok lar... Joking wif u oni...</td>\n",
       "      <td>29</td>\n",
       "      <td>8</td>\n",
       "      <td>2</td>\n",
       "    </tr>\n",
       "    <tr>\n",
       "      <th>2</th>\n",
       "      <td>spam</td>\n",
       "      <td>Free entry in 2 a wkly comp to win FA Cup fina...</td>\n",
       "      <td>155</td>\n",
       "      <td>37</td>\n",
       "      <td>2</td>\n",
       "    </tr>\n",
       "    <tr>\n",
       "      <th>3</th>\n",
       "      <td>ham</td>\n",
       "      <td>U dun say so early hor... U c already then say...</td>\n",
       "      <td>49</td>\n",
       "      <td>13</td>\n",
       "      <td>1</td>\n",
       "    </tr>\n",
       "    <tr>\n",
       "      <th>4</th>\n",
       "      <td>ham</td>\n",
       "      <td>Nah I don't think he goes to usf, he lives aro...</td>\n",
       "      <td>61</td>\n",
       "      <td>15</td>\n",
       "      <td>1</td>\n",
       "    </tr>\n",
       "    <tr>\n",
       "      <th>...</th>\n",
       "      <td>...</td>\n",
       "      <td>...</td>\n",
       "      <td>...</td>\n",
       "      <td>...</td>\n",
       "      <td>...</td>\n",
       "    </tr>\n",
       "    <tr>\n",
       "      <th>5567</th>\n",
       "      <td>spam</td>\n",
       "      <td>This is the 2nd time we have tried 2 contact u...</td>\n",
       "      <td>160</td>\n",
       "      <td>35</td>\n",
       "      <td>4</td>\n",
       "    </tr>\n",
       "    <tr>\n",
       "      <th>5568</th>\n",
       "      <td>ham</td>\n",
       "      <td>Will ü b going to esplanade fr home?</td>\n",
       "      <td>36</td>\n",
       "      <td>9</td>\n",
       "      <td>1</td>\n",
       "    </tr>\n",
       "    <tr>\n",
       "      <th>5569</th>\n",
       "      <td>ham</td>\n",
       "      <td>Pity, * was in mood for that. So...any other s...</td>\n",
       "      <td>57</td>\n",
       "      <td>15</td>\n",
       "      <td>2</td>\n",
       "    </tr>\n",
       "    <tr>\n",
       "      <th>5570</th>\n",
       "      <td>ham</td>\n",
       "      <td>The guy did some bitching but I acted like i'd...</td>\n",
       "      <td>125</td>\n",
       "      <td>27</td>\n",
       "      <td>1</td>\n",
       "    </tr>\n",
       "    <tr>\n",
       "      <th>5571</th>\n",
       "      <td>ham</td>\n",
       "      <td>Rofl. Its true to its name</td>\n",
       "      <td>26</td>\n",
       "      <td>7</td>\n",
       "      <td>2</td>\n",
       "    </tr>\n",
       "  </tbody>\n",
       "</table>\n",
       "<p>5157 rows × 5 columns</p>\n",
       "</div>"
      ],
      "text/plain": [
       "     Category                                            Message  \\\n",
       "0         ham  Go until jurong point, crazy.. Available only ...   \n",
       "1         ham                      Ok lar... Joking wif u oni...   \n",
       "2        spam  Free entry in 2 a wkly comp to win FA Cup fina...   \n",
       "3         ham  U dun say so early hor... U c already then say...   \n",
       "4         ham  Nah I don't think he goes to usf, he lives aro...   \n",
       "...       ...                                                ...   \n",
       "5567     spam  This is the 2nd time we have tried 2 contact u...   \n",
       "5568      ham               Will ü b going to esplanade fr home?   \n",
       "5569      ham  Pity, * was in mood for that. So...any other s...   \n",
       "5570      ham  The guy did some bitching but I acted like i'd...   \n",
       "5571      ham                         Rofl. Its true to its name   \n",
       "\n",
       "      num_characters  num_words  num_sentence  \n",
       "0                111         24             2  \n",
       "1                 29          8             2  \n",
       "2                155         37             2  \n",
       "3                 49         13             1  \n",
       "4                 61         15             1  \n",
       "...              ...        ...           ...  \n",
       "5567             160         35             4  \n",
       "5568              36          9             1  \n",
       "5569              57         15             2  \n",
       "5570             125         27             1  \n",
       "5571              26          7             2  \n",
       "\n",
       "[5157 rows x 5 columns]"
      ]
     },
     "execution_count": 32,
     "metadata": {},
     "output_type": "execute_result"
    }
   ],
   "source": [
    "df"
   ]
  },
  {
   "cell_type": "code",
   "execution_count": 33,
   "id": "424860a3",
   "metadata": {},
   "outputs": [],
   "source": [
    "le=LabelEncoder()\n"
   ]
  },
  {
   "cell_type": "code",
   "execution_count": 34,
   "id": "960ac8e6",
   "metadata": {},
   "outputs": [],
   "source": [
    "df['Category']=le.fit_transform(df['Category'])\n"
   ]
  },
  {
   "cell_type": "code",
   "execution_count": 35,
   "id": "38401455",
   "metadata": {},
   "outputs": [
    {
     "data": {
      "text/html": [
       "<div>\n",
       "<style scoped>\n",
       "    .dataframe tbody tr th:only-of-type {\n",
       "        vertical-align: middle;\n",
       "    }\n",
       "\n",
       "    .dataframe tbody tr th {\n",
       "        vertical-align: top;\n",
       "    }\n",
       "\n",
       "    .dataframe thead th {\n",
       "        text-align: right;\n",
       "    }\n",
       "</style>\n",
       "<table border=\"1\" class=\"dataframe\">\n",
       "  <thead>\n",
       "    <tr style=\"text-align: right;\">\n",
       "      <th></th>\n",
       "      <th>Category</th>\n",
       "      <th>Message</th>\n",
       "      <th>num_characters</th>\n",
       "      <th>num_words</th>\n",
       "      <th>num_sentence</th>\n",
       "    </tr>\n",
       "  </thead>\n",
       "  <tbody>\n",
       "    <tr>\n",
       "      <th>0</th>\n",
       "      <td>0</td>\n",
       "      <td>Go until jurong point, crazy.. Available only ...</td>\n",
       "      <td>111</td>\n",
       "      <td>24</td>\n",
       "      <td>2</td>\n",
       "    </tr>\n",
       "    <tr>\n",
       "      <th>1</th>\n",
       "      <td>0</td>\n",
       "      <td>Ok lar... Joking wif u oni...</td>\n",
       "      <td>29</td>\n",
       "      <td>8</td>\n",
       "      <td>2</td>\n",
       "    </tr>\n",
       "    <tr>\n",
       "      <th>2</th>\n",
       "      <td>1</td>\n",
       "      <td>Free entry in 2 a wkly comp to win FA Cup fina...</td>\n",
       "      <td>155</td>\n",
       "      <td>37</td>\n",
       "      <td>2</td>\n",
       "    </tr>\n",
       "    <tr>\n",
       "      <th>3</th>\n",
       "      <td>0</td>\n",
       "      <td>U dun say so early hor... U c already then say...</td>\n",
       "      <td>49</td>\n",
       "      <td>13</td>\n",
       "      <td>1</td>\n",
       "    </tr>\n",
       "    <tr>\n",
       "      <th>4</th>\n",
       "      <td>0</td>\n",
       "      <td>Nah I don't think he goes to usf, he lives aro...</td>\n",
       "      <td>61</td>\n",
       "      <td>15</td>\n",
       "      <td>1</td>\n",
       "    </tr>\n",
       "    <tr>\n",
       "      <th>...</th>\n",
       "      <td>...</td>\n",
       "      <td>...</td>\n",
       "      <td>...</td>\n",
       "      <td>...</td>\n",
       "      <td>...</td>\n",
       "    </tr>\n",
       "    <tr>\n",
       "      <th>5567</th>\n",
       "      <td>1</td>\n",
       "      <td>This is the 2nd time we have tried 2 contact u...</td>\n",
       "      <td>160</td>\n",
       "      <td>35</td>\n",
       "      <td>4</td>\n",
       "    </tr>\n",
       "    <tr>\n",
       "      <th>5568</th>\n",
       "      <td>0</td>\n",
       "      <td>Will ü b going to esplanade fr home?</td>\n",
       "      <td>36</td>\n",
       "      <td>9</td>\n",
       "      <td>1</td>\n",
       "    </tr>\n",
       "    <tr>\n",
       "      <th>5569</th>\n",
       "      <td>0</td>\n",
       "      <td>Pity, * was in mood for that. So...any other s...</td>\n",
       "      <td>57</td>\n",
       "      <td>15</td>\n",
       "      <td>2</td>\n",
       "    </tr>\n",
       "    <tr>\n",
       "      <th>5570</th>\n",
       "      <td>0</td>\n",
       "      <td>The guy did some bitching but I acted like i'd...</td>\n",
       "      <td>125</td>\n",
       "      <td>27</td>\n",
       "      <td>1</td>\n",
       "    </tr>\n",
       "    <tr>\n",
       "      <th>5571</th>\n",
       "      <td>0</td>\n",
       "      <td>Rofl. Its true to its name</td>\n",
       "      <td>26</td>\n",
       "      <td>7</td>\n",
       "      <td>2</td>\n",
       "    </tr>\n",
       "  </tbody>\n",
       "</table>\n",
       "<p>5157 rows × 5 columns</p>\n",
       "</div>"
      ],
      "text/plain": [
       "      Category                                            Message  \\\n",
       "0            0  Go until jurong point, crazy.. Available only ...   \n",
       "1            0                      Ok lar... Joking wif u oni...   \n",
       "2            1  Free entry in 2 a wkly comp to win FA Cup fina...   \n",
       "3            0  U dun say so early hor... U c already then say...   \n",
       "4            0  Nah I don't think he goes to usf, he lives aro...   \n",
       "...        ...                                                ...   \n",
       "5567         1  This is the 2nd time we have tried 2 contact u...   \n",
       "5568         0               Will ü b going to esplanade fr home?   \n",
       "5569         0  Pity, * was in mood for that. So...any other s...   \n",
       "5570         0  The guy did some bitching but I acted like i'd...   \n",
       "5571         0                         Rofl. Its true to its name   \n",
       "\n",
       "      num_characters  num_words  num_sentence  \n",
       "0                111         24             2  \n",
       "1                 29          8             2  \n",
       "2                155         37             2  \n",
       "3                 49         13             1  \n",
       "4                 61         15             1  \n",
       "...              ...        ...           ...  \n",
       "5567             160         35             4  \n",
       "5568              36          9             1  \n",
       "5569              57         15             2  \n",
       "5570             125         27             1  \n",
       "5571              26          7             2  \n",
       "\n",
       "[5157 rows x 5 columns]"
      ]
     },
     "execution_count": 35,
     "metadata": {},
     "output_type": "execute_result"
    }
   ],
   "source": [
    "df"
   ]
  },
  {
   "cell_type": "code",
   "execution_count": 36,
   "id": "17dec97f",
   "metadata": {},
   "outputs": [
    {
     "data": {
      "text/html": [
       "<div>\n",
       "<style scoped>\n",
       "    .dataframe tbody tr th:only-of-type {\n",
       "        vertical-align: middle;\n",
       "    }\n",
       "\n",
       "    .dataframe tbody tr th {\n",
       "        vertical-align: top;\n",
       "    }\n",
       "\n",
       "    .dataframe thead th {\n",
       "        text-align: right;\n",
       "    }\n",
       "</style>\n",
       "<table border=\"1\" class=\"dataframe\">\n",
       "  <thead>\n",
       "    <tr style=\"text-align: right;\">\n",
       "      <th></th>\n",
       "      <th>Category</th>\n",
       "      <th>num_characters</th>\n",
       "      <th>num_words</th>\n",
       "      <th>num_sentence</th>\n",
       "    </tr>\n",
       "  </thead>\n",
       "  <tbody>\n",
       "    <tr>\n",
       "      <th>count</th>\n",
       "      <td>4516.0</td>\n",
       "      <td>4516.000000</td>\n",
       "      <td>4516.000000</td>\n",
       "      <td>4516.000000</td>\n",
       "    </tr>\n",
       "    <tr>\n",
       "      <th>mean</th>\n",
       "      <td>0.0</td>\n",
       "      <td>70.869353</td>\n",
       "      <td>17.264836</td>\n",
       "      <td>1.806244</td>\n",
       "    </tr>\n",
       "    <tr>\n",
       "      <th>std</th>\n",
       "      <td>0.0</td>\n",
       "      <td>56.708301</td>\n",
       "      <td>13.587852</td>\n",
       "      <td>1.281910</td>\n",
       "    </tr>\n",
       "    <tr>\n",
       "      <th>min</th>\n",
       "      <td>0.0</td>\n",
       "      <td>2.000000</td>\n",
       "      <td>1.000000</td>\n",
       "      <td>1.000000</td>\n",
       "    </tr>\n",
       "    <tr>\n",
       "      <th>25%</th>\n",
       "      <td>0.0</td>\n",
       "      <td>34.000000</td>\n",
       "      <td>8.000000</td>\n",
       "      <td>1.000000</td>\n",
       "    </tr>\n",
       "    <tr>\n",
       "      <th>50%</th>\n",
       "      <td>0.0</td>\n",
       "      <td>53.000000</td>\n",
       "      <td>13.000000</td>\n",
       "      <td>1.000000</td>\n",
       "    </tr>\n",
       "    <tr>\n",
       "      <th>75%</th>\n",
       "      <td>0.0</td>\n",
       "      <td>91.000000</td>\n",
       "      <td>22.000000</td>\n",
       "      <td>2.000000</td>\n",
       "    </tr>\n",
       "    <tr>\n",
       "      <th>max</th>\n",
       "      <td>0.0</td>\n",
       "      <td>910.000000</td>\n",
       "      <td>220.000000</td>\n",
       "      <td>28.000000</td>\n",
       "    </tr>\n",
       "  </tbody>\n",
       "</table>\n",
       "</div>"
      ],
      "text/plain": [
       "       Category  num_characters    num_words  num_sentence\n",
       "count    4516.0     4516.000000  4516.000000   4516.000000\n",
       "mean        0.0       70.869353    17.264836      1.806244\n",
       "std         0.0       56.708301    13.587852      1.281910\n",
       "min         0.0        2.000000     1.000000      1.000000\n",
       "25%         0.0       34.000000     8.000000      1.000000\n",
       "50%         0.0       53.000000    13.000000      1.000000\n",
       "75%         0.0       91.000000    22.000000      2.000000\n",
       "max         0.0      910.000000   220.000000     28.000000"
      ]
     },
     "execution_count": 36,
     "metadata": {},
     "output_type": "execute_result"
    }
   ],
   "source": [
    "df[df['Category']==0].describe()\n"
   ]
  },
  {
   "cell_type": "code",
   "execution_count": 37,
   "id": "f3fed30d",
   "metadata": {},
   "outputs": [
    {
     "data": {
      "text/html": [
       "<div>\n",
       "<style scoped>\n",
       "    .dataframe tbody tr th:only-of-type {\n",
       "        vertical-align: middle;\n",
       "    }\n",
       "\n",
       "    .dataframe tbody tr th {\n",
       "        vertical-align: top;\n",
       "    }\n",
       "\n",
       "    .dataframe thead th {\n",
       "        text-align: right;\n",
       "    }\n",
       "</style>\n",
       "<table border=\"1\" class=\"dataframe\">\n",
       "  <thead>\n",
       "    <tr style=\"text-align: right;\">\n",
       "      <th></th>\n",
       "      <th>Category</th>\n",
       "      <th>num_characters</th>\n",
       "      <th>num_words</th>\n",
       "      <th>num_sentence</th>\n",
       "    </tr>\n",
       "  </thead>\n",
       "  <tbody>\n",
       "    <tr>\n",
       "      <th>count</th>\n",
       "      <td>641.0</td>\n",
       "      <td>641.000000</td>\n",
       "      <td>641.000000</td>\n",
       "      <td>641.000000</td>\n",
       "    </tr>\n",
       "    <tr>\n",
       "      <th>mean</th>\n",
       "      <td>1.0</td>\n",
       "      <td>137.118565</td>\n",
       "      <td>27.667707</td>\n",
       "      <td>2.967239</td>\n",
       "    </tr>\n",
       "    <tr>\n",
       "      <th>std</th>\n",
       "      <td>0.0</td>\n",
       "      <td>30.399707</td>\n",
       "      <td>7.103501</td>\n",
       "      <td>1.480241</td>\n",
       "    </tr>\n",
       "    <tr>\n",
       "      <th>min</th>\n",
       "      <td>1.0</td>\n",
       "      <td>7.000000</td>\n",
       "      <td>2.000000</td>\n",
       "      <td>1.000000</td>\n",
       "    </tr>\n",
       "    <tr>\n",
       "      <th>25%</th>\n",
       "      <td>1.0</td>\n",
       "      <td>130.000000</td>\n",
       "      <td>25.000000</td>\n",
       "      <td>2.000000</td>\n",
       "    </tr>\n",
       "    <tr>\n",
       "      <th>50%</th>\n",
       "      <td>1.0</td>\n",
       "      <td>148.000000</td>\n",
       "      <td>29.000000</td>\n",
       "      <td>3.000000</td>\n",
       "    </tr>\n",
       "    <tr>\n",
       "      <th>75%</th>\n",
       "      <td>1.0</td>\n",
       "      <td>157.000000</td>\n",
       "      <td>32.000000</td>\n",
       "      <td>4.000000</td>\n",
       "    </tr>\n",
       "    <tr>\n",
       "      <th>max</th>\n",
       "      <td>1.0</td>\n",
       "      <td>223.000000</td>\n",
       "      <td>46.000000</td>\n",
       "      <td>8.000000</td>\n",
       "    </tr>\n",
       "  </tbody>\n",
       "</table>\n",
       "</div>"
      ],
      "text/plain": [
       "       Category  num_characters   num_words  num_sentence\n",
       "count     641.0      641.000000  641.000000    641.000000\n",
       "mean        1.0      137.118565   27.667707      2.967239\n",
       "std         0.0       30.399707    7.103501      1.480241\n",
       "min         1.0        7.000000    2.000000      1.000000\n",
       "25%         1.0      130.000000   25.000000      2.000000\n",
       "50%         1.0      148.000000   29.000000      3.000000\n",
       "75%         1.0      157.000000   32.000000      4.000000\n",
       "max         1.0      223.000000   46.000000      8.000000"
      ]
     },
     "execution_count": 37,
     "metadata": {},
     "output_type": "execute_result"
    }
   ],
   "source": [
    "df[df['Category']==1].describe()\n"
   ]
  },
  {
   "cell_type": "code",
   "execution_count": 38,
   "id": "b0ec0a53",
   "metadata": {},
   "outputs": [
    {
     "data": {
      "text/plain": [
       "<AxesSubplot:xlabel='num_characters', ylabel='Count'>"
      ]
     },
     "execution_count": 38,
     "metadata": {},
     "output_type": "execute_result"
    },
    {
     "data": {
      "image/png": "[encoded data removed]",
      "text/plain": [
       "<Figure size 864x432 with 1 Axes>"
      ]
     },
     "metadata": {
      "needs_background": "light"
     },
     "output_type": "display_data"
    }
   ],
   "source": [
    "plt.figure(figsize=(12,6))\n",
    "sns.histplot(df[df['Category']==1]['num_characters'],color='green')\n",
    "sns.histplot(df[df['Category']==0]['num_characters'],color='red')"
   ]
  },
  {
   "cell_type": "code",
   "execution_count": 39,
   "id": "5700740a",
   "metadata": {},
   "outputs": [
    {
     "data": {
      "text/plain": [
       "<AxesSubplot:xlabel='num_words', ylabel='Count'>"
      ]
     },
     "execution_count": 39,
     "metadata": {},
     "output_type": "execute_result"
    },
    {
     "data": {
      "image/png": "[encoded data removed]",
      "text/plain": [
       "<Figure size 864x432 with 1 Axes>"
      ]
     },
     "metadata": {
      "needs_background": "light"
     },
     "output_type": "display_data"
    }
   ],
   "source": [
    "plt.figure(figsize=(12,6))\n",
    "sns.histplot(df[df['Category']==1]['num_words'],color='green')\n",
    "sns.histplot(df[df['Category']==0]['num_words'],color='red')"
   ]
  },
  {
   "cell_type": "code",
   "execution_count": 40,
   "id": "61fdee8a",
   "metadata": {},
   "outputs": [
    {
     "data": {
      "text/plain": [
       "<AxesSubplot:xlabel='num_sentence', ylabel='Count'>"
      ]
     },
     "execution_count": 40,
     "metadata": {},
     "output_type": "execute_result"
    },
    {
     "data": {
      "image/png": "[encoded data removed]",
      "text/plain": [
       "<Figure size 864x432 with 1 Axes>"
      ]
     },
     "metadata": {
      "needs_background": "light"
     },
     "output_type": "display_data"
    }
   ],
   "source": [
    "\n",
    "plt.figure(figsize=(12,6))\n",
    "sns.histplot(df[df['Category']==1]['num_sentence'],color='green')\n",
    "sns.histplot(df[df['Category']==0]['num_sentence'],color='red')"
   ]
  },
  {
   "cell_type": "code",
   "execution_count": 41,
   "id": "a36c8da9",
   "metadata": {},
   "outputs": [
    {
     "data": {
      "text/plain": [
       "<seaborn.axisgrid.PairGrid at 0x180f3a43af0>"
      ]
     },
     "execution_count": 41,
     "metadata": {},
     "output_type": "execute_result"
    },
    {
     "data": {
      "image/png": "[encoded data removed]",
      "text/plain": [
       "<Figure size 593.375x540 with 12 Axes>"
      ]
     },
     "metadata": {
      "needs_background": "light"
     },
     "output_type": "display_data"
    }
   ],
   "source": [
    "sns.pairplot(data=df,hue='Category')"
   ]
  },
  {
   "cell_type": "code",
   "execution_count": 42,
   "id": "06f5786a",
   "metadata": {},
   "outputs": [
    {
     "data": {
      "text/plain": [
       "<AxesSubplot:>"
      ]
     },
     "execution_count": 42,
     "metadata": {},
     "output_type": "execute_result"
    },
    {
     "data": {
      "image/png": "[encoded data removed]",
      "text/plain": [
       "<Figure size 432x288 with 2 Axes>"
      ]
     },
     "metadata": {
      "needs_background": "light"
     },
     "output_type": "display_data"
    }
   ],
   "source": [
    "sns.heatmap(df.corr(),annot=True)"
   ]
  },
  {
   "cell_type": "markdown",
   "id": "806757f0",
   "metadata": {},
   "source": [
    "# Data Preprocessing"
   ]
  },
  {
   "cell_type": "markdown",
   "id": "2b955ae6",
   "metadata": {},
   "source": [
    "1. Lowercase\n",
    "2. Tokenization\n",
    "3. Removing special characters\n",
    "4. Removing stop words and punctuation\n",
    "5. stemming"
   ]
  },
  {
   "cell_type": "code",
   "execution_count": 43,
   "id": "cc587b55",
   "metadata": {},
   "outputs": [],
   "source": [
    "import nltk"
   ]
  },
  {
   "cell_type": "code",
   "execution_count": 44,
   "id": "6f4c882f",
   "metadata": {},
   "outputs": [],
   "source": [
    "from nltk.stem import PorterStemmer"
   ]
  },
  {
   "cell_type": "code",
   "execution_count": 45,
   "id": "8cc22089",
   "metadata": {},
   "outputs": [],
   "source": [
    "from nltk.corpus import stopwords"
   ]
  },
  {
   "cell_type": "code",
   "execution_count": 46,
   "id": "114bde64",
   "metadata": {},
   "outputs": [],
   "source": [
    "import string"
   ]
  },
  {
   "cell_type": "code",
   "execution_count": 47,
   "id": "073071ad",
   "metadata": {},
   "outputs": [
    {
     "name": "stderr",
     "output_type": "stream",
     "text": [
      "[nltk_data] Downloading package stopwords to\n",
      "[nltk_data]     C:\\Users\\himanshu\\AppData\\Roaming\\nltk_data...\n",
      "[nltk_data]   Package stopwords is already up-to-date!\n"
     ]
    },
    {
     "data": {
      "text/plain": [
       "True"
      ]
     },
     "execution_count": 47,
     "metadata": {},
     "output_type": "execute_result"
    }
   ],
   "source": [
    "nltk.download('stopwords')"
   ]
  },
  {
   "cell_type": "code",
   "execution_count": 48,
   "id": "a9666d3d",
   "metadata": {},
   "outputs": [],
   "source": [
    "ps=PorterStemmer()"
   ]
  },
  {
   "cell_type": "code",
   "execution_count": 49,
   "id": "04de0a37",
   "metadata": {},
   "outputs": [],
   "source": [
    "def transform_text(text):\n",
    "    text=text.lower()\n",
    "    text=nltk.word_tokenize(text)\n",
    "    \n",
    "    y=[]\n",
    "    \n",
    "    for i in text:\n",
    "        if i.isalnum():\n",
    "            y.append(i)\n",
    "    text=y[:]\n",
    "    \n",
    "    y.clear()\n",
    "    \n",
    "    for i in text:\n",
    "        if i not in stopwords.words('english') and i not in string.punctuation:\n",
    "            y.append(i)\n",
    "    text=y[:]\n",
    "    y.clear()\n",
    "    \n",
    "    for i in text:\n",
    "        y.append(ps.stem(i))\n",
    "    \n",
    "    return \"\".join(y)"
   ]
  },
  {
   "cell_type": "code",
   "execution_count": 50,
   "id": "99aeb3f4",
   "metadata": {},
   "outputs": [],
   "source": [
    "df['transformed_text']=df['Message'].apply(transform_text)"
   ]
  },
  {
   "cell_type": "code",
   "execution_count": 51,
   "id": "24b3f944",
   "metadata": {},
   "outputs": [
    {
     "data": {
      "text/plain": [
       "'love'"
      ]
     },
     "execution_count": 51,
     "metadata": {},
     "output_type": "execute_result"
    }
   ],
   "source": [
    "ps.stem(\"loving\")"
   ]
  },
  {
   "cell_type": "code",
   "execution_count": 52,
   "id": "2caf2597",
   "metadata": {},
   "outputs": [
    {
     "data": {
      "text/html": [
       "<div>\n",
       "<style scoped>\n",
       "    .dataframe tbody tr th:only-of-type {\n",
       "        vertical-align: middle;\n",
       "    }\n",
       "\n",
       "    .dataframe tbody tr th {\n",
       "        vertical-align: top;\n",
       "    }\n",
       "\n",
       "    .dataframe thead th {\n",
       "        text-align: right;\n",
       "    }\n",
       "</style>\n",
       "<table border=\"1\" class=\"dataframe\">\n",
       "  <thead>\n",
       "    <tr style=\"text-align: right;\">\n",
       "      <th></th>\n",
       "      <th>Category</th>\n",
       "      <th>Message</th>\n",
       "      <th>num_characters</th>\n",
       "      <th>num_words</th>\n",
       "      <th>num_sentence</th>\n",
       "      <th>transformed_text</th>\n",
       "    </tr>\n",
       "  </thead>\n",
       "  <tbody>\n",
       "    <tr>\n",
       "      <th>0</th>\n",
       "      <td>0</td>\n",
       "      <td>Go until jurong point, crazy.. Available only ...</td>\n",
       "      <td>111</td>\n",
       "      <td>24</td>\n",
       "      <td>2</td>\n",
       "      <td>gojurongpointcraziavailbugingreatworldlaebuffe...</td>\n",
       "    </tr>\n",
       "    <tr>\n",
       "      <th>1</th>\n",
       "      <td>0</td>\n",
       "      <td>Ok lar... Joking wif u oni...</td>\n",
       "      <td>29</td>\n",
       "      <td>8</td>\n",
       "      <td>2</td>\n",
       "      <td>oklarjokewifuoni</td>\n",
       "    </tr>\n",
       "    <tr>\n",
       "      <th>2</th>\n",
       "      <td>1</td>\n",
       "      <td>Free entry in 2 a wkly comp to win FA Cup fina...</td>\n",
       "      <td>155</td>\n",
       "      <td>37</td>\n",
       "      <td>2</td>\n",
       "      <td>freeentri2wklicompwinfacupfinaltkt21stmaytextf...</td>\n",
       "    </tr>\n",
       "    <tr>\n",
       "      <th>3</th>\n",
       "      <td>0</td>\n",
       "      <td>U dun say so early hor... U c already then say...</td>\n",
       "      <td>49</td>\n",
       "      <td>13</td>\n",
       "      <td>1</td>\n",
       "      <td>udunsayearlihorucalreadisay</td>\n",
       "    </tr>\n",
       "    <tr>\n",
       "      <th>4</th>\n",
       "      <td>0</td>\n",
       "      <td>Nah I don't think he goes to usf, he lives aro...</td>\n",
       "      <td>61</td>\n",
       "      <td>15</td>\n",
       "      <td>1</td>\n",
       "      <td>nahthinkgoeusflivearoundthough</td>\n",
       "    </tr>\n",
       "    <tr>\n",
       "      <th>...</th>\n",
       "      <td>...</td>\n",
       "      <td>...</td>\n",
       "      <td>...</td>\n",
       "      <td>...</td>\n",
       "      <td>...</td>\n",
       "      <td>...</td>\n",
       "    </tr>\n",
       "    <tr>\n",
       "      <th>5567</th>\n",
       "      <td>1</td>\n",
       "      <td>This is the 2nd time we have tried 2 contact u...</td>\n",
       "      <td>160</td>\n",
       "      <td>35</td>\n",
       "      <td>4</td>\n",
       "      <td>2ndtimetri2contactupoundprize2claimeasicall087...</td>\n",
       "    </tr>\n",
       "    <tr>\n",
       "      <th>5568</th>\n",
       "      <td>0</td>\n",
       "      <td>Will ü b going to esplanade fr home?</td>\n",
       "      <td>36</td>\n",
       "      <td>9</td>\n",
       "      <td>1</td>\n",
       "      <td>übgoesplanadfrhome</td>\n",
       "    </tr>\n",
       "    <tr>\n",
       "      <th>5569</th>\n",
       "      <td>0</td>\n",
       "      <td>Pity, * was in mood for that. So...any other s...</td>\n",
       "      <td>57</td>\n",
       "      <td>15</td>\n",
       "      <td>2</td>\n",
       "      <td>pitimoodsuggest</td>\n",
       "    </tr>\n",
       "    <tr>\n",
       "      <th>5570</th>\n",
       "      <td>0</td>\n",
       "      <td>The guy did some bitching but I acted like i'd...</td>\n",
       "      <td>125</td>\n",
       "      <td>27</td>\n",
       "      <td>1</td>\n",
       "      <td>guybitchactlikeinterestbuysomethelsnextweekgav...</td>\n",
       "    </tr>\n",
       "    <tr>\n",
       "      <th>5571</th>\n",
       "      <td>0</td>\n",
       "      <td>Rofl. Its true to its name</td>\n",
       "      <td>26</td>\n",
       "      <td>7</td>\n",
       "      <td>2</td>\n",
       "      <td>rofltruename</td>\n",
       "    </tr>\n",
       "  </tbody>\n",
       "</table>\n",
       "<p>5157 rows × 6 columns</p>\n",
       "</div>"
      ],
      "text/plain": [
       "      Category                                            Message  \\\n",
       "0            0  Go until jurong point, crazy.. Available only ...   \n",
       "1            0                      Ok lar... Joking wif u oni...   \n",
       "2            1  Free entry in 2 a wkly comp to win FA Cup fina...   \n",
       "3            0  U dun say so early hor... U c already then say...   \n",
       "4            0  Nah I don't think he goes to usf, he lives aro...   \n",
       "...        ...                                                ...   \n",
       "5567         1  This is the 2nd time we have tried 2 contact u...   \n",
       "5568         0               Will ü b going to esplanade fr home?   \n",
       "5569         0  Pity, * was in mood for that. So...any other s...   \n",
       "5570         0  The guy did some bitching but I acted like i'd...   \n",
       "5571         0                         Rofl. Its true to its name   \n",
       "\n",
       "      num_characters  num_words  num_sentence  \\\n",
       "0                111         24             2   \n",
       "1                 29          8             2   \n",
       "2                155         37             2   \n",
       "3                 49         13             1   \n",
       "4                 61         15             1   \n",
       "...              ...        ...           ...   \n",
       "5567             160         35             4   \n",
       "5568              36          9             1   \n",
       "5569              57         15             2   \n",
       "5570             125         27             1   \n",
       "5571              26          7             2   \n",
       "\n",
       "                                       transformed_text  \n",
       "0     gojurongpointcraziavailbugingreatworldlaebuffe...  \n",
       "1                                      oklarjokewifuoni  \n",
       "2     freeentri2wklicompwinfacupfinaltkt21stmaytextf...  \n",
       "3                           udunsayearlihorucalreadisay  \n",
       "4                        nahthinkgoeusflivearoundthough  \n",
       "...                                                 ...  \n",
       "5567  2ndtimetri2contactupoundprize2claimeasicall087...  \n",
       "5568                                 übgoesplanadfrhome  \n",
       "5569                                    pitimoodsuggest  \n",
       "5570  guybitchactlikeinterestbuysomethelsnextweekgav...  \n",
       "5571                                       rofltruename  \n",
       "\n",
       "[5157 rows x 6 columns]"
      ]
     },
     "execution_count": 52,
     "metadata": {},
     "output_type": "execute_result"
    }
   ],
   "source": [
    "df"
   ]
  },
  {
   "cell_type": "code",
   "execution_count": 53,
   "id": "bca54e7d",
   "metadata": {},
   "outputs": [],
   "source": [
    "spam_corpus=[]"
   ]
  },
  {
   "cell_type": "code",
   "execution_count": 54,
   "id": "d7526e70",
   "metadata": {},
   "outputs": [],
   "source": [
    "for msg in df[df['Category']==1]['transformed_text'].tolist():\n",
    "    for word in msg.split():\n",
    "        spam_corpus.append(word)"
   ]
  },
  {
   "cell_type": "code",
   "execution_count": 55,
   "id": "56083936",
   "metadata": {},
   "outputs": [
    {
     "data": {
      "text/plain": [
       "641"
      ]
     },
     "execution_count": 55,
     "metadata": {},
     "output_type": "execute_result"
    }
   ],
   "source": [
    "len(spam_corpus)"
   ]
  },
  {
   "cell_type": "code",
   "execution_count": 56,
   "id": "c226c5f8",
   "metadata": {},
   "outputs": [
    {
     "data": {
      "text/plain": [
       "['freeentri2wklicompwinfacupfinaltkt21stmaytextfa87121receiventriquestionstdtxtratecappli08452810075over18',\n",
       " 'freemsgheydarl3weekwordbacklikefunstilltbokxxxstdchgsendrcv',\n",
       " 'winnervalunetworkcustomselectreceiveaprizerewardclaimcallclaimcodekl341valid12hour',\n",
       " 'mobil11monthurentitlupdatlatestcolourmobilcamerafreecallmobilupdatcofree08002986030',\n",
       " 'sixchancwincash100poundtxtcsh11sendcost6daytsandcapplireplihl4info',\n",
       " 'urgent1weekfreemembershipprizejackpottxtwordclaim81010clccltdpobox4403ldnw1a7rw18',\n",
       " 'xxxmobilemovieclubusecreditclickwaplinknexttxtmessagclickhttp',\n",
       " 'englandvmacedoniadontmissnewstxturnationteam87077egengland87077triwalescotlandpoboxox36504w45wq',\n",
       " 'thanksubscriptringtonukmobilchargpleasconfirmrepliyereplicharg',\n",
       " '07732584351rodgerburnmsgtricallreplismfreenokiamobilfreecamcordpleascall08000930705deliveritomorrow',\n",
       " 'smacsptvnewjerseydevildetroitredwingplayicehockeycorrectincorrectendrepliendsptv',\n",
       " 'congrat1yearspecialcinemapass2call09061209465csuprmanvmatrix3starwars3etc4free150pmdontmiss',\n",
       " 'valucustompleasadvisfollowrecentreviewmobawardbonuprizecall09066364589',\n",
       " 'urgenturawardcomplimentaritripeurodisinctravacoentry41claimtxtdi87121morefrmmobshracomorsglsuplt10ls13aj',\n",
       " 'hearnewdivorcbarbicomekenstuff',\n",
       " 'pleascallcustomservicrepres08001696031guarantecashprize',\n",
       " 'freeringtonwaitcollectsimplitextpasswordmix85069verifigetusherbritneyfmlpobox5249mk1792h450ppw16',\n",
       " 'genttricontactlastweekenddrawshowprizeguarantecallclaimcodek52valid12hr150ppm',\n",
       " 'winneruspecialselect2receiv4holidayflightincspeakliveoper2claim',\n",
       " 'privat2004accountstatement07742676969show786unredeembonupointclaimcall08719180248identificode45239expir',\n",
       " 'urgentmobilawardbonucallerprizefinaltricontactucalllandlin09064019788box42wr29c150ppm',\n",
       " 'todayvodanumberend7548selectreceiv350awardmatchpleascall08712300220quotclaimcode4041standardrateapp',\n",
       " 'sunshinquizwkliqwintopsonidvdplayeruknowcountrialgarvtxtansr82277sptyron',\n",
       " 'want2getlaidtonightwantrealdoglocatsentdirect2urmobjoinuklargestdognetworkbttxtinggravel69888ntec2a150p',\n",
       " 'rcvmsgchatsvcfreehardcorservictextgo69988ugetnothumustageverifiyrnetworktri',\n",
       " 'freemsgreplitextrandisexifemallivelocalluvhearnetcollexltd08700621170150ppermsgreplistopend',\n",
       " 'customservicannoncnewyeardeliveriwaitpleascall07046744435arrangdeliveri',\n",
       " 'winneruspecialselect2receivcash4holidayflightincspeakliveoper2claim0871277810810',\n",
       " 'stopbootydeliinvitfriendrepliseestopsendstopfrnd62468',\n",
       " 'bangbaburorderwayureceivservicmsg2downloadurcontentugotowapbangbtvurmobilmenu',\n",
       " 'urgenttricontactlastweekenddrawshowprizeguarantecallclaimcodes89valid12hr',\n",
       " 'pleascallcustomservicrepresfreephon08081454742guarantecashprize',\n",
       " 'uniquenoughfind30thaugust',\n",
       " '500newmobil2004mustgotxtnokia89545collecttoday2optout',\n",
       " 'umeeturdreampartnersoonurcareer2flyngstart2findfreetxthorofollowurstarsignhoroari',\n",
       " 'textmeetsomeonsexitodayufinddateevenflirtjoin410preplinameageegsam2518recdthirtyeightpenc',\n",
       " 'u447801259231secretadmirlook2makecontactrrevealthinkur09058094597',\n",
       " 'congratuluraward500cdvoucher125giftguarantefreeentri2100wklidrawtxtmusic87066tnc',\n",
       " 'tricontactreplioffervideohandset750anytimnetworkminunlimittextcamcordreplicall08000930705',\n",
       " 'heyreallihorniwantchatseenaketexthot69698textcharg150pmunsubscribtextstop69698',\n",
       " 'urringtonservicchang25freecreditgochooscontentstoptxtclubstop87070club4pobox1146mk452wt',\n",
       " 'ringtonclubgetuksinglchartmobilweekchoostopqualitiringtonmessagfreecharg',\n",
       " 'hmvbonuspecial500poundgenuinhmvvoucheranswer4easiquestionplaysendhmv86688info',\n",
       " 'custommayclaimfreecameraphoneupgradpaygosimcardloyalticall0845021endcappli',\n",
       " 'smacblinddate4urodds1aberdeenunitkingdomcheckhttpsmblinddatesendhide',\n",
       " 'themobchecknewestselectcontentgametonegossipbabesportkeepmobilfitfunkitextwap82468',\n",
       " 'thinkursmartwinweekweekliquiztextplay85222cswinnersclubpobox84m263uz',\n",
       " 'decembmobilentitlupdatlatestcolourcameramobilfreecallmobilupdatcofree08002986906',\n",
       " 'callgermani1pencperminutcallfixlineviaaccessnumber084486185prepaydirectaccess',\n",
       " 'valentindayspecialwinquiztakepartnertriplifetimsendgo83600rcvd',\n",
       " 'fancishagtxtxxuksuzitxtcostpermsgtncwebsitx',\n",
       " 'urcurrent500poundmaximursendcash86688cc08708800282',\n",
       " 'xmaofferlatestmotorolasonyericssonnokiafreebluetoothdoublmin1000txtorangcallmobileupd808000839402',\n",
       " 'discountcoderp176781stopmessagreplistopcustomservic08717205546',\n",
       " 'thankringtonorderrefert91charggbp4perweekunsubscribanytimcallcustomservic09057039994',\n",
       " 'doublmintxt46monthfreebluetoothorangavailsoninokiamotorolaphonecallmobileupd808000839402',\n",
       " '4mthhalfpriceoranglinerentallatestcameraphone4freephone11mthcallmobilesdirectfree08000938767updator2stoptxt',\n",
       " 'freeringtontextfirst87131politextget87131truetonehelp08452814032161stfreetonetxtstop',\n",
       " '100dateserviccall09064012103box334sk38ch',\n",
       " 'freeentriweeklicompetittextwordwin8008618c',\n",
       " 'sendlogo2urlover2namejoinhearttxtlovename1name2mobnoegloveadameve0712345678987077yahoopobox36504w45wqtxtno4ad150p',\n",
       " 'someoncontactdateservicenterphonefancifindcalllandlin09111032124pobox12n146tf150p',\n",
       " 'urgentmobilnumberawardprizeguarantecall09058094455landlineclaimvalid12hr',\n",
       " 'congratnokia3650videocameraphonecall09066382422callcost150ppmavecall3minvarimobilclose300603postbcm4284ldnwc1n3xx',\n",
       " 'loanpurposhomeowntenantwelcompreviousrefusstillhelpcallfree08001956669textback',\n",
       " 'upgrdcentrorangcustommayclaimfreecameraphoneupgradloyalticall0207153offerend26thjulicappliavail',\n",
       " 'okmaildeardavefinalnoticcollect4tenerifholiday5000cashawardcall09061743806landlintcsaebox326cw25wx150ppm',\n",
       " 'want2getlaidtonightwantrealdoglocatsentdirect2urmobjoinuklargestdognetworktxtingmoan69888nytec2a150p',\n",
       " 'freemessagactiv500freetextmessagreplimessagwordfreetermconditvisit',\n",
       " 'error',\n",
       " 'guarantelatestnokiaphone40gbipodmp3playerprizetxtwordcollect83355ibhltdldnw15h',\n",
       " 'boltblutone150preplipolimonoegpoly3chachaslideyeahslowjamztoxiccomestop4tonetxt',\n",
       " 'credittophttprenewpintgxxrz',\n",
       " 'urgentmobilawardbonucallerprize2ndattemptcontactcallbox95qu',\n",
       " 'todayofferclaimurworthdiscountvouchertextye85023savamobmemberoffermobilcs08717898035sub16unsubreplix',\n",
       " 'recievtonewithinnext24hrtermconditpleasseechanneluteletextpg750',\n",
       " 'privat2003accountstatement07815296484show800pointcall08718738001identificode41782expir',\n",
       " 'monthlysubscriptcscwebage162stoptxtstop',\n",
       " 'cashprizeclaimcall09050000327',\n",
       " 'mobilnumberclaimcallusbackringclaimhotline09050005321',\n",
       " 'tricontactreplioffer750min150textandnewvideophonecall08002988890replifreedeliveritomorrow',\n",
       " 'urchancwinwklishopspreetxtshopccustcar08715705022',\n",
       " 'specialselectreceiv2000poundawardcall08712402050lineclosecost10ppmcsappliagpromo',\n",
       " 'privat2003accountstatement07753741225show800pointcall08715203677identificode42478expir',\n",
       " 'importcustomservicannounccallfreephon08005420825',\n",
       " 'xclusivclubsaisai2morowsoirespecialzouknicholrose2ladiinfo',\n",
       " '22daykickeuro2004ukeptdatelatestnewsresultdailiremovsendgettxtstop83222',\n",
       " 'newtextbuddichat2horniguyurarea425pfree2receivsearchpostcodtxtonename89693',\n",
       " 'todayvodafonnumberend4882selectreceivawardnumbermatchcall09064019014receivaward',\n",
       " 'dearvoucherholder2claimweekofferpcgohttptscsstoptexttxtstop80062',\n",
       " 'privat2003accountstatementshow800pointcall08715203694identificode40533expir',\n",
       " 'cashprizeclaimcall09050000327crstmsw73ss150ppm',\n",
       " '8880089034premiumphoneserviccall08718711108',\n",
       " 'smacsun0819posthelloseemcoolwantsayhihistopsendstop62468',\n",
       " 'getur1stringtonfreereplimsgtonegr8top20tonephoneeveriweekperwk2optsendstop0845281007116',\n",
       " 'hisue20yearoldworklapdanclovesextextlivebedroomtextsuetextoperg21da150ppmsg',\n",
       " 'forward448712404000pleascall08712404000immediurgentmessagwait',\n",
       " 'reviewkeepfantastnokiagamedeckclubnokiago2unsubscribalertrepliword',\n",
       " '4mthhalfpriceoranglinerentallatestcameraphone4freephonecallmobilesdirectfree08000938767updator2stoptxtcs',\n",
       " '08714712388cost10p',\n",
       " 'guarantecashprizeclaimyrprizecallcustomservicrepres08714712394',\n",
       " 'emailalertfromjeristewarts2kbsubjectprescripitondrvgstolistenemailcall123',\n",
       " 'hicustomloyaltioffernewnokia6650mobiltxtauctiontxtwordstart81151get4tctxttc',\n",
       " 'usubscribbestmobilcontentservicukper10daysendstophelplin08706091795',\n",
       " 'realiz40yearthousandoldladirunaroundtattoo',\n",
       " 'importcustomservicannouncpremier',\n",
       " 'romantpari2night2flightbook4nextyearcall08704439680tcsappli',\n",
       " 'urgenturguaranteawardstillunclaimcall09066368327claimcodm39m51',\n",
       " 'urawardcitibreakcouldwinsummershopspreeeveriwktxtstore88039skilgmtscs087147403231winawkage16',\n",
       " 'importcustomservicannouncpremiercallfreephon08005420578',\n",
       " 'everthoughtlivegoodlifeperfectpartnertxtbacknameagejoinmobilcommun',\n",
       " '5freetoppolyphontonecall087018728737nationrategettoppolitunesenteveriweektextsubpoli81618perpoleunsub08718727870',\n",
       " 'orangcustommayclaimfreecameraphoneupgradloyalticall0207153offerend14thmarchcappliavaila',\n",
       " 'lastchancclaimurworthdiscountvouchertodaytextshop85023savamoboffermobilcssavamobpobox84m263uzsub16',\n",
       " 'free1stweekno1nokiatone4urmobileveriweektxtnokia8077gettxtingtellurmatepobox36504w45wq',\n",
       " 'guaranteawardevencashtoclaimurawardcallfree080004071652stopgetstop88222phprg214jx',\n",
       " 'congratulurawardeithercdgiftvoucherfreeentri2weeklidrawtxtmusic87066tnc',\n",
       " 'uoutbidsimonwatson5120shincodvdplyr2bidvisitsm2endbidnotifrepliend',\n",
       " 'smsservicyourinclustextcreditplgoto3qxj9unsubscribstopextracharghelp9ae',\n",
       " '25p4alfimoonchildrenneedsongurmobtellurm8txttonechariti8007nokiapolicharitipolized08701417012profit2chariti',\n",
       " 'usecretadmirrevealthinkurspecialcalloptreplirevealstoppermsgrecdcustcare07821230901',\n",
       " 'dearvoucherholderclaimweekofferpcpleasgohttptscsapplistoptexttxtstop80062',\n",
       " 'want750anytimnetworkmin150textnewvideophonefivepoundperweekcall08002888812replideliveritomorrow',\n",
       " 'tricontactoffernewvideophone750anytimnetworkminhalfpricerentalcamcordcall08000930705replideliveriwed',\n",
       " 'lastchanc2claimurworthdiscountye85023offermobilcs08717898035sub16removtxtxstop',\n",
       " 'urgentcall09066350750landlincomplimentari4ibizaholidaycashawaitcollectsaecspobox434sk38wp150ppm',\n",
       " 'talkseximakenewfriendfallloveworlddiscreettextdateservictextvip83110seecouldmeet',\n",
       " 'congratulurawardeitheryrsupplicdvirginrecordmysterigiftguarantecall09061104283tscsapprox3min',\n",
       " 'privat2003accountstatement07808xxxxxxshow800pointcall08719899217identificode41685expir',\n",
       " 'helloneedposhbirdchapusertrialprodchampneyputneedaddressdobasaptar',\n",
       " 'uwantxma100freetextmessagnewvideophonehalfpricelinerentalcallfree08000721072find',\n",
       " 'shoptilludropeither10k5kcashtravelvouchercallnttpoboxcr01327btfixedlincost150ppmmobilvari',\n",
       " 'sunshinquizwkliqwintopsonidvdplayeruknowcountriliverpoolplaymidweektxtansr82277sptyron',\n",
       " 'usecretadmirlook2makecontactrrevealthinkur09058094565',\n",
       " 'usecretadmirlook2makecontactrrevealthinkur',\n",
       " 'reminddownloadcontentalreadipaidgotohttpmymobicollectcontent',\n",
       " 'lasteststereophonmarleydizzeracallibertinstrokewinnookiigameflirtclickthemobwapbookmarktextwap82468',\n",
       " 'januarimalesalehotgaychatcheapercallnationratecheappeakstoptextcall08712460324',\n",
       " 'moneyrluckiwinner2claimprizetextmoney288600giveawaytextratebox403w1t1ji',\n",
       " 'dearmatthewpleascall09063440451landlincomplimentari4luxtenerifholidaycashawaitcollectppm150saecsbox334sk38xh',\n",
       " 'urgentcall09061749602landlincomplimentari4tenerifholidaycashawaitcollectsaecsbox528hp201yf150ppm',\n",
       " 'gettouchfolkwaitcompanitxtbacknameageoptenjoycommun',\n",
       " 'urcurrent500poundmaximursendgo86688cc08718720201pobox',\n",
       " 'filthistorigirlwait',\n",
       " 'urgenttricontacttodaydrawshowprizeguarantecall09050001808landlineclaimm95valid12hr',\n",
       " 'congrat2mobil3gvideophonrcall09063458130videochatwidmateplayjavagamedloadpolyphmusicnolinrentl',\n",
       " 'panasonbluetoothhdsetfreenokiafreemotorolafreedoublemindoubletxtorangcontractcallmobileupd808000839402call2optout',\n",
       " 'free1stweekno1nokiatone4urmobeveriweektxtnokia8007gettxtingtellurmatepobox36504w45wq',\n",
       " 'guesssomebodiknowsecretlifanciwannafindgiveuscall09065394514landlindatebox1282essexcm61xn18',\n",
       " 'knowsomeonknowfancicall09058097218findpobox6ls15hb150p',\n",
       " '1000flirttxtgirlblokeurnameageeggirlzoe188007joingetchat',\n",
       " '18dayeuro2004kickoffukeptinformlatestnewsresultdailiunsubscribsendgeteurostop83222',\n",
       " 'eastendtvquizflowerdotcomparviolettuliplilitxtef840254chanc2wincash',\n",
       " 'newlocaldatearealotnewpeoplregistareareplidatestart18replys150',\n",
       " 'someonuknowaskdateservic2contactcantguesscall09058091854revealpobox385m66wu',\n",
       " 'urgenttricontacttodaydrawshowprizeguarantecall09050003091landlineclaimc52valid12hr',\n",
       " 'dearuinvitxchatfinalattemptcontactutxtchat86688',\n",
       " 'awardsipixdigitcameracall09061221061landlindeliveriwithin28daycsbox177m221bp2yrwarranti150ppm16p',\n",
       " 'winurgentmobilnumberawardprizeguarantecall09061790121landlineclaim3030valid12hr150ppm',\n",
       " 'dearsubscriburdraw4giftvoucherbenterreceiptcorrectanelvipresleybirthdaytxtanswer80062',\n",
       " 'messagimportinformo2usertodayluckiday2findlogontohttpfantastsurprisawait',\n",
       " '449050000301priceclaimcall09050000301',\n",
       " 'borespeeddatetrispeedchattxtspeedchat80155likeemtxtswapgetnewchatterchat80155pobox36504w45wqrcd16',\n",
       " 'want750anytimnetworkmin150textnewvideophonefivepoundperweekcall08000776320replideliveritomorrow',\n",
       " 'takepartmobilsurveyyesterday500text2usehowevwish2gettxtsendtxt80160c',\n",
       " 'urhmvquizcurrentmaximursendhmv186688',\n",
       " 'dontforgetplacemanifreerequestwishinformcall08707808226',\n",
       " 'knowuuknowsendchat86688letfindrcvdldn18year',\n",
       " 'thankwinnernotifismgoodluckfuturmarketreplistop84122customservic08450542832',\n",
       " '1000girlmanilocal2urvirgin2rreadi24filureverisexualneedu4filtextcute69911',\n",
       " 'gottake2takepartwrcralliozulucozadenergitextrallile6120025pseepackitcouldu',\n",
       " 'sexurmobilfreesexipicjordantextbabeeveriwkgetsexiceleb4pic16087016248',\n",
       " '1newvoicemailpleascall08719181503',\n",
       " 'winyearsupplicd4storeurchoicworthenterweeklidrawtxtmusic87066tscs',\n",
       " 'simsubscribselectreceivbonugetdelivdoortxtwordok88600claimexp30apr',\n",
       " '1newvoicemailpleascall08719181513',\n",
       " '1nokiatone4urmobeveriweektxtnok870211sttonefreegettxtintellurfriend16replihl4info',\n",
       " 'replinameaddressreceivpostweekcompletfreeaccommodvariougloballocat',\n",
       " 'freeentriweeklicompsendwordenter8412818ccustcare08712405020',\n",
       " 'pleascall08712402779immediurgentmessagwait',\n",
       " 'hungrigayguyfeelhungri4call08718730555stoptextcall08712460324',\n",
       " 'uget2phonewannachat2setmeetcall09096102316ucum2moroluvjanexx',\n",
       " 'networkoperservicfreecvisit',\n",
       " 'enjoyjamstervideosoundgoldclubcredit2newgetfunhelpcall09701213186',\n",
       " 'get3lionenglandtonereplilionm4monolionp4poli4go2originnbesttone3gbpnetworkoperrateappli',\n",
       " 'winnewestharripotterorderphoenixbook5repliharrianswer5questionchancfirstamongreader',\n",
       " 'urbalancurnextquestionsanggirl802answertxturanswergoodluck',\n",
       " 'free2daysexistgeorgdaypicjordantxtpic89080dontmisseveriwksauciceleb4picc0870241182716',\n",
       " 'hotlivefantasicall0870750902020pperminnttltdpobox1327croydoncr95wb0870k',\n",
       " 'bearpicnicktompetedickfacttypetrigaychatphotouploadcall087187306662stoptextcall08712460324',\n",
       " '500newmobil2004mustgotxtnokia89545collecttoday2optouttxtauction',\n",
       " 'doublmindoubltxtpricelinerentlatestorangbluetoothmobilcallmobileupd8latestoffer08000839402',\n",
       " 'urgentimportinformo2usertodayluckiday2findlogontohttpfantastsurprisawait',\n",
       " 'dearuinvitxchatfinalattemptcontactutxtchat86688ldn18yr',\n",
       " 'congratulurawardeithercdgiftvoucherfreeentri2weeklidrawtxtmusic87066tnc1win150ppmx3age16',\n",
       " 'salearsendartboardgoodconditdoubltrebl',\n",
       " 'free1stweekentri2textpod4chanc2win40gbipodcasheveriwktxtpod84128tscscustcar08712405020',\n",
       " 'registoptinsubscriburdraw4giftvoucherenterreceiptcorrectan80062whatno1bbcchart',\n",
       " 'summerfinalfancichatflirtsexisinglyrareagetmatchreplisummerfree2joinoptouttxtstophelp08714742804',\n",
       " 'clairhavinborintimealonuwannacum2nitechat09099725823hope2culuvclairxx',\n",
       " 'boughtoneringtongettextcost3poundoffertoneetc',\n",
       " '09066362231urgentmobil07xxxxxxxxxbonucallerprize2ndattemptreachcall09066362231asap',\n",
       " '07801543489guarantelatestnokiaphone40gbipodmp3playerprizetxtwordcollect',\n",
       " 'hilucihubbimeetindayfribalonhotelufancicuminplleavmsg2day09099726395lucix',\n",
       " 'accountcredit500freetextmessagactivtxtwordcredit80488cs',\n",
       " 'smacjscoenergihighumayknow2channel2dayurleadershipskillrstrongpsychicreplianendrepliendjsco',\n",
       " 'hotlivefantasicall0870750902020pperminnttltdpobox1327croydoncr95wb0870nationratecall',\n",
       " 'thankvotesingalongstarkaraokmobilfreelinkreplising',\n",
       " 'brandnewmobilmusicserviclivefreemusicplayerarrivshortliinstalphonebrowscontenttopartist',\n",
       " 'urgentmobilawardbonucallerprize2ndattemptcontactcallbox95qubtnationrate',\n",
       " 'nokia7250igetwinfreeauctiontakepartsendnokia86021',\n",
       " 'helloorang1monthfreeaccessgamenewssportplu10freetext20photomessagrepliyetermappli',\n",
       " 'urcurrent500poundmaximursendgo86688cc08718720201',\n",
       " 'smauctionbrandnewnokia72504auctiontodayauctionfree2jointakeparttxtnokia86021',\n",
       " 'privat2003accountstatementshow800pointcall08719899230identificode41685expir',\n",
       " 'registsubscribyrdraw4giftvoucherbenterreceiptcorrectannextolymptxtan80062',\n",
       " 'urgentmobilnumberawardprizeguarantecall09061790121landlineclaimvalid12hr150ppm',\n",
       " 'provideoclubneedhelpinfocall08701237397mustclubcreditredeemenjoy',\n",
       " 'usecretadmirlook2makecontactrrevealthinkur09058094599',\n",
       " '500freetextmsgtextok80488creditaccount',\n",
       " 'selectstay1250topbritishhotelnothholidayworthclaimcalllondonbx526sw73ss',\n",
       " 'eerinokiatone4urplitonetitl8007egtonedracula8007titlghostaddamsfamunsterexorcisttwilightpobox36504w45wq150p',\n",
       " '0anetworkallowcompanibillsmresponssuppliershopgiveguarantesellg',\n",
       " 'freemsgfeelinkindalnlihopeulike2keepcompanijstgotcammobiwannacpictxtreplidate82242msg150p2rcvhlp08712317606stop82242',\n",
       " 'urchancwincasheveriwktxtactionccustcar08712405022',\n",
       " 'rgent2ndattemptcontactuucall09071512433b4050703csbcm4235wc1n3xxcallcost150ppmmobilesvari50',\n",
       " 'hiurlookin4saucidaytimfunwivbustimarriwomanfreenextweekchat2sorttime09099726429janinexx',\n",
       " 'urgenttricontacttodaydrawshowprizeguarantecall09050001295landlineclaima21valid12hr',\n",
       " 'monthlipasswordwapusewapphonepc',\n",
       " 'todayvodafonnumberend0089lastfourdigitselectreceivawardnumbermatchpleascall09063442151claimaward',\n",
       " 'freetopringtonweekli1stweeksubpoli3per',\n",
       " 'freemsgsorriservicorder81303coulddelivsufficicreditpleastopreceivservic',\n",
       " 'hardlive121chatchoosgirlconnectlivecall09094646899cheapchatukbiggestliveservicvubcm1896wc1n3xx',\n",
       " 'wowboyrbacktake2007uktourwinvipticketvipclubtxtclubtrackmarqultdinfovipclub4u',\n",
       " 'himandisullivancallhotmixfmchosenreceiveasterprizedrawpleastelephon09041940223claimprizetransfersomeonels',\n",
       " 'urgo2bahamacallfreefon08081560665speakliveoperclaimeitherbahamacruiscashopttxtx07786200117',\n",
       " 'someonconactdateservicenterphonefancifindcalllandlinpobox12n146tf15',\n",
       " 'hi07734396839ibhcustomloyaltioffernewnokia6600mobiltxtauctiontxtwordstartget4t',\n",
       " 'smauctionnokia7250igetwinfreeauctiontakepartsendnokia86021',\n",
       " 'callfreephon08005420578',\n",
       " 'buyspaceinvad4chanc2winorigarcadgameconsolpress0gamearcadstdwapchargsee4termsetpurchas',\n",
       " 'bigbrotheralertcomputselectu10kcash150vouchercallnttpoboxcro1327btlandlincost150ppmmobilvari',\n",
       " 'winwinnerfoleyipodexcitprizesoonkeepeyeurmobilvisit',\n",
       " 'todayvodanumberend1225selectreceivmatchpleascall08712300220quotclaimcode3100standardrateapp',\n",
       " 'hottestpicstraightphoneseegetwetwantxxtextpic89555txtcost150ptextoperg696ga18xxx',\n",
       " 'hackchatgetbackdoorentri121chatroomfractioncostreplineo69call09050280520subscrib25ppmdpbcmbox8027ldnwc1n3xx',\n",
       " 'freenokiamotorolaupto12mthlinerent500freeminfreecallmobileupd808001950382call',\n",
       " '2ndtimetri2contactu750poundprize2claimeasicall0871872697010ppermin',\n",
       " 'guarantecashclaimyrprizecallcustomservicrepres',\n",
       " 'wouldlikeseexxxpichotnearlibanuk',\n",
       " 'usecretadmirlook2makecontactrrevealthinkur09058094594',\n",
       " 'dear0776xxxxxxxuinvitxchatfinalattemptcontactutxtchat86688ldn18yr',\n",
       " 'urgentpleascall09061743811landlinabtacomplimentari4tenerifholidaycashawaitcollectsaecsbox326cw25wx150ppm',\n",
       " 'call09090900040listenextremdirtilivechatgoofficrighttotalprivacioneknowsiclisten60pmin',\n",
       " 'freemsgheyugot1fonerepliwildtxtillsendupichurriimboreworkxxx18stop2stop',\n",
       " 'freeentri2weeklicompchancwinipodtxtpod80182getentristdtxtratecappli08452810073detail',\n",
       " 'newtextbuddichat2horniguyurarea425pfree2receivsearchpostcodtxtonename8969308715500022rplstop2cnl',\n",
       " 'call08702490080tellu2call09066358152claimprizeu2enterurmobilpersondetailpromptcare',\n",
       " 'free1stweekentri2textpod4chanc2win40gbipodcasheveriwktxtvpod81303tscscustcar08712405020',\n",
       " 'peopldogareacall09090204448joinlikemindguyarrang11evenminapnls278bb',\n",
       " 'welldone4costadelsolholidayawaitcollectcall09050090044toclaimsaetcpobox334stockportsk38xhmax10min',\n",
       " 'guesssomebodiknowsecretlifanciwannafindgiveuscall09065394973landlindatebox1282essexcm61xn18',\n",
       " '500freetextmessagvalid31decemb2005',\n",
       " 'guaranteawardevencashtoclaimurawardcallfree080004071652stopgetstop88222php',\n",
       " 'repliwinweekli2006fifaworldcupheldsendstop87239endservic',\n",
       " 'urgentpleascall09061743810landlinabtacomplimentari4tenerifholiday5000cashawaitcollectsaecsbox326cw25wx150ppm',\n",
       " 'freetonehopeenjoynewcontenttextstop61610unsubscribprovid',\n",
       " 'themobyoyocomenewselecthotdownloadmembergetfreeclickopennextlinksenturfone',\n",
       " 'greatnewscallfreefon08006344447claimguarantecashgiftspeakliveoper',\n",
       " 'uwinmusicgiftvouchereveriweekstarttxtworddraw87066tsc',\n",
       " 'call09094100151useurmincallcastmobvariservicprovidaomaombox61m601erustopage',\n",
       " 'urgentmobilbonucallerprize2ndattemptreachcall09066362220asapbox97n7qp150ppm',\n",
       " 'sexisinglwaittextagefollowgenderwitherfgaymentextagefollow',\n",
       " 'freemsgclaimur250smok84025useweb2mobil2urmateetcjoincbox139la32wu16removtxtxstop',\n",
       " '85233freeringtonreplireal',\n",
       " 'welldoneenglandgetofficipoliringtoncolourflagyermobiltexttoneflag84199txtengstopbox39822w111wx',\n",
       " 'finalchancclaimurworthdiscountvouchertodaytextye85023savamobmemberoffermobilcssavamobpobox84m263uzsub16',\n",
       " 'smservicinclustextcreditplgotounsubscribstopextrachargpobox420ip45we',\n",
       " 'winnerspecialselectreceivcashawardspeakliveoperclaimcallcost10p',\n",
       " 'sunshinholclaimurmedholidaysendstampselfaddressenvelopdrinkusukpobox113braywickloweirquizstartsaturdayunsubstop',\n",
       " 'uwinmusicgiftvouchereveriweekstarttxtworddraw87066tscskillgam1winaweekage16150ppermesssubscript',\n",
       " 'b4uvouchermarsmlogontodiscountcreditoptreplistopcustomcarecall08717168528',\n",
       " 'freemsgheybuffi25lovesatisfimenhomealonfeelrandirepli2cpixqlynnbvhelp08700621170150pmsgsendstopstoptxt',\n",
       " 'free1stweekno1nokiatone4urmobeveriweektxtnokia87077gettxtingtellurmatezedpobox36504w45wq',\n",
       " 'freecameraphonelinerent750crossntwkminpricetxtbundldealalsoavblcall08001950382mf',\n",
       " 'urgentmobil07xxxxxxxxxbonucallerprize2ndattemptreachcall09066362231asapbox97n7qp150ppm',\n",
       " 'urgent4costadelsolholidayawaitcollectcall09050090044toclaimsaetcpobox334stockportsk38xhmax10min',\n",
       " 'guarantecashprizeclaimyrprizecallcustomservicrepres08714712379cost10p',\n",
       " 'thankringtonorderrefnumberk718mobilchargtonearrivpleascallcustomservic09065069120',\n",
       " 'hiyababexu4gotenboutscammergetsmartthoughregularvodafonrespondgetpremratenousealsobewar',\n",
       " 'back2work2morrohalftermuc2nite4sexipassionb42gobackchat09099726481luvdenacall',\n",
       " 'thankringtonorderrefnumberr836mobilchargtonearrivpleascallcustomservic09065069154',\n",
       " 'splashmobilchoos1000gr8tonewksubscritservicweeklitonecost300puonecreditkickbackenjoy',\n",
       " 'heardu4call4rudechatprivatline01223585334cumwan2cpicgettinshagtextpix85522endsendstop8552samxxx',\n",
       " 'forward88877freeentriweeklicompsendwordenter8887718c',\n",
       " '8806688066lost3poundhelp',\n",
       " 'mobil11mthupdatfreeoranglatestcolourcameramobilunlimitweekendcallcallmobilupd8freefon080008394022stoptx',\n",
       " '1newmessagpleascall08718738034',\n",
       " 'forward21870000himailboxmessagsmalert4messag21matchpleascallback09056242159retrievmessagmatch',\n",
       " 'mobipubhighstreetprizeuknownewduchesscornwaltxtfirstnamestop008704050406sparrow',\n",
       " 'congratulthankgoodfrienduxmaprize2claimeasicall0871872697110pperminut',\n",
       " 'tddnewslettgamethedailydrawdearhelendozenfreegamegreatprizeswith',\n",
       " 'urgentmobilnumberbonucallerprize2ndattemptreachcall09066368753asapbox97n7qp150ppm',\n",
       " 'doublmintxtorangpricelinerentmotorolasonyericssonfreecallmobileupd808000839402',\n",
       " 'downloadmaniringtonulikerestrict10002choosuevensend2yrbudditxtsir80082',\n",
       " 'pleascall08712402902immediurgentmessagwait',\n",
       " 'spookmobhalloweencollectlogopicmessagplufreeeeritonetxtcardspook8007zed08701417012150pper',\n",
       " 'fantasifootbalbacktvgoskygamestarskyactivplaydreamteamscorestartsaturdayregistskyopt88088',\n",
       " 'toneclubsubexpir2replimonoc4monopolyc4poli1weekli150pperweektxtstop2stopmsgfreestream0871212025016',\n",
       " 'xmaprizedrawtricontacttodaydrawshowprizeguarantecall09058094565landlinevalid12hr',\n",
       " 'yeplacetownmeetexcitadultsingluktxtchat86688',\n",
       " 'someoncontactdateservicenterphonebecausetheyfancifindcalllandlinpobox1w14rg150p',\n",
       " 'babeuwantdontubabiimnastithing4filthyguyfancirudetimesexibitchgoslonhardtxtxxxslo4msg',\n",
       " 'smservicinclustextcreditplgottologin3qxj9unsubscribstopextracharghelp087028406259ae',\n",
       " 'valentindayspecialwinquiztakepartnertriplifetimsendgo83600rcvd',\n",
       " 'guessfirsttimecreatwebpagereadwrotewaitopinionwantfriend',\n",
       " 'urchancwincasheveriwktxtplayccustcar08715705022',\n",
       " 'sppokurmobhalloweencollectnokialogopicmessagplufreeeeritonetxtcardspook8007',\n",
       " 'urgentcall09066612661landlincomplementari4tenerifholidaycashawaitcollectsaecspobox3wa142px150ppmsenderholoffer',\n",
       " 'winnervalunetworkcustomhvaeselectreceivrewardcollectcallvalid24houracl03530150pm',\n",
       " 'unokia6230plufreedigitcameraugetuwinfreeauctiontakepartsendnokia8338316',\n",
       " 'freeentriweeklicompsendwordwin8008618c',\n",
       " 'text82228getringtonlogogamequestioninfo',\n",
       " 'freemsgawardfreeminidigitcamerareplisnapcollectprizequizcluboptstopsprwm',\n",
       " 'messagbroughtgmwconnect',\n",
       " 'congrat2mobil3gvideophonrcall09063458130videochatwidurmateplayjavagamedloadpolyphmusicnolinrentlbx420ip45we150p',\n",
       " 'nextamazxxxpicsfree1videosentenjoyonevidenough2daytextbackkeywordpicsfree1getnextvideo',\n",
       " 'usubscribbestmobilcontentservicukpertendaysendstophelplin08706091795',\n",
       " '3freetarottextfindlovelifetri3freetextchanc85555163freemsg',\n",
       " 'joinukhorniestdogservicusex2nitesignfollowinstructtxtentri69888150p',\n",
       " 'knockknocktxtwhose80082enterrweeklidraw4giftvoucher4storeyrchoiccsage16',\n",
       " 'forward21870000himailboxmessagsmalert40matchpleascallback09056242159retrievmessagmatch',\n",
       " 'freeringtonetextpolieveriweekgetnewtone0870737910216yr',\n",
       " 'urgentmobil077xxxbonucallerprize2ndattemptreachcall09066362206asapbox97n7qp150ppm',\n",
       " 'guarantelatestnokiaphone40gbipodmp3playerprizetxtwordcollect83355ibhltdldnw15h',\n",
       " 'hellodarltodaywouldlovechatdonttelllooklikesexi',\n",
       " '8007free1stweekno1nokiatone4urmobeveriweektxtnokia8007gettxtingtellurmatepobox36504w45wqnorm',\n",
       " 'wannagetlaid2nitewantrealdoglocatsentdirecturmobiljoinuklargestdognetworktxtpark69696nytec2a3lp',\n",
       " 'tricontactresponsoffernewnokiafonecamcordhitreplicall08000930705deliveri',\n",
       " 'newtoneweekinclud1ab2sara3orderfollowinstructnextmessag',\n",
       " 'urgenttricontacttodaydrawshowprizeguarantecall09050003091landlineclaimc52valid12hr',\n",
       " 'sportfangetlatestsportnewsstr2urmobil1wkfreeplufreetonetxtsport8007norm',\n",
       " 'urgenturgent800freeflighteuropgiveawaycallb410thsepttakefriend4freecallclaimba128nnfwfly150ppm',\n",
       " '88066losthelp',\n",
       " 'freemsgfanciflirtreplidatejoinukfastestgrowmobildateservicmsgrcvd25poptouttxtstopreplidate',\n",
       " 'greatnewofferdoublmindoubltxtbestorangtariffgetlatestcameraphone4freecallmobileupd8free080008394022stoptxtcs',\n",
       " 'hopeenjoynewcontenttextstop61610unsubscribprovid',\n",
       " 'urgentpleascall09066612661landlincashluxuri4canariislandholidayawaitcollectcssaeaward20m12aq150ppm',\n",
       " 'urgentpleascall09066612661landlincomplimentari4luxcostadelsolholidaycashawaitcollectppm150saecsjame28eh74rr',\n",
       " 'marrilocalwomenlookdiscreetaction5realmatchinstantliphonetextmatch69969msgcost150p2stoptxtstopbcmsfwc1n3xx',\n",
       " 'burgerkingwannaplayfootitopstadiumget2burgerking1stseptgolargsuperwalkwinner',\n",
       " 'cometakelittltimechildafraiddarkbecomteenagwantstaynight',\n",
       " 'urchancwincasheveriwktxtactionccustcar08712405022',\n",
       " 'ubinawardplay4instantcashcall08715203028claimeveri9thplayerwinminoptout08718727870',\n",
       " 'freemsgfavxmatonereplireal',\n",
       " 'gr8politone4mobdirect2urplipolititl8007egpolibreathe1titlcrazyinsleepingwithfinestymcapobox365o4w45wq300p',\n",
       " 'interfloralateorderinterfloraflowerchristmacall0800505060placeordermidnighttomorrow',\n",
       " 'romcapspameveryonaroundrespondwellpresencsincwarmoutgobringrealbreathsunshin',\n",
       " 'congratulthankgoodfrienduxmaprize2claimeasicall0871210373810pperminut',\n",
       " 'sendlogo2urlover2namejoinhearttxtlovename1name2mobnoegloveadameve0712345678987077yahoopobox36504w45wqtxtno4ad150p',\n",
       " 'tkteuro2004cupfinalcashcollectcall09058099801b4190604pobox7876150ppm',\n",
       " 'jamstergetcrazifrogsoundpolitextmad1realtextmad2888886crazisound3cappli',\n",
       " 'chancrealitifantasishowcall0870750902020pperminnttltdpobox1327croydoncr95wb0870nationratecall',\n",
       " 'adult18contentvideoshortli',\n",
       " 'chancrealitifantasishowcall0870750902020pperminnttltdpobox1327croydoncr95wb0870nationratecall',\n",
       " 'heyboywanthotxxxpicsentdirect2urphonetxtporn6985524hrfree50pperdaystoptextstopbcmsfwc1n3xx',\n",
       " 'doublmin1000txtorangtarifflatestmotorolasonyericssonnokiabluetoothfreecallmobileupd808000839402yhl',\n",
       " 'urcurrent500poundmaximursendcash86688cc08718720201pobox',\n",
       " 'urgentmobilnumberawardprizeguarantecall09058094454landlineclaimvalid12hr',\n",
       " 'sorriuunsubscribyetmobofferpackagminterm54weekplresubmitrequestexpirireplithemobhelp4info',\n",
       " '1newmessagpleascall08712400200',\n",
       " 'currentmessagawaitcollectcollectmessagcall08718723815',\n",
       " 'urgentmobilawardbonucallerprizefinalattempt2contactucall08714714011',\n",
       " 'evernoticdriveanyongosloweridioteveryondrivefastermaniac',\n",
       " 'xmaofferlatestmotorolasonyericssonnokiafreebluetoothdvddoublmin1000txtorangcallmobileupd808000839402',\n",
       " 'repliwinweekliprofessionsporttigerwoodplaysendstop87239endservic',\n",
       " '1polyphontone4urmobeveriweektxtpt2875751sttonefreegettxtintellurfriend16replihl4info',\n",
       " 'messagfreewelcomnewimprovsexdogclubunsubscribservicreplistopmsg150p',\n",
       " '12mthhalfpriceoranglinerental400mincallmobileupd808000839402',\n",
       " 'freeunlimithardcorporndirect2mobiltxtporn69200getfreeaccess24hrchrgd50pperdaytxtstop2exitmsgfree',\n",
       " 'unsubscribservicgettonsexibabehunkstraightphonegohttpsubscript',\n",
       " 'hibabejordanruimhomeabroadlonetextbackuwannachatxxsptextstopstopcost150p08712400603',\n",
       " 'getbrandnewmobilphoneagentmobpluloadgoodiinfotextmat87021',\n",
       " 'lordringreturnkingstorereplilotr2june4chanc2winlotrsoundtrackcdstdtxtratereplistopendtxt',\n",
       " 'goodluckdrawtakeplace28thfebgoodluckremovsendstop87239customservic08708034412',\n",
       " '1stwkfreegr8tonestr82uwktxtnokia8007classicnokiatonehit8007poli',\n",
       " 'lookatmthankpurchasvideocliplookatmcharg35pthinkbettersendvideommsto32323',\n",
       " 'sexisexicumtextimwetwarmreadipornufunmsgfreerecdmsg150pincvat2canceltextstop',\n",
       " '2ndtimetricontactuprizeclaimcall09053750005b4sm08718725756140ppm',\n",
       " 'dearvoucherholderclaimweekofferpcpleasgohttptscsappli',\n",
       " '2ndtimetri2contactu750poundprize2claimeasicall0871210135810ppermin',\n",
       " 'urawardcitibreakcouldwinsummershopspreeeveriwktxtstore',\n",
       " 'urgenttricontacttodaydrawshowprizeguarantecall09066358361landlineclaimy87valid12hr',\n",
       " 'thankringtonorderrefernumberx29mobilchargtonearrivpleascallcustomservic09065989180',\n",
       " 'urcurrent500poundmaximursendcollect83600cc08718720201pobox',\n",
       " 'congratulthankgoodfrienduxmaprize2claimeasicall0871872697810pperminut',\n",
       " '447732584351wantnewnokia3510icolourphonedeliveredtomorrow300freeminutmobil100freetextfreecamcordreplicall08000930705',\n",
       " 'someonuknowaskdateservic2contactcantguesscall09058097189revealpobox6ls15hb150p',\n",
       " 'cameraawardsipixdigitcameracall09061221066frommlandlindeliveriwithin28day',\n",
       " 'todayvodanumberend5226selectreceiv350awardhavamatchpleascall08712300220quotclaimcode1131standardrateapp',\n",
       " 'messagfreewelcomnewimprovsexdogclubunsubscribservicreplistopmsg150p18',\n",
       " 'rctthnqadrianutextrgdvatian',\n",
       " 'contactdateservicsomeonknowfindcalllandlinepobox45w2tg150p',\n",
       " 'sorrimisscalllettalktime07090201529',\n",
       " 'complimentari4staribizaholidaycashneedurgentcollect09066364349landlinlose',\n",
       " 'freemsgbillmobilnumbermistakshortcodcall08081263000chargcallfreebtlandlin',\n",
       " 'pleascall08712402972immediurgentmessagwait',\n",
       " 'urgentmobilnumberawardbonucallerprizecall09058095201landlinevalid12hr',\n",
       " 'wantnewnokia3510icolourphonedeliveredtomorrow300freeminutmobil100freetextfreecamcordreplicall08000930705',\n",
       " 'lifenevermuchfungreatcamemadetrulispecialwoforgetenjoyone',\n",
       " 'wantnewvideophone600anytimnetworkmin400inclusvideocalldownload5perweekfreedeltomorrowcall08002888812repli',\n",
       " 'valucustompleasadvisfollowrecentreviewmobawardbonuprizecall09066368470',\n",
       " 'welcompleasrepliagegenderbegin24m',\n",
       " 'freemsgunlimitfreecallactivsmartcaltxtcallunlimitcallhelp08448714184stoptxtstoplandlineonli',\n",
       " 'mobil10mthupdatlatestorangphonefreesavefreecalltextyecallbackornoopt',\n",
       " 'new2clubdontfinkmetyetbgr82cupleasleavmsg2daywivurarea09099726553replipromiscarlixlkpobox177hp51fl',\n",
       " 'cameraawardsipixdigitcameracall09061221066frommlandlindeliveriwithin28day',\n",
       " 'getfreemobilvideoplayerfreemovicollecttextgofreeextrafilmordercappli18yr',\n",
       " 'savemoneywedlingerichoossuperbselectnationdeliveribroughtweddingfriend',\n",
       " 'heardu4callnightknickermakebeglikeulasttime01223585236xxluv',\n",
       " 'bloombergcenterwaitapplifuturhttp',\n",
       " 'wantnewvideophone750anytimnetworkmin150textfivepoundperweekcall08000776320replideliveritomorrow',\n",
       " 'contactdateservicsomeonknowfindcalllandlinepobox45w2tg150p',\n",
       " 'wan2winwestlif4um8currenttour1unbreak2untam3unkempttext3cost50ptext',\n",
       " 'dorothibankgranitissuexplospickmember300nasdaqsymbolcdgtper',\n",
       " 'winnerguarantecallerprizefinalattemptcontactclaimcall09071517866150ppmpobox10183bhamb64x',\n",
       " 'xmanewyeareveticketsaleclubday10amtill8pmthurfrisatnightweeksellfast',\n",
       " 'rockyrchikget100filthifilmxxxpicyrphonerplifilthsaristarltde149yt08701752560450pper5daystop2cancel',\n",
       " 'nextmonthgetupto50call4urstandardnetworkcharg2activcall9061100010c1st4termpobox84m263uzcostminmobcudb',\n",
       " 'urgenttricontactutodaydrawshowprizeguarantecall09050000460landlineclaimj89pobox245c2150pm',\n",
       " 'textbanneduk89555seecost150ptextoperg696gaxxx',\n",
       " 'auctionroundhighestbidnextmaximumbidbidsendbid10bidgoodluck',\n",
       " 'collectvalentinweekendpariincflighthotelprizeguarantetextpari',\n",
       " 'customloyaltioffernewnokia6650mobiltxtauctiontxtwordstart81151get4tctxttc',\n",
       " 'wobelievtrueincredtxtrepliglearntruliamazthingblowmindo2fwd',\n",
       " 'hotnhorniwilllivelocaltextreplihearstrtback150ppermsgnetcollexltdhelpdesk02085076972replistopend',\n",
       " 'wantnewnokia3510icolourphonedelivtomorrow200freeminutmobil100freetextfreecamcordreplicall08000930705',\n",
       " 'congratulwinneraugustprizedrawcall09066660100prizecode2309',\n",
       " '800725p4alfimoonchildrenneedsongurmobtellurm8txttonechariti8007nokiapolicharitipolized08701417012profit2chariti',\n",
       " 'getofficienglandpoliringtoncolourflagyermobiltonightgametexttoneflagoptouttxtengstopbox39822w111wx',\n",
       " 'customservicannouncrecenttrimakedeliveriunablpleascall07090298926',\n",
       " 'stopclubtonereplistopmixseehtmltermclubtonecostmflpobox1146mk452wt',\n",
       " 'wammagetlaidwantrealdogginlocatsentdirectmobiljoinuklargestdognetworktxtdog69696nytec2a3lp',\n",
       " 'promotnumber8714714urawardcitibreakcouldwinsummershopspreeeveriwktxtstore88039skilgmtscs087147403231winawkage16',\n",
       " 'winnerspecialselectreceivcashawardspeakliveoperclaimcallcost10p',\n",
       " 'thankringtonorderrefernumberx49mobilchargtonearrivpleascallcustomservictexttxtstar',\n",
       " 'hi2nighturluckinightuveinvit2xchatukwildestchattxtchat86688ldn18yr',\n",
       " '146tf150p',\n",
       " 'dearvoucherholder2claim1stclassairportloungpassuseholidayvouchercallbookquot1stclassx2',\n",
       " 'someonuknowaskdateservic2contactcantguesscall09058095107revealpobox7s3xi150p',\n",
       " 'milaage23blondnewuklooksexukguyulikefuntextmtalk1st5freeincrementhelp08718728876',\n",
       " 'claim200shopspreecall08717895698mobstorequiz10ppm',\n",
       " 'wantfunkurfoneweeklinewtonereplitones2u2textoriginnbesttone3gbpnetworkoperrateappli',\n",
       " 'twinkbearscalliskinjockcallmissweekendfuncall087124666692stoptextcall08712460324natrate',\n",
       " 'tricontactreplioffervideohandset750anytimnetworkminunlimittextcamcordreplicall08000930705',\n",
       " 'urgenttricontactlastweekenddrawshowprizeguarantecallclaimcodek61valid12hour',\n",
       " '74355xmaiscomurawardeithercdgiftvoucherfreeentri2rweeklidrawtxtmusic87066tnc',\n",
       " 'congratuluclaim2viprowticket2cbluconcertnovembblugiftguarantecall09061104276claimtscs',\n",
       " 'freemsgsinglfindpartnerarea1000realpeoplwaitchatsendchat62220cnclsendstopcpermsg',\n",
       " 'winnewestpotterorderphoenixbook5repliharrianswer5questionchancfirstamongreader',\n",
       " 'freemsgringtonhttpwml37819',\n",
       " 'ohgodfoundnumbergladtextbackxaftermsgcststdntwkchg',\n",
       " 'linkpictursentalsousehttp',\n",
       " 'doublmin1000txtorangtarifflatestmotorolasonyericssonnokiabluetoothfreecallmobileupd808000839402',\n",
       " 'urgent2ndattemptcontactprizeyesterdaystillawaitcollectclaimcallacl03530150pm',\n",
       " 'deardavefinalnoticcollect4tenerifholiday5000cashawardcall09061743806landlintcsaebox326cw25wx150ppm',\n",
       " 'tellu2call09066358152claimprizeu2enterurmobilpersondetailpromptcare',\n",
       " '2004account07xxxxxxxxxshow786unredeempointclaimcall08719181259identificodexxxxxexpir',\n",
       " 'wantnewvideohandset750anytimnetworkminhalfpricelinerentalcamcordreplicall08000930705deliveritomorrow',\n",
       " 'freeringtonreplirealpoliegreal1pushbuttondontchababygoodbygolddiggwebeburnin1sttonefree6ujoin',\n",
       " 'freemsggetgnarlbarkleycraziringtontotalfreerepligomessagright',\n",
       " 'refusloansecurunsecurcagetcreditcallfree08001956669textback',\n",
       " 'specialselectreceiv3000awardcall08712402050lineclosecost10ppmcsappliagpromo',\n",
       " 'valuvodafoncustomcomputpickwinprizecollecteasicall09061743386',\n",
       " 'freevideocameraphonehalfpricelinerental12mth500crossntwkmin100txtcallmobileupd808001950382',\n",
       " 'ringtonek84484',\n",
       " 'ringtonclubgr8newpolidirectmobileveriweek',\n",
       " 'bankgranitissuexplospickmember300nasdaqsymbolcdgtper',\n",
       " 'borehousewchatndateratelandlin',\n",
       " 'tricallreplismvideomobil750minunlimittextfreecamcordreplicall08000930705delthur',\n",
       " '2ndtimetricontactuprize2claimeasicall08710471114810pperminut',\n",
       " 'receivweektriplechoringtonshortlienjoy',\n",
       " 'uselectstay1250topbritishhotelnothholidayvaludial08712300220claimnationratecallbx526sw73ss',\n",
       " 'chosenreceivawardplcallclaimnumber09066364311collectawardselectreceivvalumobilcustom',\n",
       " 'wincashprizeprizeworth',\n",
       " 'thankringtonorderrefernumbermobilchargtonearrivpleascallcustomservic09065989182',\n",
       " 'mobipubhighstreetprizeuknownewduchesscornwaltxtfirstnamestop008704050406sp',\n",
       " 'weeksavamobmemberofferaccesscall08709501522detailsavamobpobox139la32wusavamoboffermobil',\n",
       " 'contactdateservicsomeonknowfindcallmobillandlin09064017305pobox75ldns7',\n",
       " 'chaseussincseptdefinitpaythankinformignorkathmanchest',\n",
       " 'loanpurposevenbadcredittenantwelcomcall08717111821',\n",
       " '87077kicknewseason2wkfreegoalnewsurmobiltxturclubname87077egvilla87077',\n",
       " 'orangbringringtontimechartherofreehitweekgoringtonpicwapstopreceivtipreplistop',\n",
       " 'privat2003accountstatement07973788240show800pointcall08715203649identificode40533expir',\n",
       " 'tricallreplismvideomobil750minunlimittextfreecamcordreplicall08000930705',\n",
       " 'gsohgoodspamladiucouldbmalegigolo2joinukfastestgrowmenclubreplioncalmjzgroupreplistopmsg',\n",
       " 'hotlivefantasicall0870750002020pperminnttltdpobox1327croydoncr95wb0870nationratecall',\n",
       " 'urgentmobilnumberawardukp2000prizeguarantecall09061790125landlinclaimvalid12hr150ppm',\n",
       " 'spjanuarimalesalehotgaychatcheapercallnationratecheappeakstoptextcall08712460324',\n",
       " 'freemsgtodaydayreadihornilivetownlovesexfungamenetcollexltd08700621170150ppermsgreplistopend',\n",
       " 'simpsonmovireleasjuli2007namebanddiestartfilmdaydaydaysendbc',\n",
       " 'pleascallamandaregardrenewupgradcurrenthandsetfreechargofferendtodaytel08450213680subjectc',\n",
       " 'wantnewvideophone750anytimnetworkminhalfpricelinerentalfreetext3monthreplicall08000930705freedeliveri',\n",
       " 'dearvoucherholderclaimweekofferpcpleasgohttptscsappli',\n",
       " 'urgentpleascallabtacomplimentari4spanishholidaycashawaitcollectsaecsbox47po192ez150ppm',\n",
       " 'cmonbabemakehorniturntxtfantasibabeimhotstickineedreplicost2cancelsendstop',\n",
       " 'importinform4oranguser0796xxxxxxtodayurluckiday2findlogontohttpfantastprizeawait',\n",
       " 'misscallalertnumbercallleftmessag07008009200',\n",
       " 'freemsgrecordindicmayentitl3750poundaccidclaimfreerepliyemsgopttextstop',\n",
       " 'showurcoloureuro2004offergetenglandflag3liontoneurphoneclickfollowservicmessaginfo',\n",
       " 'textpass69669collectpolyphonringtonnormalgprchargapplienjoytone',\n",
       " 'accordinglirepeattextwordokmobilphonesend',\n",
       " 'blockbreakercomedeluxformatnewfeaturgreatgraphicbuyrepligetbbdeluxtakechalleng',\n",
       " 'importinform4orangusertodayluckiday2findlogontohttpfantastsurprisawait',\n",
       " 'nataljainvitfriendrepliseestopsendstopfrnd62468',\n",
       " 'urgentimportinform02usertodayluckiday2findlogontohttpfantastsurprisawait',\n",
       " 'kitstripbill150pnetcollexpobox1013ig11oja',\n",
       " 'pleascall08712402578immediurgentmessagwait',\n",
       " 'letsendfreeanonymmaskmessagimsendmessagseepotentiabus',\n",
       " 'congrat2mobil3gvideophonrcall09061744553videochatwidurmateplayjavagamedloadpolyhmusicnolinrentlbx420ip45we150pm',\n",
       " 'importinform4oranguser0789xxxxxxxtodayluckiday2findlogontohttpfantastsurprisawait',\n",
       " 'dateservicask2contactusomeonshicall09058091870revealpobox84m263uz150p',\n",
       " 'wantnewvideohandset750timenetworkminunlimittextcamcordreplicall08000930705delsat',\n",
       " 'urbalancnextquestioncompletlandmarkbigbobbarribentextbcgoodluck',\n",
       " 'urtonexsubscriptrenewchargchoos10polimonthbillmsg',\n",
       " 'prizegoanothcustomcpololtdsuit373londonw1j6hlpleascallbackbusi',\n",
       " 'wantnewnokia3510icolourphonedelivtomorrow200freeminutmobil100freetextfreecamcordreplicall8000930705',\n",
       " 'recptorderringtonorderprocess',\n",
       " 'oneregistsubscribuenterdraw4100giftvoucherreplienterunsubscribtextstop',\n",
       " 'chancwinfreebluetoothheadsetsimplireplibackadp',\n",
       " 'bfloppibsnappihappigaychatservicphotouploadcall087187306662stoptextcall08712460324',\n",
       " 'welcommsgfreegivefreecallfuturmgbill150pdailicancelsendgostop89123',\n",
       " 'receivmobilcontentenjoy',\n",
       " 'wantexplicitsex30secring02073162414cost',\n",
       " 'latestnokiamobilipodmp3playerprozeguaranterepliwin83355norcorp',\n",
       " 'smservicinclustextcreditplgoto3qxj9unsubscribstopextracharghelp9ae',\n",
       " 'mobilclubchoostopqualitiitemmobil7cfca1a',\n",
       " 'moneywinenumber946wotnext',\n",
       " 'wantcockhubbiawayneedrealman2satisfitxtwife89938stringactiontxtstop2endtxtrecotbox731la17w',\n",
       " 'gr8newserviclivesexvideochatmobseesexiestdirtiestgirlliveurphone4detailtexthorni89070cancelsendstop89070',\n",
       " 'freemsghibabiwowgotnewcammobiwannachotpicfancichatimw8in4utxtrplichat82242hlp08712317606msg150p2rcv',\n",
       " 'wannalaughtrimobillogontxtingwordchatsend8883cmpobox4217londonw1a6zfrcvd',\n",
       " 'urgent2ndattemptcontactuu09071512432b4300603t50',\n",
       " 'congratuluraward500cdvoucher125giftguarantefreeentri2100wklidrawtxtmusic87066',\n",
       " 'contractmobil11mnthlatestmotorolanokiaetcfreedoublmintextorangtarifftextyecallbackremovrecord',\n",
       " 'usecretadmirlook2makecontactrrevealthinkur',\n",
       " 'freemsgtxtcall86888claimreward3hourtalktimeusephoneinc3hr16stoptxtstop',\n",
       " 'sunshinquizwinsupersonidvdrecordcannamcapitaustraliatextmquizb',\n",
       " 'todayvodanumberend7634selectreceivrewardmatchpleascall08712300220quotclaimcode7684standardrateappli',\n",
       " 'ripgetmobilcontentcall08717509990sixdownload3',\n",
       " 'tricontactreplioffervideophone750anytimnetworkminhalfpricelinerentalcamcordreplicall08000930705',\n",
       " 'xmarewardwaitcomputrandomlipickloyalmobilcustomreceivrewardcall09066380611',\n",
       " 'privat2003accountstatementshow800pointcall08718738002identificode48922expir',\n",
       " 'customservicannouncrecenttrimakedeliveriunablpleascall07099833605',\n",
       " 'hibabechloerusmashsaturdaynightgreatweekendumisssptextstopstop',\n",
       " 'urgentmobil07808726822awardbonucallerprize2ndattemptcontactcallbox95qu',\n",
       " 'freegamegetraymangolf4freeo2gamearcad1stgeturgamesetreplipostsaveactiv8press0keyarcadtermsappli',\n",
       " 'mobil10mthupdatlatestphonefreekeepurnumbergetextrafreetextyecall',\n",
       " 'weeklitonereadidownloadweeknewtoneinclud1crazif23blackpinfon',\n",
       " 'getlotcashweekenddearwelcomweekendgotbiggestbestevercashgiveaway',\n",
       " 'thank4continusupportquestionweekenteruin2draw4cashnamenewuspresidtxtan80082',\n",
       " 'uniquuseridremovsendstop87239customservic08708034412',\n",
       " 'urgent09066649731fromlandlincomplimentari4ibizaholidaycashawaitcollectsaecspobox434sk38wp150ppm',\n",
       " 'urgent2ndattemptcontactprizeyesterdaystillawaitcollectclaimcall09061702893',\n",
       " 'santacallwouldlittlonelikecallsantaxmaevecall09077818151booktimelast3min30c',\n",
       " 'privat2004accountstatement0784987show786unredeembonupointclaimcall08719180219identificode45239expir',\n",
       " 'checkchoosbabevideofgkslpopwfgkslpo',\n",
       " 'urwinneruavespecialselect2receivcash4holidayflightincspeakliveoper2claim18',\n",
       " 'newmobil2004mustgotxtnokia89545collecttoday2optouttxtauction',\n",
       " 'privat2003accountstatementshow800pointcall08715203652identificode42810expir',\n",
       " 'freemessagthankuseauctionsubscriptservic182skipauctiontxt2unsubscribtxtstopcustomercar08718726270',\n",
       " 'lyricalladiinvitfriendrepliseestopsendstopfrnd62468',\n",
       " 'wantlatestvideohandset750anytimnetworkminhalfpricelinerentalreplicall08000930705deliveritomorrow',\n",
       " 'ouguarantelatestnokiaphone40gbipodmp3playerprizetxtwordcollect83355ibhltdldnw15h',\n",
       " 'freepolyphonringtontextsuper87131getfreepolitoneweek16snpobox202nr317zsubscript450pw',\n",
       " 'warnervillag83118ccolinfarrelswatwkendwarnervillagget1freemedpopcornshowcckioskreplisoni4mrefilmoffer',\n",
       " 'goalarsen4henri7vliverpool2henriscoresimplshot6yardpassbergkampgivearsen2goalmargin78min',\n",
       " 'hisexychatgirlwaittexttextgreatnightchatsendstopstopservic',\n",
       " 'hiamisendfreephonenumbercoupldaygiveaccessadultparti',\n",
       " 'welcomselecto2servicadbenefitcallspecialtrainadvisorfreemobildiall402',\n",
       " 'dearvoucherholdernextmealususefollowlinkpc2enjoy241dineexperiencehttp',\n",
       " 'urgenttricontacttodaydrawshowprizeguarantecall09058094507landlineclaimvalid12hr',\n",
       " 'donatunicefasiantsunamidisastsupportfundtextdonat864233adnextbill',\n",
       " 'goldvikinvitfriendrepliseestopsendstopfrnd62468',\n",
       " 'phoniawardtodayvodanumberendxxxxselectreceivawardmatchpleascall08712300220quotclaimcode3100standardrateapp',\n",
       " 'cd4ucongratulurawardcdgiftvouchergiftguarantefreeentri2wklidrawxtmusic87066tnc',\n",
       " 'guarantecashprizeclaimyrprizecallcustomservicrepres08714712412cost10p',\n",
       " 'urcurrent500poundmaximursendgo86688cc08718720201',\n",
       " 'privat2003accountstatementshow800pointcall08715203685identifiexpir',\n",
       " 'liketelldeepestdarkestfantasicall09094646631stoptextcall08712460324natrate',\n",
       " 'nataliinvitfriendrepliseestopsendstopfrnd62468',\n",
       " 'jamstergetfreewallpaptextheart88888cappli16needhelpcall08701213186',\n",
       " 'freevideocameraphonehalfpricelinerental12mth500crossntwkmin100txtcallmobileupd808001950382',\n",
       " '83039ukbreakaccommodationvouchtermconditappli2claimmustprovidclaimnumber15541',\n",
       " '5p4alfimoonchildrenneedsongurmobtellurm8txttonechariti8007nokiapolicharitipolized08701417012profit2chariti',\n",
       " 'winshopspreeeveriweekstart2playtextstoreskilgmtscs087147403231winawkage16',\n",
       " '2ndattemptcontractuweektopprizeeithercashprizecall09066361921',\n",
       " 'wantnewnokia3510icolourphonedeliveredtomorrow300freeminutmobil100freetextfreecamcordreplicall08000930705',\n",
       " 'themobhitlinkgetpremiumpinkpanthergamenew1sugababcrazizebraanimbadasshoodi4free',\n",
       " 'msgmobilcontentorderresentpreviouattemptfailduenetworkerrorquericustomersqueri',\n",
       " '1newmessagpleascall08715205273',\n",
       " 'decembmobilentitlupdatlatestcolourcameramobilfreecallmobilupdatvcofree08002986906',\n",
       " 'get3lionenglandtonereplilionm4monolionp4poli4go2originnbesttone3gbpnetworkoperrateappli',\n",
       " 'privat2003accountstatement078',\n",
       " '4costadelsolholidayawaitcollectcall09050090044toclaimsaetcpobox334stockportsk38xhmax10min',\n",
       " 'getgardenreadisummerfreeselectsummerbulbseedworthscotsmansaturdaystopgo2',\n",
       " 'smauctionbrandnewnokia72504auctiontodayauctionfree2jointakeparttxtnokia86021',\n",
       " 'reeentri2weeklicompchancwinipodtxtpod80182getentristdtxtratecappli08452810073detail',\n",
       " 'recordindicumaybentitl5000poundcompensaccidclaim4freerepliclaimmsg2stoptxtstop',\n",
       " 'callgermani1pencperminutcallfixlineviaaccessnumber084486185prepaydirectaccess',\n",
       " 'mobil11mthupdatfreeoranglatestcolourcameramobilunlimitweekendcallcallmobilupd8freefon080008394022stoptxt',\n",
       " 'privat2003accountstatementfoneshow800pointcall08715203656identificode42049expir',\n",
       " 'someononknowtricontactviadateservicfindcouldcallmobillandlin09064015307box334sk38ch',\n",
       " 'urgentpleascall09061213237landlincash4holidayawaitcollectcssaepobox177m227xi',\n",
       " 'urgentmobilnumberawardprizeguarantecall09061790126landlineclaimvalid12hr150ppm',\n",
       " 'urgentpleascall09061213237landlincashluxuri4canariislandholidayawaitcollectcssaepoboxm227xi150ppm',\n",
       " 'xmaiscomurawardeithercdgiftvoucherfreeentri2rweeklidrawtxtmusic87066tnc',\n",
       " 'ursubscrib2textcomp250wklicomp1stwkfreequestionfollowsubsequwkchargunsubscribtxtstop284128custcar08712405020',\n",
       " 'call09095350301sendgirlerotecstacistoptextcall08712460324natrate',\n",
       " 'importmessagfinalcontactattemptimportmessagwaitcustomclaimdeptexpircall08717507382',\n",
       " 'datetwostartsenttexttalksportradiolastweekconnectthinkcoincid',\n",
       " 'currentleadbidpausauctionsendcustomcare08718726270',\n",
       " 'freeentrigr8prizewklicomp4chancwinlatestnokia8800pspcasheverigreat8087808715705022',\n",
       " '1newmessagcall',\n",
       " 'santacallwouldlittlonelikecallsantaxmaevecall09058094583booktime',\n",
       " 'guarante32000awardmaybevencashclaimurawardcallfree0800legitimatefreefonnumberwatuthink',\n",
       " 'latestnewspolicstationtoiletstolencopnothgo',\n",
       " 'sparklshopbreak45perpersoncall01212025050visit',\n",
       " 'txtcall86888claimreward3hourtalktimeusephoneinc3hr16stoptxtstop',\n",
       " 'wmlc',\n",
       " 'urgentlastweekenddrawshowcashspanishholidaycall09050000332claimcrstmsw73ss150ppm',\n",
       " 'urgenttricontactlastweekenddrawshowuprizeguarantecall09064017295claimcodek52valid12hr150ppm',\n",
       " '2ppermincallgermani08448350055btline2ppermincheckinfoctextstopopt',\n",
       " 'marvelmobilplayofficiultimgameurmobilrighttextspider83338gamesendufree8ballwallpap',\n",
       " 'privat2003accountstatement07808247860show800pointcall08719899229identificode40411expir',\n",
       " 'privat2003accountstatementshow800pointcall08718738001identificode49557expir',\n",
       " 'wantexplicitsex30secring02073162414costgsexpobox2667wc1n3xx',\n",
       " 'ask3mobil0870chatlininclufreeminindiacustservsedyel8ergotmegabill3dontgivshitbailiffdueday3want',\n",
       " 'contractmobil11mnthlatestmotorolanokiaetcfreedoublmintextorangtarifftextyecallbackremovrecord',\n",
       " 'remindo2getpoundfreecallcreditdetailgreatofferplrepli2textvalidnamehouspostcod',\n",
       " '2ndtimetri2contactupoundprize2claimeasicall087187272008now110pperminut']"
      ]
     },
     "execution_count": 56,
     "metadata": {},
     "output_type": "execute_result"
    }
   ],
   "source": [
    "spam_corpus"
   ]
  },
  {
   "cell_type": "code",
   "execution_count": 57,
   "id": "fa47c179",
   "metadata": {},
   "outputs": [],
   "source": [
    "from collections import Counter"
   ]
  },
  {
   "cell_type": "code",
   "execution_count": 58,
   "id": "428ff5c9",
   "metadata": {},
   "outputs": [
    {
     "name": "stderr",
     "output_type": "stream",
     "text": [
      "C:\\Users\\himanshu\\anaconda3\\lib\\site-packages\\seaborn\\_decorators.py:36: FutureWarning: Pass the following variables as keyword args: x, y. From version 0.12, the only valid positional argument will be `data`, and passing other arguments without an explicit keyword will result in an error or misinterpretation.\n",
      "  warnings.warn(\n"
     ]
    },
    {
     "data": {
      "image/png": "[encoded data removed]",
      "text/plain": [
       "<Figure size 432x288 with 1 Axes>"
      ]
     },
     "metadata": {
      "needs_background": "light"
     },
     "output_type": "display_data"
    }
   ],
   "source": [
    "sns.barplot(pd.DataFrame(Counter(spam_corpus).most_common(30))[0],\n",
    "           pd.DataFrame(Counter(spam_corpus).most_common(30))[1])\n",
    "plt.xticks(rotation=90)\n",
    "plt.show()"
   ]
  },
  {
   "cell_type": "code",
   "execution_count": 59,
   "id": "6dc92bed",
   "metadata": {},
   "outputs": [],
   "source": [
    "ham_corpus=[]"
   ]
  },
  {
   "cell_type": "code",
   "execution_count": 60,
   "id": "f51b05fc",
   "metadata": {},
   "outputs": [],
   "source": [
    "for msg in df[df['Category']==0]['transformed_text'].tolist():\n",
    "    for word in msg.split():\n",
    "        ham_corpus.append(word)"
   ]
  },
  {
   "cell_type": "code",
   "execution_count": 61,
   "id": "3083dead",
   "metadata": {},
   "outputs": [
    {
     "data": {
      "text/plain": [
       "4508"
      ]
     },
     "execution_count": 61,
     "metadata": {},
     "output_type": "execute_result"
    }
   ],
   "source": [
    "len(ham_corpus)"
   ]
  },
  {
   "cell_type": "code",
   "execution_count": 62,
   "id": "4261739c",
   "metadata": {},
   "outputs": [
    {
     "data": {
      "text/plain": [
       "['gojurongpointcraziavailbugingreatworldlaebuffetcinegotamorwat',\n",
       " 'oklarjokewifuoni',\n",
       " 'udunsayearlihorucalreadisay',\n",
       " 'nahthinkgoeusflivearoundthough',\n",
       " 'evenbrotherlikespeaktreatlikeaidpatent',\n",
       " 'perrequestmelloruminnaminungintnurunguvettamsetcallertuncallerpress9copifriendcallertun',\n",
       " 'gonnahomesoonwanttalkstuffanymortonightkcrienoughtoday',\n",
       " 'searchrightwordthankbreatherpromiswonttakehelpgrantfulfilpromiswonderblesstime',\n",
       " 'datesunday',\n",
       " 'ohkwatch',\n",
       " 'ehurememb2spellnameyevnaughtimakevwet',\n",
       " 'finewayufeelwaygotab',\n",
       " 'seriousspellname',\n",
       " 'gotri2monthhahajoke',\n",
       " 'üpayfirstlardastockcomin',\n",
       " 'aftfinishlunchgostrlorard3smthlorufinishurlunchalreadi',\n",
       " 'ffffffffffalrightwaymeetsooner',\n",
       " 'forceatslicereallihungrithosuckmarkgetworriknowsickturnpizzalol',\n",
       " 'lolalwayconvinc',\n",
       " 'catchbufrieggmaketeaeatmomleftdinnerfeellove',\n",
       " 'backamppackcarletknowroom',\n",
       " 'ahhhworkvaguremembfeellikelol',\n",
       " 'waitstillclearsuresarcastxwantliveus',\n",
       " 'yeahgot2vapologetnfallenactinlikespoiltchildgotcaughttill2wogobadlicheer',\n",
       " 'ktellanyth',\n",
       " 'fearfainthouseworkquickcuppa',\n",
       " 'yupokgohomelooktimemsgüxuhuigolearn2ndmaylesson8am',\n",
       " 'oopletknowroommatdone',\n",
       " 'seeletterbcar',\n",
       " 'anythlorudecid',\n",
       " 'hellosaturdaygotextseedecidanythtomotriinvitanyth',\n",
       " 'plgoaheadwattwantsuregreatweekendabiola',\n",
       " 'forgettellwantneedcravelovesweetarabiansteedmmmmmmyummi',\n",
       " 'see',\n",
       " 'greathopelikemanwellendowltgtinch',\n",
       " 'callmessagmisscall',\n",
       " 'gethepbimmunisnigeria',\n",
       " 'fairenoughanythgo',\n",
       " 'yeahhopetylercacouldmaybaskaroundbit',\n",
       " 'uknowstubbornevenwantgohospitkepttellmarkweaksuckerhospitweaksucker',\n",
       " 'thinkfirsttimesawclass',\n",
       " 'gramusualrunlikeltgthalfeighthsmarterthoughgetalmostwholesecondgramltgt',\n",
       " 'kfyixrideearlitomorrowmorncrashplacetonight',\n",
       " 'wowneverrealizembarassaccomodthoughtlikesincbestcouldalwayseemhappicavesorrigivesorrioffersorriroomembarass',\n",
       " 'knowmallikasherawatyesterdayfindlturlgt',\n",
       " 'sorricalllatermeet',\n",
       " 'tellreach',\n",
       " 'yegautisehwagodiseri',\n",
       " 'gonnapick1burgerwayhomecaevenmovepainkill',\n",
       " 'hahahagoodjokegirlsituatseeker',\n",
       " 'partcheckiq',\n",
       " 'sorriroommattookforevokcome',\n",
       " 'oklardoublcheckwifdahairdresseralreadisaidwuncutvshortsaidcutlooknice',\n",
       " 'todaysongdedicdaysongudedicsendurvaluablfrndfirstrpli',\n",
       " 'planegivemonthend',\n",
       " 'wahluckimansavemoneyhee',\n",
       " 'finishclass',\n",
       " 'hibabeimhomewannasomethxx',\n",
       " 'kkperform',\n",
       " 'ucall',\n",
       " 'waitmachancallfree',\n",
       " 'thatcoolgentlemantreatdignitirespect',\n",
       " 'likepeoplmuchshipa',\n",
       " 'operltgt',\n",
       " 'stilllookjobmuchtaearn',\n",
       " 'sorricalllater',\n",
       " 'callah',\n",
       " 'okwayhomehihi',\n",
       " 'placeman',\n",
       " 'yupnextstop',\n",
       " 'calllaternetworkurgntsm',\n",
       " 'realugetyoneed2ticketonejacketdonealreadiusemulti',\n",
       " 'yestartsendrequestmakepaincamebackbackbeddoublcoinfactorigottacashnitro',\n",
       " 'reallistilltonightbabe',\n",
       " 'elaildownloadcomewenurfree',\n",
       " 'yeahstandclosecatchsometh',\n",
       " 'sorripainokmeetanothnightspentlateafternooncasualtimeandonestuff42moroincludtimesheetsorri',\n",
       " 'smilepleasursmilepainsmiletroublpourlikerainsmilesum1hurtusmilebecozsomeonstillloveseeusmile',\n",
       " 'haventplanbuylatercheckalreadilidogot530showeafternoonufinishworkalreadi',\n",
       " 'watchtelugumoviwatabtu',\n",
       " 'seefinishloadloanpay',\n",
       " 'hiwkokholyebitrunforgothairdressappointfourneedgethomenshowerbeforehandcausprobu',\n",
       " 'seecupcoffeanim',\n",
       " 'pleastextanymornothelssay',\n",
       " 'okaynameurpricelonglegalwenpickuavexamxx',\n",
       " 'stilllookcarbuygone4thedrivetestyet',\n",
       " 'wowrightmeanguessgavebostonmenchangsearchlocatnycsomethchangcuzsigninpagestillsayboston',\n",
       " 'ummalifevavaummalovelotdear',\n",
       " 'thanklotwishbirthdaythankmakebirthdaytrulimemor',\n",
       " 'aighthitgetcash',\n",
       " 'wouldipaddresstestconsidcomputminecraftserver',\n",
       " 'knowgrumpioldpeoplmomlikebetterliealwayoneplayjoke',\n",
       " 'dontworriguessbusi',\n",
       " 'pluralnounresearch',\n",
       " 'go',\n",
       " 'okwifcolike2trinewthingscareudunlikemahcousaidloud',\n",
       " 'wauropeninsentencformalanywayfinejuztteatinmuchnputtinweighthahaanythinspecialhappen',\n",
       " 'entercabinpasaidhappibossfeltspecialaskd4lunchlunchinvitapartwent',\n",
       " 'goodoyemustspeakfridayratiotortillaneed',\n",
       " 'hmmunclinformpayschooldirectliplbuyfood',\n",
       " 'newaddresspairmalarki',\n",
       " 'gosaomutodaydone12',\n",
       " 'üpredictwattimeüfinishbuy',\n",
       " 'goodstuff',\n",
       " 'knowyetundsentmoneyyetsenttextbothersenddontinvolvanythimposanythfirstplaceapologis',\n",
       " 'room',\n",
       " 'heygirlruhopeurwelldelrbaklongtimecgivecallsumtimelucyxx',\n",
       " 'kkmuchcost',\n",
       " 'home',\n",
       " 'dearcallaccomod',\n",
       " 'firstanswerquestion',\n",
       " 'hafmsnyiju',\n",
       " 'callmeet',\n",
       " 'checkroombeforactiv',\n",
       " 'gotclazitypeforgotülectsawpouchlikevnice',\n",
       " 'ktextway',\n",
       " 'sirwaitmail',\n",
       " 'swtthoughtnvergettirelittlthing4lovablpersoncozsomtimlittlthingoccupibiggestpartheartgudni8',\n",
       " 'knowplopenback',\n",
       " 'yeseeyadot',\n",
       " 'whatstaffnametakeclassus',\n",
       " 'callchecklifebeginqatarplprayhard',\n",
       " 'kdeletcontact',\n",
       " 'sindugotjobbirlasoft',\n",
       " 'wineflownever',\n",
       " 'yupthkcinebetterconeed2go2plazamah',\n",
       " 'okurtypicrepli',\n",
       " 'everywherdirtfloorwindowevenshirtsometimopenmouthcomeflowdreamworldwithouthalfchoretimejoylottvshowseeguesslikethingmustexistlikerainhailmisttimedonebecomone',\n",
       " 'aaoooorightwork',\n",
       " 'leavhous',\n",
       " 'hellolovegetinterviewtodayhappigoodboythinkmiss',\n",
       " 'keepsafeneedmissalreadienvieveryonseereallife',\n",
       " 'newcarhousparentnewjobhand',\n",
       " 'loveexcitdayspendmakehappi',\n",
       " 'placeurpointeculturmodulalreadi',\n",
       " 'hifrndbestwayavoidmissunderstdwitbelovone',\n",
       " 'greatescapfancibridgneedlagerseetomo',\n",
       " 'yecompletformclarkalsoutterwast',\n",
       " 'sirneedaxibankaccountbankaddress',\n",
       " 'hmmmthksuregottimehopardyago4freeabtmuzcalludiscussliao',\n",
       " 'timecomelater',\n",
       " 'bloodihellcantbelievforgotsurnammrillgiveucluespanishbegin',\n",
       " 'wellgonnafinishbathgoodfinenight',\n",
       " 'letknowgotmoneycarlomakecall',\n",
       " 'ustillgomall',\n",
       " 'turnfriendstaywholeshowwobacktilltgtfeelfreegoaheadsmokeltgtworth',\n",
       " 'textdoesntrepliletknowlog',\n",
       " 'hispokemaneeshalikeknowsatisfiexperireplitollfreeye',\n",
       " 'lifthopeoffermoneyneedespeciendmonthapproachhurtstudianywaygr8weekend',\n",
       " 'lolutrust',\n",
       " 'gentlemantreatdignitirespect',\n",
       " 'guyclose',\n",
       " 'gonoth',\n",
       " 'hellohandsomfindjoblaziworktowardgetbacknetmummiboytoymiss',\n",
       " 'hahaawesomminut',\n",
       " 'gotxmaradiotimeget',\n",
       " 'jureachhomegobathfirstsiusenettellufinishk',\n",
       " 'sorrijoinleagupeopldontkeeptouchmeangreatdealfriendtimeevengreatpersoncostgreat',\n",
       " 'hifinalcompletcours',\n",
       " 'stophowevsuggeststaysomeonablgiveoreveristool',\n",
       " 'hopesettlnewschoolyearwishingr8day',\n",
       " 'gudmrngdearhavniceday',\n",
       " 'ugotpersonstori',\n",
       " 'hamsterdeadheytmrmeet1pmorchardmrt',\n",
       " 'hikateevenhopeseetomorrowbitbloodibabyjontettxtbackuxxx',\n",
       " 'foundencltgt',\n",
       " 'sentltgtbuck',\n",
       " 'hellodarlinivefinishcollegtxtufinishulovekatexxx',\n",
       " 'accountrefilsuccessinrltdecimgtkeralacirclprepaidaccountbalancrsltdecimgttransactidkrltgt',\n",
       " 'goodmornsleepga',\n",
       " 'ucallalter11ok',\n",
       " 'üsaylikedatdunbuyericssonosooredilar',\n",
       " 'aightyodatstraightdogg',\n",
       " 'pleasgiveusconnecttodayltdecimgtrefundbill',\n",
       " 'shootbigloadgetreadi',\n",
       " 'bruvhopegreatbreakrewardsemest',\n",
       " 'homealwaychat',\n",
       " 'kkgoodstudiwell',\n",
       " 'yupünoeleh',\n",
       " 'soundgreathome',\n",
       " 'finalmatchheadtowarddrawpredict',\n",
       " 'tiresleptwellpastnight',\n",
       " 'easiahsengotselectmeangood',\n",
       " 'takeexammarch3',\n",
       " 'yeahthinkusegtatmregistsureanywayhelpletknowsurereadi',\n",
       " 'okprobtakeurtime',\n",
       " 'oscallubandurunwithoutinstalharddiskuseoscopiimportfilesystemgiverepairshop',\n",
       " 'usaylehcoursnothhappenlarsayvromantjubitlorthkenitesceneriniceleh',\n",
       " 'wouldrealliapprecicallneedsomeontalk',\n",
       " 'heycompanielamapomudyadhu',\n",
       " 'lifestrictteacherbcozteacherteachlessonampconductexamlifefirstconductexamampteachlessonhappi',\n",
       " 'deargoodmorn',\n",
       " 'getgandhipuramwalkcrosscutroadrightsideltgtstreetroadturnfirstright',\n",
       " 'deargorubberplace',\n",
       " 'sorribatteridieyeah',\n",
       " 'yetvalwayavailworkplace',\n",
       " 'printohltgtcomeupstair',\n",
       " 'illlittlcloserlikebustopstreet',\n",
       " 'wilreach',\n",
       " 'newtheoriargumentwinsituatlosepersondontarguurfriendkickampsayalwaycorrect',\n",
       " 'tomarrowfinalhearlaptopcasecant',\n",
       " 'pleassssssseeeeetelvaventdonesportsx',\n",
       " 'okayshinemeantsignsoundbetter',\n",
       " 'althoughtoldudatbaigfacewatchreallilikeewatchugavecofrthanx4everythdatudonetodaytouch',\n",
       " 'urememboldcommerci',\n",
       " 'latesaidwebsitdontslipper',\n",
       " 'askcallok',\n",
       " 'kalliwontbat2ndinning',\n",
       " 'didntworkohokgoodnightfixreaditimewakedearlimissgoodnightsleep',\n",
       " 'ranjithcaldrpddeerajdeepak5minhold',\n",
       " 'wenurlovablbcumangriwidudnttakeseriouscozangrichildishntruewayshowdeepaffectcarenluvkettodamandanicedayda',\n",
       " 'up3dayalsoshipcompanitake2wkwayusptakeweekgetlagmaybribenipostgetstuff',\n",
       " 'backlemknowreadi',\n",
       " 'necessariliexpectdonegetbackthoughheadin',\n",
       " 'mmmyummibabenicejoltsuzi',\n",
       " 'loverneed',\n",
       " 'parknextminicometodaythink',\n",
       " 'yup',\n",
       " 'anywaygoshopcosidoneyetdundisturbuliao',\n",
       " 'luton0125698789ringuraroundh',\n",
       " 'dintcomeus',\n",
       " 'wanaplantripsometm',\n",
       " 'sureyetstilltrigethold',\n",
       " 'evodownloadflashjealou',\n",
       " 'comemusortnarcotsituat',\n",
       " 'nightendanothdaymorncomespecialwaymaysmilelikesunnirayleavworribluebluebay',\n",
       " 'usfguessmightwelltake1car',\n",
       " 'objectbfcome',\n",
       " 'thanx',\n",
       " 'tellrobmackgftheater',\n",
       " 'awesomseebit',\n",
       " 'senttypefoodlike',\n",
       " 'donehandcelebrfullswingyet',\n",
       " 'gotcalltool',\n",
       " 'wenumisssomeonpersondefinitspecialupersonspecialmissgdeve',\n",
       " 'askmoneyfar',\n",
       " 'oki',\n",
       " 'yeahthinkusualguystillpasslastnightgetaholdanybodiletknowthrow',\n",
       " 'kmightcometonightclassletearli',\n",
       " 'ok',\n",
       " 'hibabiimcruisingirlfriendru2givecallhourhomethatalrightfonefonelovejennixxx',\n",
       " 'lifemeanlotlovelifelovepeopllifeworldcallfriendcallworldge',\n",
       " 'dearshallmailstreetshallupdatlookedukkukayerakshagoodonerealsens',\n",
       " 'heytoldnamegauthamah',\n",
       " 'hafufoundfeelstupiddavcamwork',\n",
       " 'oop4gotbit',\n",
       " 'muchbuzi',\n",
       " 'accidentdeletmessagresendpleas',\n",
       " 'unlesssituatgogurlwouldappropri',\n",
       " 'hurtteasmakecriendlifedieplzkeeponerosegravesaystupidmissunicedaybslvyl',\n",
       " 'cantpickphonerightplsendmessag',\n",
       " 'needcofferuntomocabelievtimeweekalreadi',\n",
       " 'awesomrememblasttimegotsomebodihighfirsttimedieselv',\n",
       " 'shitreallishockscaricantimaginseconddefnightuthinksomewhercouldcrashnightsavetaxi',\n",
       " 'ohwayfoodfridgwantgomealtonight',\n",
       " 'womdarfulactor',\n",
       " 'yuprembthinkbook',\n",
       " 'joaskuwanameet',\n",
       " 'lolyefriendshiphangthreadcausuwobuystuff',\n",
       " 'garagkeybookshelf',\n",
       " 'todayacceptdayuacceptbrothersisterloverdear1best1clos1lvblefrndjstfrndcutefrndlifpartnrbelovdswtheartbstfrndrplimeanenemi',\n",
       " 'saygivecallfriendgotmoneydefinitbuyendweek',\n",
       " 'hiwayu2daynormalwayrealuruniquhopeknowu4restmylifhopeufindwotlost',\n",
       " 'madedaygreatday',\n",
       " 'advanchappipongal',\n",
       " 'hmmmguessgo4kbnpoweryogahahadunnotahanpoweryogaanotthkgotloosoforgotliao',\n",
       " 'reallidudefriendafraid',\n",
       " 'coffecakeguess',\n",
       " 'merrichristmababeloveyakiss',\n",
       " 'heydontgowatchxmenlunchhaha',\n",
       " 'cudutellpplimgonabbitl8co2busehavgonpastcofullimstillwaitin4petex',\n",
       " 'wouldgreatguildcouldmeetbristolroadsomewhergettouchweekendplantakeflightgoodweek',\n",
       " 'problem',\n",
       " 'hidatodayclass',\n",
       " 'saygoodsignwellknowtrackrecordreadwomen',\n",
       " 'cooltextpark',\n",
       " 'readtextsentmeantjokereadlight',\n",
       " 'apomovi',\n",
       " 'maybcouldgetbooktomoreturnimmedisometh',\n",
       " 'chancmightevaporsoonviolatprivacistealphonenumberemploypaperworkcoolpleascontactreportsupervisor',\n",
       " 'homebabestill',\n",
       " 'coolcomehaventwinedine',\n",
       " 'sleepsurf',\n",
       " 'ucallrightcallhandphone',\n",
       " 'okgreatthanxlot',\n",
       " 'takepostcomemust1000texthappireadonewivhellocarolinendfavouritbless',\n",
       " 'uhidestranger',\n",
       " 'interestlike',\n",
       " 'sistercleartworoundbirlasoftyesterday',\n",
       " 'gudnittcpracticgo',\n",
       " 'diyijujusawurmailcasehuimhaventsentunumdinum',\n",
       " 'onesmallprestigproblem',\n",
       " 'checkreallimissseejeremiahgreatmonth',\n",
       " 'nahcahelpneveriphon',\n",
       " 'carhourhalfgoapeshit',\n",
       " 'todaysorrieverangrievermisbehavhurtplzplzslapurselfbcozurfaultbasicgood',\n",
       " 'yoguyeverfigurmuchneedalcoholjaytrifigurmuchsafespendweed',\n",
       " 'ltgtishminut5minutagowtf',\n",
       " 'thanksayhappionamfineremembmetinsurqatarinshaextataaigjointisscotayseer',\n",
       " 'actorworkworkevensleeplatesincunemploymomentalwaysleeplateunemployeveridaysaturday',\n",
       " 'hellogotstlongwaycoldkeeppost',\n",
       " 'hahacoolcoolchikkuchikku',\n",
       " 'ohokprob',\n",
       " 'checkaudreystaturight',\n",
       " 'busitrifinishnewyearlookforwardfinalmeet',\n",
       " 'goodafternoonsunshindawndayrefreshhappialivbreathairsmilethinklovealway',\n",
       " 'wellknowztakecareworri',\n",
       " 'watuniformget',\n",
       " 'cooltextreadi',\n",
       " 'helloboytoygeeeemissalreadiwokewishbedcuddllove',\n",
       " 'spoilbedwell',\n",
       " 'gobathmsgnextltgtmin',\n",
       " 'cantkeeptalkpeoplsurepayagrepricepltellwantreallibuymuchwillpay',\n",
       " 'sayhappen',\n",
       " 'couldseenrecognisface',\n",
       " 'welllotthinghappenlindsaynewyearsighbarptboblueheronsomethgo',\n",
       " 'keeppayasamrinubring',\n",
       " 'taughtranjithsircallsmlikebecauheverifiprojectprabutoldtodaypadontmistak',\n",
       " 'guessworrimustknowwaybodirepairquitsureworritakeslowfirsttestguidovulrelaxnothsaidreasonworrikeepfollowin',\n",
       " 'yeahsuregivecouplminuttrackwallet',\n",
       " 'heyleavbigdealtakecare',\n",
       " 'heylateahmeet',\n",
       " 'tookmrowl3lick',\n",
       " 'customplacecall',\n",
       " 'mmtimedontlikefun',\n",
       " 'yuplunchbuffetueatalreadi',\n",
       " 'huhlatefrdinner',\n",
       " 'heysatgointropilatkickbox',\n",
       " 'mornok',\n",
       " 'yethinkofficlaproomthinkthatlastdaydidntshut',\n",
       " 'pickbouttimego',\n",
       " 'performawardcalculeveritwocurrentonemonthperiod',\n",
       " 'actualsleepstillmightucallbacktextgr8rocksisendutextwenwake',\n",
       " 'alwayputbusiputpicturassfacebookoneopenpeoplevermetwouldthinkpicturroomwouldhurtmakefeelviolat',\n",
       " 'goodevensiralsalamhappigracegodgotoffertayseertisscoallahmeetvisitorindia',\n",
       " 'hmmmkwantchangfieldquicklidawannagetsystemadministrnetworkadministr',\n",
       " 'dearchechitalk',\n",
       " 'haircreamship',\n",
       " 'nonehappentilgetthough',\n",
       " 'yepgreatloxahatchexmatreeburnltgtstarthour',\n",
       " 'hahagetusedriveusfmanknowlotstoner',\n",
       " 'wellslightlidisastrclasspmfavdarlhopedaycoffewldgoodcastaylatetomorrowtimeplacealway',\n",
       " 'hellogoodweekfancidrinksomethlater',\n",
       " 'headintowardbusetop',\n",
       " 'messagtextmisssendernamemissnumbermisssentdatemissmissulotthateverythmisssentvia',\n",
       " 'comeroompointironplanweekend',\n",
       " 'cowantthing',\n",
       " 'okigoyanjiuskipardosogocinedengomrtoneblahblahblah',\n",
       " 'bringhomewendi',\n",
       " 'whatsupdontuwantsleep',\n",
       " 'alrightnewgoal',\n",
       " 'alrightheadminuttextmeet',\n",
       " 'yelastweektakelivecall',\n",
       " 'sivahostelaha',\n",
       " 'sendurfriendreceivsomethurvoicspeakexpressattitudltgtltgtrepli',\n",
       " 'guess',\n",
       " 'aathidear',\n",
       " 'painurinthingels',\n",
       " '7esplanadümindgiveliftcogotcartoday',\n",
       " 'wntbuybmwcarurgentvrihvshortagltgtsourcarngdiamtltgtlacthatprob',\n",
       " 'homewatchtvlor',\n",
       " 'usualtakefifteenfuckminutrespondyequestion',\n",
       " 'bookticketpongal',\n",
       " 'availlikerightaroundhillsboroughampltgtth',\n",
       " 'messagsentaskinltgtdollarshoulpayltgtltgt',\n",
       " 'askgiouritoldstoriliketentimealreadi',\n",
       " 'longapplebefucktake',\n",
       " 'hihopeugethasntgd50minlatethink',\n",
       " 'likelovearrang',\n",
       " 'yerealligreatbhajitoldkallibestcricketsachinworldtoughget',\n",
       " 'supposwakegt',\n",
       " 'oicsawtotdincfoundgroupliao',\n",
       " 'heyheywerethmonkeespeoplsaymonkeyaroundhowdigorgeouhowudoinfoundurselfjobyetsausaglovejenxxx',\n",
       " 'sorribatteridiecomegetgramplace',\n",
       " 'welldoneblimeyexercisyeahkindaremembwothmm',\n",
       " 'wontgetconcentrdearknowmindeveryth',\n",
       " 'lolmadeplannewyear',\n",
       " '10minlaterk',\n",
       " 'hanklotsli',\n",
       " 'thankhopegooddaytoday',\n",
       " 'kkdetailwanttransferaccenough',\n",
       " 'oktellstayyeahtoughoptimistthingimprovmonth',\n",
       " 'sisithinkillgomakeoreotruffl',\n",
       " 'lookamiurebeautiintelligwomanlikeulotknowulikelikeworri',\n",
       " 'hoperesultconsistintelligkindstartaskpracticumlinkkeepearopenbestttyl',\n",
       " 'callcostguessisntbadmissyaneedyawantyaloveya',\n",
       " 'gothrudifferdeciscopehealeverythbeliev',\n",
       " 'ugophonegonnadiestay',\n",
       " 'greatneverbetterdaygiveevenreasonthankgod',\n",
       " 'sorricalllaterokbye',\n",
       " 'okwayrailway',\n",
       " 'greatprincesslovegivereceivoraldoggistylefavepositenjoymakeloveltgttimepernight',\n",
       " 'putstuffroadkeepgetslipperi',\n",
       " 'goridebike',\n",
       " 'yupneedjuwait4erain2stop',\n",
       " 'manicompanitelllanguag',\n",
       " 'longsincscreamprincess',\n",
       " 'nothmeantmoneyenteraccountbankremovflatratesomeontransferltgtaccountltgtdollargotremovbankdifferchargalsosuretrust9japersonsendaccountdetailco',\n",
       " 'nicelinesaidbrokenplzcum1timeinfrontwisetrustugood9t',\n",
       " 'okgonnaheadusflikefifteenminut',\n",
       " 'loveaathiloveulot',\n",
       " 'tensionahmachiproblem',\n",
       " 'kpickanoth8thdone',\n",
       " 'guygetbackgsaidthinkstaymcr',\n",
       " 'almostseeusec',\n",
       " 'yocarlofriendalreadiaskworkweekend',\n",
       " 'watchtvlor',\n",
       " 'thankbabicantwaittastrealthing',\n",
       " 'changfbjaykwonthuglyffalconerf',\n",
       " 'winrealli1sidelongtime',\n",
       " 'dearreachrailwayhappen',\n",
       " 'dependqualitiwanttypesentboyfadegloriwantralphmayb2',\n",
       " 'thinkfixsendtestmessag',\n",
       " 'sorrimanaccountdriwouldwantcouldtradebackhalfcouldbuyshitcreditcard',\n",
       " 'sorrimeetcalllater',\n",
       " 'classltgtreunion',\n",
       " 'freecall',\n",
       " 'gotmeh',\n",
       " 'nopethinkgomondaysorrireplilate',\n",
       " 'toldaccenturconfirmtrue',\n",
       " 'katejacksonreccenter7ishright',\n",
       " 'dearreachroom',\n",
       " 'fightworldeasiueitherwinlosebtfightngsome1closeudificultuloseuloseuwinustilllose',\n",
       " 'ücome',\n",
       " 'checknuerologist',\n",
       " 'lolnicwentfishwater',\n",
       " 'waitecardatborewatcowaitoutsidgotnoth2homestuffwatchtvwat',\n",
       " 'maybwestshorhydeparkvillagplacenearhous',\n",
       " 'knowanthonibringmoneyschoolfeepayrentstufflikethatneedhelpfriendneed',\n",
       " 'signific',\n",
       " 'opinionjadakusruthilovablsilentsplcharactmaturstylishsimplplrepli',\n",
       " '8latestgstillscroungammowantgivenewaktri',\n",
       " 'prabhasorydarealifrmheartsori',\n",
       " 'lolokforgiven',\n",
       " 'jstchangtat',\n",
       " 'competit',\n",
       " 'waytransportlessproblematsatnightwayuwantasknjoinbdayfeelfreeneedknowdefinitnobookfri',\n",
       " 'usualpersonunconscichildrenadultmaybehavabnormcall',\n",
       " 'ebaymightlesselsewher',\n",
       " 'shallcomegetpickl',\n",
       " 'gonnagogettaco',\n",
       " 'rudecampu',\n",
       " 'hiwobard4christmaenjoynmerri',\n",
       " 'yeprettiladilikesingl',\n",
       " 'jaysay',\n",
       " 'sundayholidaywork',\n",
       " 'late',\n",
       " 'callhopel8rmalariaknowmissguymissbanibigplgiveloveespecigreatday',\n",
       " 'goodafternoonlovegoedayhopemaybgotleadjobthinkboytoysendpassionkissacrosssea',\n",
       " 'probablgonnaseelatertonightlt',\n",
       " 'maybfatfingerpressbuttonknow',\n",
       " 'ummmmmaahmanimanihappireturndaydearsweethearthappibirthdaydear',\n",
       " 'tirupurdastartofficcall',\n",
       " 'famouquotdevelopabillistenunconditwithoutlosetemperselfconfidmean',\n",
       " 'gocollegelsillcomeselfpa',\n",
       " '4oclockminebashflatplan',\n",
       " 'girlstaybedgirlneedrecoveritimeidratherpassfuncoopbed',\n",
       " 'special',\n",
       " 'knowneedgethotelgotinvitapologiscalisweetcomeenglishblokeweddin',\n",
       " 'sorritooklongomw',\n",
       " 'waitltgtmin',\n",
       " 'okgive5minutthinkseebtwalibicuthairwholetime',\n",
       " 'imaginfinalgetsinkbathputpacemaybeveneatleftalsoimaginfeelcagecocksurroundbathwaterremindalwayownenjoycuck',\n",
       " 'hurrilikethreeday',\n",
       " 'suregetacknowledgastoundinglitactlessgenerfaggidemandbloodoathfo',\n",
       " 'everinighttakewarmbathdrinkcupmilkseeworkmagicstillneedloosweightknow',\n",
       " 'lookfripancasecheapbookperhapsillifripanlikebook',\n",
       " 'welluvcausmutatsunscreenlikeessentitheseday',\n",
       " 'lunchonlin',\n",
       " 'knowfriendalreaditold',\n",
       " 'hiprincessthankpicpretti',\n",
       " 'aiyoualwaycexonedunnoabtmeireplifirsttimeureplifastluckiworkinhuhgotbaoursugardadahgee',\n",
       " 'himsgoffic',\n",
       " 'thanx4ebrownivnice',\n",
       " 'geeeeelovemuchbarestand',\n",
       " 'fuckbabemissalreadiknowcaletsendmoneytowardnetneedwantcrave',\n",
       " 'illcallu2mrwninishaddressickiamericanfreekwontstopcallin2badjenkeh',\n",
       " 'ooohbedriddeneythink',\n",
       " 'anywaygogymwhatevlovesmilehopeokgooddaybabemissmuchalreadi',\n",
       " 'lovedaddimakescreampleasurgoslapassdick',\n",
       " 'wotuwannamissi',\n",
       " 'yarlorwait4mum2finishschlunchlorwholemornstayhomecleanroomroomquitcleanhee',\n",
       " 'knowlabgogglwent',\n",
       " 'opendoor',\n",
       " 'waitcall',\n",
       " 'nopewaitsch4daddi',\n",
       " 'tirearguweekweekwant',\n",
       " 'üwait4schfinishard5',\n",
       " 'arngdmarriagurwalkinunfortuntlisnakebitebtlovemarriagdancfrntsnakeampsayinbitebite',\n",
       " 'huhearliüdinneroutsidizzit',\n",
       " 'okanywayneedchangsaid',\n",
       " 'ablkidwantkidoneday',\n",
       " 'scotlandhopeshowjjctendenctakecarelivedream',\n",
       " 'telluheadachwantuse1hoursicktime',\n",
       " 'dunthkquityethmmmgojazzyogasanaosogomeetemlessonden',\n",
       " 'petepleasringmeivhardligotanicredit',\n",
       " 'yasrslibetteryitho',\n",
       " 'meetcalllater',\n",
       " 'stillgrandprix',\n",
       " 'metstrangerchoosfriendlongworldstandfriendshipneverendletfriendforevgudnitz',\n",
       " 'great',\n",
       " 'gudmrngdearniceday',\n",
       " 'exhausttrainmornmuchwinepiesleepwell',\n",
       " 'gobuymumpresentar',\n",
       " 'mindblastintsunamioccurrajnikstopswimindianocean',\n",
       " 'usendhomefirstoklorreadiyet',\n",
       " 'speakcashyet',\n",
       " 'happicomenoon',\n",
       " 'meetlunchla',\n",
       " 'takecarengetwellsoon',\n",
       " 'meantsaycantwaitseeugetborebridgwatbanter',\n",
       " 'nevamindok',\n",
       " 'fineimmagetdrinksomethinwantcomefind',\n",
       " 'valentingamesenddimsgurfriend5answerrsomeonreallilovecoloursuitbestrpli',\n",
       " 'manidepend',\n",
       " 'thanx4todaycernice2catchave2findtimeoftenohwelltakecarecu',\n",
       " 'callsaidchoosfutur',\n",
       " 'happivalentindayknowearlihundrhandsombeautiwishthoughtfinishauntiuncl1st',\n",
       " 'likevshocklehcotellshuhuiliketellleonaalsolikedatalmostknowliaogotaskabturreactionlor',\n",
       " 'familihappi',\n",
       " 'comenpickücomeimmediafturlesson',\n",
       " 'letsnowletsnowkindweatherbringppltogethfriendshipgrow',\n",
       " 'deargotltgtdollarhihi',\n",
       " 'goodwordwordmayleavudismaymanitime',\n",
       " 'makesurealexknowbirthdayfifteenminutfarconcern',\n",
       " 'sorrigotthingmaypublater',\n",
       " 'nahstraightbringbuddrinksomethactuallittlusestraightcash',\n",
       " 'hahagoodhearofficipaidmarket8th',\n",
       " 'manilicktakegetcentertootsipop',\n",
       " 'yupthkreteachersaidmakefacelooklongerdarrenask2cutshort',\n",
       " 'pleasdontsaylikehihihi',\n",
       " 'thanku',\n",
       " 'ohforwardmessagthoughtsend',\n",
       " 'gotseventeenpoundsevenhundrmlhopeok',\n",
       " 'nfunni',\n",
       " 'sweethearthopekinddayoneloadreasonsmilebiola',\n",
       " 'ülogindattimedadfetchühome',\n",
       " 'showerbabi',\n",
       " 'askduquestionhouranswer',\n",
       " 'wellimmadefinitneedrestockthanksgivletknow',\n",
       " 'saidkisskisscasoundeffectgorgeoumankindpersonneedsmilebrightenday',\n",
       " 'probablgonnaswingweebit',\n",
       " 'yareadithursday',\n",
       " 'allobravebusetakentraintriumphmeanbhamjolligoodrestweek',\n",
       " 'watchcartoonlistenmusicampevegotemplampchurchu',\n",
       " 'mindaskhappendontsayuncomfort',\n",
       " 'probsendemail',\n",
       " 'thatcoolsometimslowgentlsonetimroughhard',\n",
       " 'gonnasaysorriwouldnormalstartpanictimesorriseetuesday',\n",
       " 'waitknowwesleytownbethelladrug',\n",
       " 'finemissmuch',\n",
       " 'telldrugdealergetimpati',\n",
       " 'suncantcomeearthsendluvraycloudcantcomeriversendluvraincantcomemeetusendcaremsggudevng',\n",
       " 'doesntmakesenstakeunlessfreeneedknow',\n",
       " 'sealayrockrockenvelopenveloppaperpaper3word',\n",
       " 'mumrepent',\n",
       " 'sorrigohomefirstdaddicomefetchülater',\n",
       " 'leavdestartpreparnext',\n",
       " 'yebabistudipositkamasutra',\n",
       " 'enchikkunangbakramsgkalstiya',\n",
       " 'carlominutstillneedbuy',\n",
       " 'payltdecimgtlakh',\n",
       " 'goodeventtyl',\n",
       " 'ureceivmsg',\n",
       " 'hohobigbellilaughseeyatomo',\n",
       " 'dittowoworrisayanythanymorlikesaidlastnightwhatevwantpeac',\n",
       " 'gotltgtwaycouldpick',\n",
       " 'dontknwpadrinkmilk',\n",
       " 'maybsayhifindgotcardgreatescapwetherspoon',\n",
       " 'piggiruawakbetustillsleepgo4lunch',\n",
       " 'causfreakilol',\n",
       " 'misscallcausyellscrappimisscawaitucomehomelonetoday',\n",
       " 'placetalkexplain',\n",
       " 'ülog4watsdryb8i',\n",
       " 'xygo4elunch',\n",
       " 'wantasküwait4finishlectcolectfinishhouranyway',\n",
       " 'finishworkyet',\n",
       " 'everikingcribabieverigreatbuildmapimprtanturtodayuwilreachtomorwgudni8',\n",
       " 'dearcaseurcomecochinplcallbforeushallalsoreachtelldayurengaganholiday',\n",
       " 'thanklovetorchbold',\n",
       " 'farmopen',\n",
       " 'sorritroublubuy4ddad140516802big1smallsatnsunthanx',\n",
       " 'sisterlawhopegreatmonthsayheyabiola',\n",
       " 'purchasstufftodaymailpoboxnumber',\n",
       " 'ahpooplooklikeillprobsendlaptopgetfixcuzgpuproblem',\n",
       " 'goodgoodjoblikeentrepreneur',\n",
       " 'aightclosestillaroundalexplace',\n",
       " 'meetcorporstoutsidgapseemindwork',\n",
       " 'mumaskübuyfoodhome',\n",
       " 'kualsodontmsgreplimsg',\n",
       " 'muchrüwillpay',\n",
       " 'importpreventdehydrgiveenoughfluid',\n",
       " 'thatbitweirdevensupposhappengoodideasurepub',\n",
       " 'truedearsatprayevenfeltsmtime',\n",
       " 'thinkgetawaytreklongfamilitownsorri',\n",
       " 'wannagymharri',\n",
       " 'quitlatelarard12anywaywunbdrivin',\n",
       " 'heightconfidaeronautprofessorwercalldampweraskd2sitaeroplanaftrsatwertolddatplanewsmadestudentdeyhurriplanebt1didntmovesaidmadestudentwontevenstartdatzconfid',\n",
       " 'seemlikeweirdtimenightgwantcomesmokedayshitstormattributalwaycomemakeeveryonsmoke',\n",
       " 'savestresspersondormaccountsendaccountdetailmoneysent',\n",
       " 'alsoknowlunchmenuknow',\n",
       " 'stuffselltell',\n",
       " 'booklessonmsgcallworksthgogetspecmembershippx3748',\n",
       " 'machadontfeelassumoneevenwonderplanlifebeginanytim',\n",
       " 'ohsendaddress',\n",
       " 'anytimbest',\n",
       " 'wondarfullflim',\n",
       " 'yaevencookijelli',\n",
       " 'worldrunfeeladmitcorrectletcallkeeprunworldmayuralsorun',\n",
       " 'gotlookscrumptioudaddiwanteatnightlong',\n",
       " 'colarbadaook1pmloruneveraskgoahsaiduwouldaskfrisaiduasktoday',\n",
       " 'alrightomwgottachangorderhalf8th',\n",
       " 'exactlianywayfarjidestudivisit',\n",
       " 'dunnouask',\n",
       " 'springcomeearliyay',\n",
       " 'lolwofeelbadusemoneytakesteakdinner',\n",
       " 'evenudontgettroublconvincteltwicetelneglectmsgdontcreaddontrepli',\n",
       " 'leavqatartonitsearchwentaddurprayer',\n",
       " 'onetalk',\n",
       " 'thanklookrealliappreci',\n",
       " 'wish',\n",
       " 'hahamayburiteuknowwelldafeellikesomeongdlorufastergofindonegalgroupattachliao',\n",
       " 'yegladmade',\n",
       " 'welllittltimethinggoodtimeahead',\n",
       " 'gotroomsoonputclockbacktil8shouteveryongetrealiswahayanothhourbed',\n",
       " 'mayfreegym',\n",
       " 'menlikeshorterladigazeeye',\n",
       " 'dunnojusaygolidotime930',\n",
       " 'promistakegoodcareprincessrunpleassendpicgetchancttyl',\n",
       " 'reasonspokenyearanywaygreatweekbestexam',\n",
       " 'mondaynextweekgivefullgist',\n",
       " 'dontgimlipcaveboy',\n",
       " 'getlibrari',\n",
       " 'realirecognisnumberconfusrupleas',\n",
       " 'didntholla',\n",
       " 'cantthinkanyonspareroomtophead',\n",
       " 'faithmakethingpossiblhopemakethingworklovemakethingbeautimaythreechristmamerrichristma',\n",
       " 'umadeappoint',\n",
       " 'callphonevibratactmightheartext',\n",
       " 'grandmaohdearustillillfeltshitmornthinkhungovanothnightleavsat',\n",
       " 'nothjutotuwouldaskcoubaguawentmtfaberyestyestjuwentalreadimahtodaygojucalllor',\n",
       " 'wishfamilimerrixmahappinewyearadvanc',\n",
       " 'ntgoingotsomethinunlessmeetin4dinnerlorhahawondergotitime',\n",
       " 'lolknowdramatschoolalreadiclosetomorrowapparcadriveinchsnowsupposget',\n",
       " 'getanywherdamnjobhunt',\n",
       " 'loludrunkardhairmomentyeahstill4tonightwatplan',\n",
       " 'idcgetweaselwayshittwicerow',\n",
       " 'willtgtminutgotspace',\n",
       " 'thankpicktrash',\n",
       " 'gotellfriendsurewantlivesmokemuchspendhourbegcomesmoke',\n",
       " 'hikateloveseetonightillphonetomorrowgotsingguygavecardxxx',\n",
       " 'happinewyeardearbrotherreallimissgotnumberdecidsendtextwishhappiabiola',\n",
       " 'meangetdoor',\n",
       " 'hmmmthoughtsaid2hourslave3latepunish',\n",
       " 'beerag',\n",
       " 'dontthinkturnlikerandomlliwithin5minopen',\n",
       " 'supposcouldmakestilltownthough',\n",
       " 'timefixspellsometimgetcompletdiffwordgofigur',\n",
       " 'hopeenjoygameyesterdaysorritouchplknowfondlibeinthotgreatweekabiola',\n",
       " 'ebest4urdrivetmr',\n",
       " 'udogbreathsoundlikejancal',\n",
       " 'omgwantscreamweighlostweightwoohoo',\n",
       " 'generoneuncountnounudictionaripiecresearch',\n",
       " 'realligethangaround',\n",
       " 'peteyboywherearfriendsarthekingsheadcomecanlovnic',\n",
       " 'okmsgub4leavhous',\n",
       " 'gimltgtminutago',\n",
       " 'apptlttimegtfaultulistentoldutwice',\n",
       " 'k4',\n",
       " 'dled3dimp',\n",
       " 'suremakesureknowaismokinyet',\n",
       " 'booooalwayworkquit',\n",
       " 'takehalfdayleavbecwell',\n",
       " 'ughwannagetbedwarm',\n",
       " 'ltgt',\n",
       " 'ringcomeguycostumgiftfuturyowifhinthint',\n",
       " 'borrowurbagok',\n",
       " 'boytoymisshappen',\n",
       " 'lotuseonebabemodelhelpyouibringmatch',\n",
       " 'alsobringgalileodobbi',\n",
       " 'respond',\n",
       " 'boobabeuenjoyinyourjobuseem2bgettinwellhunnihopeureoktakecare2usoonlotlovemxxxx',\n",
       " 'goodafternoonstarshinboytoycraveyetachfucksipcappuccinomissbabeteaskiss',\n",
       " 'roadcanttxt',\n",
       " 'hmmbitpieclolsigh',\n",
       " 'hahahausebraindear',\n",
       " 'heygotmail',\n",
       " 'sorrilightturngreenmeantanothfriendwantltgtworthmayaround',\n",
       " 'thankyesterdaysirwonderhopeenjoyburialmojibiola',\n",
       " 'himatervuhavniceholmessag3sayhellocozsentu1agestartdrivestayroadrvx',\n",
       " 'thankmuchskypewitkzsuradidntgetpleasurcompanihopegoodgivenultimatumohcountinaburoenjoymessagsentdayago',\n",
       " 'sureresultoffer',\n",
       " 'goodmorndeargreatampsuccessday',\n",
       " 'sirlatepayrentpastmonthpayltgtchargfeltwouldinconsidernagsomethgivegreatcostdidntspeakhowevrecesswontablpaychargmonthhencaskinwellaheadmonthendpleashelpthank',\n",
       " 'luvusoomuchuunderstandspecialur2ringu2morrowluvuxxx',\n",
       " 'plsendcomprehensmailpaymuch',\n",
       " 'prashanthettanmotherpassawaylastnightprayfamili',\n",
       " 'go',\n",
       " 'meanwhilshitsuitxavierdecidgiveusltgtsecondwarnsamanthacomeplayjayguitarimpressshitalsothinkdougrealizliveanymor',\n",
       " 'stomachthrumuchtraumaswearcaeatbetterloseweight',\n",
       " 'officwhatmattermsgcallbreak',\n",
       " 'yeahbareenoughroomtwousxmanifuckshoesorrimanseelater',\n",
       " 'ureachorchardalreadiuwan2gobuyticketfirst',\n",
       " 'realbabiwantbringinnertigress',\n",
       " 'darunactivfullversionda',\n",
       " 'ahpoorbabihopeurfeelbettersnluvprobthatoverdosworkheygocarespk2usnlotlovejenxxx',\n",
       " 'stopstoritoldreturnsayorder',\n",
       " 'gotakebabe',\n",
       " 'haianatomarrowcomemornltdecimgtillsathigortoofficreplicamehome',\n",
       " 'spoonokay',\n",
       " 'saysomebodinametampa',\n",
       " 'workgomin',\n",
       " 'brothergeniu',\n",
       " 'sorriguesswhenevgetholdconnectmaybhourtwotext',\n",
       " 'ufindtimebucozneedsortstuff',\n",
       " 'dudeiveseelottacorvettlate',\n",
       " 'considwallbunkershitimportneverplaypeacguessplacehighenoughmatter',\n",
       " 'wellofficiphilosophholeuwannacallhomereadisave',\n",
       " 'gogoodproblemstillneedlittlexperiunderstandamericancustomvoic',\n",
       " 'textdropx',\n",
       " 'ughlongdayexhaustwantcuddltakenap',\n",
       " 'talkatleastdayotherwismissbestfriendworldshesilltgt',\n",
       " 'castorneedseesometh',\n",
       " 'seeknewgivebreaktimewoulleadalwaywantmisscurfewgonnagibeonemidnightmovigonnagettilneedcomehomeneedgetsleepanythneedbstuddieartrain',\n",
       " 'lovegivemassaguselotbabioilfaveposit',\n",
       " 'dudegosup',\n",
       " 'yoyyooouknowchangpermissdrivemacusbflashdrive',\n",
       " 'gibbhussey',\n",
       " 'liketalkpaabldontknow',\n",
       " 'duncutshortlehudunlikeahfailquitsad',\n",
       " 'unbelievfaglord',\n",
       " 'knewtimemurderexactli',\n",
       " 'askprincess',\n",
       " 'greatprincessthink',\n",
       " 'nuttercutterctterctterggcttarggctarggctaggie',\n",
       " 'oknoeubusirealliboremsgosodunnowatcolourchoos4one',\n",
       " 'gclassearlitomorrowthutrismokeltgt',\n",
       " 'superbgrateudonteverythuwantmeanustillopportunhappiertomorrowutoday',\n",
       " 'hopegoodweekcheck',\n",
       " 'usehopeagentdropsincbookthingyearwholebostonnycexperi',\n",
       " 'thursdaynightyeahsurethingwork',\n",
       " 'probablmoneyworrithingcomedueseveroutstandinvoicworktwothreemonthago',\n",
       " 'possiblteach',\n",
       " 'wonderphonebatteriwentdeadtelllovebabe',\n",
       " 'lovesmellbuaitobacco',\n",
       " 'getworriderektayloralreadiassumworst',\n",
       " 'heycharlsorrilaterepli',\n",
       " 'giveplusaidgrinulgreetwhenevspeak',\n",
       " 'whitefudgoreostore',\n",
       " 'lovecometooklongleavzahergotwordymhappiseesadleftmiss',\n",
       " 'sorrihurt',\n",
       " 'cafeelnauseoupisseatsweetweekcaustodayplanpigdietweekhungri',\n",
       " 'oklorearlistillprojectmeet',\n",
       " 'calldawaitcall',\n",
       " 'couldaskcarlocouldgetanybodielschip',\n",
       " 'actualsendremindtodaywonderweekend',\n",
       " 'peoplseemsgthinkiamaddictmsgingwrongbcozknowiamaddictsweetfriendbslvyl',\n",
       " 'heygavephotoregistdriveahtmrwannameetyck',\n",
       " 'donttalkeverokword',\n",
       " 'uwanasee',\n",
       " 'wayschoolplsendashleynumber',\n",
       " 'shallfineavalarrhollalat',\n",
       " 'wentattendanothtworoundtodaystillreachhome',\n",
       " 'actualdeletoldwebsitblog',\n",
       " 'kwaitchikkuilsendaftrltgtmin',\n",
       " 'dietate1manislicepizzayesterdayughalwaydiet',\n",
       " 'kgivekvbaccdetail',\n",
       " 'ohcomeah',\n",
       " 'reallisorriwobabl2ufindyrtermgook',\n",
       " 'congratuloremoowowaenjoywishmanihappimomentfrowherevgo',\n",
       " 'samushoulderyet',\n",
       " 'timethinkneedknownearcampu',\n",
       " 'dunwearjeanlor',\n",
       " 'sincsidefevervomitin',\n",
       " 'kcolleg',\n",
       " 'bettermadefridaystuflikepigyesterdayfeelblehleastwrithpainkindbleh',\n",
       " 'selltoncoinsellcoinsomeonthrupaypalvoilamoneybacklifepocket',\n",
       " 'theyrlotplacehospitmedicplacesafe',\n",
       " 'alsosortablowncoupltimerecentidrathertextbluelookweed',\n",
       " 'sentscoresophasecondariapplicschoolthinkthinkappliresearchcostalsocontactjokeogunrindschoolonelessexpensone',\n",
       " 'cantwaitseephotouse',\n",
       " 'heybookkbsatalreadilessongoahkeepsatnightfreeneedmeetconfirmlodg',\n",
       " 'chkurbelovdmsdict',\n",
       " 'timewantcome',\n",
       " 'awesomlemknowwhenevaround',\n",
       " 'shbboklorthanx',\n",
       " 'beautitruthgravitireadcareheartfeellightsomeonfeelheavisomeonleavgoodnight',\n",
       " 'alsoremembgetdobbibowlcar',\n",
       " 'sorricurmsgyarlorpoorthing4onenighttmrubrandnewroom2sleep',\n",
       " 'lovedecisfeelcoulddecidlovelifewouldmuchsimplerlessmagic',\n",
       " 'welpapparretir',\n",
       " 'sortcodeaccbanknatwestrepliconfirmsentrightperson',\n",
       " 'usureucatakesicktime',\n",
       " 'yochadgymnastclasswannatakesitesaychristianclassfull',\n",
       " 'betterstillcatchletasksellltgt',\n",
       " 'surenightmenuknownoonmenu',\n",
       " 'uwantcomebackbeautinecklactokenheartgivewifeseeonegivecallwaittillcome',\n",
       " 'willgoaptitudclass',\n",
       " 'wontbtri2sorthousok',\n",
       " 'yarlorwan2gochorsracetodaymaheatearlierloratechickenriceu',\n",
       " 'hahaawesomomwback',\n",
       " 'yupthkeshopcloselor',\n",
       " 'accountnumber',\n",
       " 'ehusendwronglilar',\n",
       " 'heyadcrapniteborinwithoutya2boggiuborebiatchthanxuwaittilnxttimeilaveya',\n",
       " 'okshalltalk',\n",
       " 'donthesitknowsecondtimeweaklikekeepnotebookeatdayanythchangdaysurenoth',\n",
       " 'heypaysalarideltgt',\n",
       " 'anothmonthneedchocolweedalcohol',\n",
       " 'startsearchgetjobgreatpotentitalent',\n",
       " 'reckonneedtowneightishwalkcarpark',\n",
       " 'lookfuckintimefuckthink',\n",
       " 'yoguessdrop',\n",
       " 'carlosaymultgtminut',\n",
       " 'officcallltgtmin',\n",
       " 'geeeemissalreadiknowthinkfuckcawaittillnextyeartogethlovekiss',\n",
       " 'yunubionesayüwancall67441233lookgotubicreubitech1st5wkg',\n",
       " 'ughgottadrivebacksdlabuttsore',\n",
       " '26thjuli',\n",
       " 'hiimrelaxtimeeverget7ameveridaypartigoodnightgethometomorrow5ish',\n",
       " 'üüwancomecomelordincstripeskirt',\n",
       " 'xmastoripeacxmamsglovexmamiracljesuhavblessmonthaheadampwishumerrixma',\n",
       " 'canumber',\n",
       " 'changeonenextescal',\n",
       " 'yetundclassrunwatermakepl',\n",
       " 'lothappenfeelquietbethauntcharliworklothelenmo',\n",
       " 'üwait4bustopafturlectlarduncügogetcarcomebacknpickü',\n",
       " 'aightthankcomin',\n",
       " 'heardabttat',\n",
       " 'ltgtthinksaysyllabu',\n",
       " 'ummasayanyth',\n",
       " 'givesecthinkthink',\n",
       " 'quitknowstillcagetholdanyoncudpickboutseepub',\n",
       " 'poyyarikaturkolathupalayamunjalurposteroddiltgt',\n",
       " 'dearheroleavqatartonitaptkeeptouchltemailgtkerala',\n",
       " 'lolwouldmomwouldfittellwholefamilicraziterribl',\n",
       " 'gothomebabestillawak',\n",
       " 'dunnocloseorediüvfan',\n",
       " 'buypizzameatloversupremugetpick',\n",
       " 'yatoldaskwatmatter',\n",
       " 'dearregretcudntpickfrmctlacochinmobilcarentstyleishtamayoohappibakrid',\n",
       " 'shallsendexemailid',\n",
       " 'nopewatchtvhomegovbore',\n",
       " 'knowwaitcheck',\n",
       " 'goodafternoongloriouanniversaridaysweetjhopefindhappicontentpreythinksendteaskissacrossseacoaximagfondsouveni',\n",
       " 'stilltonight',\n",
       " 'maycalllaterpl',\n",
       " 'patternrecentcrapweekend',\n",
       " 'sorethroatscratchtalk',\n",
       " 'yedaplmuroffic',\n",
       " 'aroundstillasleepv',\n",
       " 'lolforgotehyebringbabe',\n",
       " 'goodfindway',\n",
       " 'useforeignstampcountrigoodlectur',\n",
       " 'yupbathliao',\n",
       " 'happinewyearman',\n",
       " 'ohmrsheffieldwannaplaygameokaybossnannigiveraisgiveone',\n",
       " 'zoehit2imfuckshitinildefotrihardest2cum2morowluvumillionlekdog',\n",
       " 'hellobabigetbackmomsetcomputfillbelligoeloverboymissalreadisigh',\n",
       " 'blanketsufficithx',\n",
       " 'naughtilittlthoughtbetterflirtflirtnflirtratherlovesomeonngettinhurthurtnhurtgudnyt',\n",
       " 'edisonrightlisaidfoolaskquestionwisemananswerknowusspeechlessvivagmgngegnt',\n",
       " 'talkthatdewont',\n",
       " 'todaygocollegablattenclass',\n",
       " 'classhollalater',\n",
       " 'mmmthatbettergotroastbbetterdrink2goodindian',\n",
       " 'comeround',\n",
       " '1thingchangsentencwant2concentreduccareerimleav',\n",
       " 'walkhour2cushowcarewontubelievimseriou',\n",
       " 'availsoirejune3rd',\n",
       " 'unoewattimeeplacedatsell4dclose',\n",
       " 'gotanothjobonehospitdataanalysisomethstartmondaysurethesigotfinish',\n",
       " 'jaygetrealliimpatibelliger',\n",
       " 'hiyacomin2bristol1stweekaprillegotrudinewyrevedrunkubakcollegyetworksendink2bath',\n",
       " 'workpleascall',\n",
       " 'udrivelor',\n",
       " 'ard515likedat',\n",
       " 'tellfemalvthrowdecidget',\n",
       " 'worktechnicsupportvoicfield',\n",
       " 'mightcomekerala2prepartakeleavfinalisplantravelfinishurgentwork',\n",
       " 'suretimethosuregetlibrariclasstriseepointgoodeve',\n",
       " 'finebitchlater',\n",
       " 'mumwent2dentist',\n",
       " 'freecallsirwait',\n",
       " 'meetuworktelshallworktomorrow',\n",
       " 'jufinishbath',\n",
       " 'alrightmakesurecarbacktonight',\n",
       " 'lulimgettinjuicigossiphospittwonurstalkfatgettinonethinksheobesoyea',\n",
       " 'aightillgetfbcouplminut',\n",
       " 'oiamiparchinakicchukaajkorticchakorchnaphonetatulnaplzplz',\n",
       " 'downloadclearmovidvdcopi',\n",
       " 'yepprettisculptur',\n",
       " 'conveyregard',\n",
       " 'watchsuryamovi6pmvijaymovipokkiri',\n",
       " 'tellhappendontbehavlikeokneedsay',\n",
       " 'ugetpicmsgphone',\n",
       " 'sendsomeonels',\n",
       " 'watmakepeopldearerdehappidatufeelumeetdepainufeelumissdem',\n",
       " 'lovestartfeelneedeveritimearoundfirstthingcomewouldstartdayendeveritimeeveribreathlifehappenaroundlifenamewouldcrigivehappitakereadifightanyonlovecraziestthingproovanyongirlbeautiladiwholealwaysingpraisstartmakechickencurriendmakibeautigeteverimornthankgoddaywouldlikesaylottelllater',\n",
       " 'likeneedlclockthoughvrclockvrntabl2metevnvmeetitz4fewsecondbtvalwistayconectgud9t',\n",
       " 'thinkspatulahand',\n",
       " 'nevernoth',\n",
       " 'goodmorntodaylateltdecimgtmin',\n",
       " 'pleasdacallmistaksidesorridapldagotodoctor',\n",
       " 'rmeet',\n",
       " 'wellweathercaligreatcomplexgreatneedcarmovefreelitaxoutraggreatplacesadpartmisshome',\n",
       " 'reachhometirecometomorro',\n",
       " 'rydergibb',\n",
       " 'fretbuyovulteststripsendwontgettillikemarchsendpostal',\n",
       " 'gifttrigetthrowcliffsometh',\n",
       " 'nethinginterestgoodbirthdayuwrkingnxtstartunitoday',\n",
       " 'busicomepointfigurtomorrow',\n",
       " 'yeahgoboredepresssittinwaitinphoneringhopewinddropthoughscari',\n",
       " 'blackshirtnbluejeanthkcü',\n",
       " 'aiyahsorrilorwatchtvwatchforgot2checkphone',\n",
       " 'hennightgoswing',\n",
       " 'goodafternoonlovegoedaywokeearlionlinwaithmmmitalianboyonlinseegrin',\n",
       " 'someonsmokeeveritimesmokelasttwoweekcalltextwantsmoke',\n",
       " 'getheadachtrifigurutrustmathpromis',\n",
       " 'firsttimedhonirock',\n",
       " 'okilltellcompani',\n",
       " 'awesomthinkget8thusftimetonight',\n",
       " 'meanstillthinkteju',\n",
       " 'goodmoviokleavhourish',\n",
       " 'kallihomehometowndurban',\n",
       " 'letmakesaturdaymondayperconveni',\n",
       " 'heytimedrivefrigoevalufri',\n",
       " 'go4lunchwiffamiliaftdatgostr2orchardlor',\n",
       " 'cancelcheyyamogetmoneyback',\n",
       " 'okwhaturtodayplan',\n",
       " 'goodmornprincess',\n",
       " 'aiyarsorrilorforgot2tellu',\n",
       " 'tonightmatecatchsleepnewnumberway',\n",
       " 'heightohshitsituatguythrowluvlettergalfallbrotherheadwhogay',\n",
       " 'checkerrordifficulticorrect',\n",
       " 'howzpainhopeurfine',\n",
       " 'uwakealreadithanx4etausarpiahquitnice',\n",
       " 'kneedloginanyth',\n",
       " 'lolbusi',\n",
       " 'uwear',\n",
       " 'ohusualvijayfilmdiffer',\n",
       " 'gooddayminereallibusimuchtomorrownight',\n",
       " 'waysendshadestuffwonder',\n",
       " 'reallitoturpaperendlongagowatucopijugotuseuhappilarstillhaf2studi',\n",
       " 'babelost',\n",
       " 'okhelpaskworktmr',\n",
       " 'driveraingetcaughtemrtstationlor',\n",
       " 'droptank',\n",
       " 'saidtextonetime',\n",
       " 'okgochangalso',\n",
       " 'ufindsitterkaitlynsicksleptdayyesterday',\n",
       " 'sorrimanaccidentleftphonesilentlastnightchecktilgot',\n",
       " 'heysomethcamelastminthinkwunsigntmrhee',\n",
       " 'adultwouldlearnexperirealdangerdontlikepeepusedrugdontneedcomment',\n",
       " 'heyveggipizza',\n",
       " 'yunbuyschoolgotoffer2000plu',\n",
       " 'sureneighbordidntpick',\n",
       " 'sent',\n",
       " 'wellimcomputerlesstimemakeoreotruffl',\n",
       " 'hahayeahseesec',\n",
       " 'numbersir',\n",
       " 'lolhotairballoon',\n",
       " 'okcomesooncomeotherwistomorrow',\n",
       " 'msgrtimesilentsaythinkurightalsomakeuthinkleast4momentgddrmshesil',\n",
       " 'yeahprobablswingroommatfinishgirl',\n",
       " 'happinewyearmelodi',\n",
       " 'üdunneedpickurgf',\n",
       " 'yaybettertold5girleither',\n",
       " 'horriblueatmaceatuforgotabtalreadiriteutakelong2replithktootb4bpreparwatshalleat',\n",
       " 'sayfantastchancanythneedbiggerlifeliftlose2livethinkwouldfirstperson2dienvq',\n",
       " 'nwcamehmeda',\n",
       " 'outsidislandheadtowardhardrockrun',\n",
       " 'dayclassclass',\n",
       " 'chennaivelacheri',\n",
       " 'flippinshityet',\n",
       " 'kgivesecbreakltgtcstore',\n",
       " 'muchbadavoidlike',\n",
       " 'yoaroundgotcarback',\n",
       " 'annoy',\n",
       " 'goodmorntodaylateltgtmin',\n",
       " 'pointhanginmrrightmakinuhappi',\n",
       " 'comecorrectgoodlookfigur',\n",
       " 'caseguessseecampulodg',\n",
       " 'done',\n",
       " 'comehomeonelasttimewontanythtrust',\n",
       " 'nightworriapptshamemissgirlnightquizzpopcornhair',\n",
       " 'okcya',\n",
       " 'saidmattermindsaymatter',\n",
       " 'almoannethingoewrongfaultaldeargumentrfaultfedhimsobotherhav2go',\n",
       " 'nefttransactrefernumberltgtrsltdecimgtcreditbeneficiariaccountltgtlttimegtltgt',\n",
       " 'otherwisparttimejob',\n",
       " 'knowcall',\n",
       " 'alsodafeelyesterdaynightwaittil2daynightdear',\n",
       " 'thankunderstandtritellsura',\n",
       " 'wholecarapprecilasttwodadmapreadsemiargumentapartthinggop',\n",
       " 'needstrongarm',\n",
       " 'alsomaaaanmiss',\n",
       " 'bdayrealapril',\n",
       " 'guessinaigonna9',\n",
       " 'okcomeurhomehalfhour',\n",
       " ...]"
      ]
     },
     "execution_count": 62,
     "metadata": {},
     "output_type": "execute_result"
    }
   ],
   "source": [
    "ham_corpus"
   ]
  },
  {
   "cell_type": "code",
   "execution_count": 63,
   "id": "cd4b4587",
   "metadata": {},
   "outputs": [],
   "source": [
    "from collections import Counter"
   ]
  },
  {
   "cell_type": "code",
   "execution_count": 64,
   "id": "b117c2b8",
   "metadata": {},
   "outputs": [
    {
     "name": "stderr",
     "output_type": "stream",
     "text": [
      "C:\\Users\\himanshu\\anaconda3\\lib\\site-packages\\seaborn\\_decorators.py:36: FutureWarning: Pass the following variables as keyword args: x, y. From version 0.12, the only valid positional argument will be `data`, and passing other arguments without an explicit keyword will result in an error or misinterpretation.\n",
      "  warnings.warn(\n"
     ]
    },
    {
     "data": {
      "image/png": "[encoded data removed]",
      "text/plain": [
       "<Figure size 432x288 with 1 Axes>"
      ]
     },
     "metadata": {
      "needs_background": "light"
     },
     "output_type": "display_data"
    }
   ],
   "source": [
    "sns.barplot(pd.DataFrame(Counter(ham_corpus).most_common(30))[0],\n",
    "           pd.DataFrame(Counter(ham_corpus).most_common(30))[1])\n",
    "plt.xticks(rotation=90)\n",
    "plt.show()"
   ]
  },
  {
   "cell_type": "code",
   "execution_count": 65,
   "id": "2e271602",
   "metadata": {},
   "outputs": [
    {
     "data": {
      "text/html": [
       "<div>\n",
       "<style scoped>\n",
       "    .dataframe tbody tr th:only-of-type {\n",
       "        vertical-align: middle;\n",
       "    }\n",
       "\n",
       "    .dataframe tbody tr th {\n",
       "        vertical-align: top;\n",
       "    }\n",
       "\n",
       "    .dataframe thead th {\n",
       "        text-align: right;\n",
       "    }\n",
       "</style>\n",
       "<table border=\"1\" class=\"dataframe\">\n",
       "  <thead>\n",
       "    <tr style=\"text-align: right;\">\n",
       "      <th></th>\n",
       "      <th>Category</th>\n",
       "      <th>Message</th>\n",
       "      <th>num_characters</th>\n",
       "      <th>num_words</th>\n",
       "      <th>num_sentence</th>\n",
       "      <th>transformed_text</th>\n",
       "    </tr>\n",
       "  </thead>\n",
       "  <tbody>\n",
       "    <tr>\n",
       "      <th>0</th>\n",
       "      <td>0</td>\n",
       "      <td>Go until jurong point, crazy.. Available only ...</td>\n",
       "      <td>111</td>\n",
       "      <td>24</td>\n",
       "      <td>2</td>\n",
       "      <td>gojurongpointcraziavailbugingreatworldlaebuffe...</td>\n",
       "    </tr>\n",
       "    <tr>\n",
       "      <th>1</th>\n",
       "      <td>0</td>\n",
       "      <td>Ok lar... Joking wif u oni...</td>\n",
       "      <td>29</td>\n",
       "      <td>8</td>\n",
       "      <td>2</td>\n",
       "      <td>oklarjokewifuoni</td>\n",
       "    </tr>\n",
       "    <tr>\n",
       "      <th>2</th>\n",
       "      <td>1</td>\n",
       "      <td>Free entry in 2 a wkly comp to win FA Cup fina...</td>\n",
       "      <td>155</td>\n",
       "      <td>37</td>\n",
       "      <td>2</td>\n",
       "      <td>freeentri2wklicompwinfacupfinaltkt21stmaytextf...</td>\n",
       "    </tr>\n",
       "    <tr>\n",
       "      <th>3</th>\n",
       "      <td>0</td>\n",
       "      <td>U dun say so early hor... U c already then say...</td>\n",
       "      <td>49</td>\n",
       "      <td>13</td>\n",
       "      <td>1</td>\n",
       "      <td>udunsayearlihorucalreadisay</td>\n",
       "    </tr>\n",
       "    <tr>\n",
       "      <th>4</th>\n",
       "      <td>0</td>\n",
       "      <td>Nah I don't think he goes to usf, he lives aro...</td>\n",
       "      <td>61</td>\n",
       "      <td>15</td>\n",
       "      <td>1</td>\n",
       "      <td>nahthinkgoeusflivearoundthough</td>\n",
       "    </tr>\n",
       "  </tbody>\n",
       "</table>\n",
       "</div>"
      ],
      "text/plain": [
       "   Category                                            Message  \\\n",
       "0         0  Go until jurong point, crazy.. Available only ...   \n",
       "1         0                      Ok lar... Joking wif u oni...   \n",
       "2         1  Free entry in 2 a wkly comp to win FA Cup fina...   \n",
       "3         0  U dun say so early hor... U c already then say...   \n",
       "4         0  Nah I don't think he goes to usf, he lives aro...   \n",
       "\n",
       "   num_characters  num_words  num_sentence  \\\n",
       "0             111         24             2   \n",
       "1              29          8             2   \n",
       "2             155         37             2   \n",
       "3              49         13             1   \n",
       "4              61         15             1   \n",
       "\n",
       "                                    transformed_text  \n",
       "0  gojurongpointcraziavailbugingreatworldlaebuffe...  \n",
       "1                                   oklarjokewifuoni  \n",
       "2  freeentri2wklicompwinfacupfinaltkt21stmaytextf...  \n",
       "3                        udunsayearlihorucalreadisay  \n",
       "4                     nahthinkgoeusflivearoundthough  "
      ]
     },
     "execution_count": 65,
     "metadata": {},
     "output_type": "execute_result"
    }
   ],
   "source": [
    "#Text Vectorization using Bag of words\n",
    "df.head()"
   ]
  },
  {
   "cell_type": "code",
   "execution_count": 66,
   "id": "68e6d574",
   "metadata": {},
   "outputs": [],
   "source": [
    "from sklearn.feature_extraction.text import CountVectorizer,TfidfVectorizer"
   ]
  },
  {
   "cell_type": "code",
   "execution_count": 67,
   "id": "f6968c96",
   "metadata": {},
   "outputs": [],
   "source": [
    "cv=CountVectorizer()"
   ]
  },
  {
   "cell_type": "code",
   "execution_count": 68,
   "id": "b262197a",
   "metadata": {},
   "outputs": [],
   "source": [
    "tfidf=TfidfVectorizer(max_features=3000)"
   ]
  },
  {
   "cell_type": "code",
   "execution_count": 69,
   "id": "cc2fdcd7",
   "metadata": {},
   "outputs": [],
   "source": [
    "X=tfidf.fit_transform(df['transformed_text']).toarray()"
   ]
  },
  {
   "cell_type": "code",
   "execution_count": 70,
   "id": "ea2f58be",
   "metadata": {},
   "outputs": [
    {
     "data": {
      "text/plain": [
       "(5157, 3000)"
      ]
     },
     "execution_count": 70,
     "metadata": {},
     "output_type": "execute_result"
    }
   ],
   "source": [
    "X.shape"
   ]
  },
  {
   "cell_type": "code",
   "execution_count": 71,
   "id": "c07834cf",
   "metadata": {},
   "outputs": [],
   "source": [
    "y=df['Category'].values"
   ]
  },
  {
   "cell_type": "code",
   "execution_count": 72,
   "id": "241e7627",
   "metadata": {},
   "outputs": [
    {
     "data": {
      "text/plain": [
       "array([0, 0, 1, ..., 0, 0, 0])"
      ]
     },
     "execution_count": 72,
     "metadata": {},
     "output_type": "execute_result"
    }
   ],
   "source": [
    "y"
   ]
  },
  {
   "cell_type": "code",
   "execution_count": 73,
   "id": "1dc1211d",
   "metadata": {},
   "outputs": [],
   "source": [
    "from imblearn.over_sampling import SMOTE"
   ]
  },
  {
   "cell_type": "code",
   "execution_count": 74,
   "id": "be36cc97",
   "metadata": {},
   "outputs": [],
   "source": [
    "smote=SMOTE()"
   ]
  },
  {
   "cell_type": "code",
   "execution_count": 75,
   "id": "5f3b48ac",
   "metadata": {},
   "outputs": [],
   "source": [
    "X_sm,y_sm=smote.fit_resample(X,y)\n"
   ]
  },
  {
   "cell_type": "code",
   "execution_count": 76,
   "id": "825c2bf2",
   "metadata": {},
   "outputs": [],
   "source": [
    "sc=StandardScaler()\n"
   ]
  },
  {
   "cell_type": "code",
   "execution_count": 77,
   "id": "58c81db8",
   "metadata": {},
   "outputs": [],
   "source": [
    "X_sm=sc.fit_transform(X_sm)"
   ]
  },
  {
   "cell_type": "code",
   "execution_count": null,
   "id": "2e8c55ae",
   "metadata": {},
   "outputs": [],
   "source": []
  },
  {
   "cell_type": "code",
   "execution_count": 78,
   "id": "785028cd",
   "metadata": {},
   "outputs": [],
   "source": [
    "X_train, X_test, y_train, y_test = train_test_split(X_sm, y_sm, test_size=0.20, random_state=42)"
   ]
  },
  {
   "cell_type": "markdown",
   "id": "ce790ea1",
   "metadata": {},
   "source": [
    "# RandomForestClassifier"
   ]
  },
  {
   "cell_type": "code",
   "execution_count": 79,
   "id": "714d87e8",
   "metadata": {},
   "outputs": [],
   "source": [
    "rfc=RandomForestClassifier()\n"
   ]
  },
  {
   "cell_type": "code",
   "execution_count": 80,
   "id": "ff486e70",
   "metadata": {},
   "outputs": [
    {
     "data": {
      "text/plain": [
       "RandomForestClassifier()"
      ]
     },
     "execution_count": 80,
     "metadata": {},
     "output_type": "execute_result"
    }
   ],
   "source": [
    "rfc.fit(X_train,y_train)"
   ]
  },
  {
   "cell_type": "code",
   "execution_count": 81,
   "id": "41b0cd17",
   "metadata": {},
   "outputs": [],
   "source": [
    "y_pred=rfc.predict(X_train)\n"
   ]
  },
  {
   "cell_type": "code",
   "execution_count": 82,
   "id": "ee8e0498",
   "metadata": {},
   "outputs": [
    {
     "data": {
      "text/plain": [
       "0.8537024221453288"
      ]
     },
     "execution_count": 82,
     "metadata": {},
     "output_type": "execute_result"
    }
   ],
   "source": [
    "accuracy_score(y_train,y_pred)"
   ]
  },
  {
   "cell_type": "code",
   "execution_count": 83,
   "id": "a21285ed",
   "metadata": {},
   "outputs": [],
   "source": [
    "y_pred=rfc.predict(X_test)\n"
   ]
  },
  {
   "cell_type": "code",
   "execution_count": 84,
   "id": "30b0eda0",
   "metadata": {},
   "outputs": [
    {
     "data": {
      "text/plain": [
       "0.8345323741007195"
      ]
     },
     "execution_count": 84,
     "metadata": {},
     "output_type": "execute_result"
    }
   ],
   "source": [
    "accuracy_score(y_test,y_pred)"
   ]
  },
  {
   "cell_type": "code",
   "execution_count": 85,
   "id": "885e7a2e",
   "metadata": {},
   "outputs": [],
   "source": [
    "KF=KFold(5)\n"
   ]
  },
  {
   "cell_type": "code",
   "execution_count": 86,
   "id": "4797d46f",
   "metadata": {},
   "outputs": [],
   "source": [
    "scores=cross_val_score(rfc,X_test,y_test,cv=KF)\n"
   ]
  },
  {
   "cell_type": "code",
   "execution_count": 87,
   "id": "65440bef",
   "metadata": {},
   "outputs": [
    {
     "name": "stdout",
     "output_type": "stream",
     "text": [
      "0 0.7099447513812155\n",
      "1 0.6906077348066298\n",
      "2 0.7008310249307479\n",
      "3 0.7146814404432132\n",
      "4 0.7285318559556787\n"
     ]
    }
   ],
   "source": [
    "for idx,val in enumerate(scores):\n",
    "    print(idx,val)"
   ]
  },
  {
   "cell_type": "code",
   "execution_count": 88,
   "id": "006be90a",
   "metadata": {},
   "outputs": [
    {
     "data": {
      "text/plain": [
       "0.708919361503497"
      ]
     },
     "execution_count": 88,
     "metadata": {},
     "output_type": "execute_result"
    }
   ],
   "source": [
    "scores.mean()"
   ]
  },
  {
   "cell_type": "code",
   "execution_count": 89,
   "id": "39f72a94",
   "metadata": {},
   "outputs": [
    {
     "name": "stdout",
     "output_type": "stream",
     "text": [
      "              precision    recall  f1-score   support\n",
      "\n",
      "           0       0.75      1.00      0.86       895\n",
      "           1       1.00      0.67      0.80       912\n",
      "\n",
      "    accuracy                           0.83      1807\n",
      "   macro avg       0.87      0.84      0.83      1807\n",
      "weighted avg       0.88      0.83      0.83      1807\n",
      "\n"
     ]
    }
   ],
   "source": [
    "print(classification_report(y_test,y_pred))"
   ]
  },
  {
   "cell_type": "code",
   "execution_count": 90,
   "id": "3fb2b9c9",
   "metadata": {},
   "outputs": [],
   "source": [
    "cm=confusion_matrix(y_test,y_pred)"
   ]
  },
  {
   "cell_type": "code",
   "execution_count": 91,
   "id": "b8b37a88",
   "metadata": {},
   "outputs": [
    {
     "data": {
      "text/plain": [
       "<AxesSubplot:>"
      ]
     },
     "execution_count": 91,
     "metadata": {},
     "output_type": "execute_result"
    },
    {
     "data": {
      "image/png": "[encoded data removed]",
      "text/plain": [
       "<Figure size 432x288 with 2 Axes>"
      ]
     },
     "metadata": {
      "needs_background": "light"
     },
     "output_type": "display_data"
    }
   ],
   "source": [
    "sns.heatmap(data=cm,annot=True,fmt='d')"
   ]
  },
  {
   "cell_type": "markdown",
   "id": "c789c4e4",
   "metadata": {},
   "source": [
    "# LogisticRegression"
   ]
  },
  {
   "cell_type": "code",
   "execution_count": 92,
   "id": "511aac6b",
   "metadata": {},
   "outputs": [],
   "source": [
    "lr=LogisticRegression()\n"
   ]
  },
  {
   "cell_type": "code",
   "execution_count": 93,
   "id": "66766535",
   "metadata": {},
   "outputs": [
    {
     "data": {
      "text/plain": [
       "LogisticRegression()"
      ]
     },
     "execution_count": 93,
     "metadata": {},
     "output_type": "execute_result"
    }
   ],
   "source": [
    "lr.fit(X_train,y_train)"
   ]
  },
  {
   "cell_type": "code",
   "execution_count": 94,
   "id": "998823af",
   "metadata": {},
   "outputs": [],
   "source": [
    "y_pred=lr.predict(X_train)\n"
   ]
  },
  {
   "cell_type": "code",
   "execution_count": 95,
   "id": "37015475",
   "metadata": {},
   "outputs": [
    {
     "data": {
      "text/plain": [
       "0.850795847750865"
      ]
     },
     "execution_count": 95,
     "metadata": {},
     "output_type": "execute_result"
    }
   ],
   "source": [
    "accuracy_score(y_train,y_pred)"
   ]
  },
  {
   "cell_type": "code",
   "execution_count": 96,
   "id": "8c5b642c",
   "metadata": {},
   "outputs": [],
   "source": [
    "y_pred=lr.predict(X_test)\n"
   ]
  },
  {
   "cell_type": "code",
   "execution_count": 97,
   "id": "65246b2e",
   "metadata": {},
   "outputs": [
    {
     "data": {
      "text/plain": [
       "0.8605423353624793"
      ]
     },
     "execution_count": 97,
     "metadata": {},
     "output_type": "execute_result"
    }
   ],
   "source": [
    "accuracy_score(y_test,y_pred)"
   ]
  },
  {
   "cell_type": "code",
   "execution_count": 98,
   "id": "7dfc3591",
   "metadata": {},
   "outputs": [],
   "source": [
    "KF=KFold(5)\n"
   ]
  },
  {
   "cell_type": "code",
   "execution_count": 99,
   "id": "b101cfe7",
   "metadata": {},
   "outputs": [],
   "source": [
    "scores=cross_val_score(lr,X_test,y_test,cv=KF)\n"
   ]
  },
  {
   "cell_type": "code",
   "execution_count": 100,
   "id": "0368ace1",
   "metadata": {},
   "outputs": [
    {
     "name": "stdout",
     "output_type": "stream",
     "text": [
      "0 0.7403314917127072\n",
      "1 0.7403314917127072\n",
      "2 0.778393351800554\n",
      "3 0.7617728531855956\n",
      "4 0.7645429362880887\n"
     ]
    }
   ],
   "source": [
    "for idx,val in enumerate(scores):\n",
    "    print(idx,val)"
   ]
  },
  {
   "cell_type": "code",
   "execution_count": 101,
   "id": "0ecc1f39",
   "metadata": {},
   "outputs": [
    {
     "data": {
      "text/plain": [
       "0.7570744249399306"
      ]
     },
     "execution_count": 101,
     "metadata": {},
     "output_type": "execute_result"
    }
   ],
   "source": [
    "scores.mean()"
   ]
  },
  {
   "cell_type": "code",
   "execution_count": 102,
   "id": "fd736057",
   "metadata": {},
   "outputs": [
    {
     "name": "stdout",
     "output_type": "stream",
     "text": [
      "              precision    recall  f1-score   support\n",
      "\n",
      "           0       0.78      1.00      0.88       895\n",
      "           1       1.00      0.72      0.84       912\n",
      "\n",
      "    accuracy                           0.86      1807\n",
      "   macro avg       0.89      0.86      0.86      1807\n",
      "weighted avg       0.89      0.86      0.86      1807\n",
      "\n"
     ]
    }
   ],
   "source": [
    "print(classification_report(y_test,y_pred))"
   ]
  },
  {
   "cell_type": "code",
   "execution_count": 103,
   "id": "e0684cc8",
   "metadata": {},
   "outputs": [],
   "source": [
    "cm=confusion_matrix(y_test,y_pred)"
   ]
  },
  {
   "cell_type": "code",
   "execution_count": 104,
   "id": "17865942",
   "metadata": {},
   "outputs": [
    {
     "data": {
      "text/plain": [
       "<AxesSubplot:>"
      ]
     },
     "execution_count": 104,
     "metadata": {},
     "output_type": "execute_result"
    },
    {
     "data": {
      "image/png": "[encoded data removed]",
      "text/plain": [
       "<Figure size 432x288 with 2 Axes>"
      ]
     },
     "metadata": {
      "needs_background": "light"
     },
     "output_type": "display_data"
    }
   ],
   "source": [
    "sns.heatmap(data=cm,annot=True,fmt='d')"
   ]
  },
  {
   "cell_type": "markdown",
   "id": "a750bd1a",
   "metadata": {},
   "source": [
    "# KNeighborsClassifier"
   ]
  },
  {
   "cell_type": "code",
   "execution_count": 105,
   "id": "06b88ecf",
   "metadata": {},
   "outputs": [],
   "source": [
    "knc=KNeighborsClassifier()\n"
   ]
  },
  {
   "cell_type": "code",
   "execution_count": 106,
   "id": "676fcf2f",
   "metadata": {},
   "outputs": [
    {
     "data": {
      "text/plain": [
       "KNeighborsClassifier()"
      ]
     },
     "execution_count": 106,
     "metadata": {},
     "output_type": "execute_result"
    }
   ],
   "source": [
    "knc.fit(X_train,y_train)"
   ]
  },
  {
   "cell_type": "code",
   "execution_count": 107,
   "id": "b92b3db0",
   "metadata": {},
   "outputs": [],
   "source": [
    "y_pred=knc.predict(X_train)\n"
   ]
  },
  {
   "cell_type": "code",
   "execution_count": 108,
   "id": "8b3cd38a",
   "metadata": {},
   "outputs": [
    {
     "data": {
      "text/plain": [
       "0.5856055363321799"
      ]
     },
     "execution_count": 108,
     "metadata": {},
     "output_type": "execute_result"
    }
   ],
   "source": [
    "accuracy_score(y_train,y_pred)"
   ]
  },
  {
   "cell_type": "code",
   "execution_count": 109,
   "id": "d4f49446",
   "metadata": {},
   "outputs": [],
   "source": [
    "y_pred=knc.predict(X_test)\n"
   ]
  },
  {
   "cell_type": "code",
   "execution_count": 110,
   "id": "ad70266c",
   "metadata": {},
   "outputs": [
    {
     "data": {
      "text/plain": [
       "0.49861649142224684"
      ]
     },
     "execution_count": 110,
     "metadata": {},
     "output_type": "execute_result"
    }
   ],
   "source": [
    "accuracy_score(y_test,y_pred)"
   ]
  },
  {
   "cell_type": "code",
   "execution_count": 111,
   "id": "42f77134",
   "metadata": {},
   "outputs": [],
   "source": [
    "KF=KFold(5)\n"
   ]
  },
  {
   "cell_type": "code",
   "execution_count": 112,
   "id": "e5c018de",
   "metadata": {},
   "outputs": [],
   "source": [
    "scores=cross_val_score(knc,X_test,y_test,cv=KF)\n"
   ]
  },
  {
   "cell_type": "code",
   "execution_count": 113,
   "id": "357e2508",
   "metadata": {},
   "outputs": [
    {
     "name": "stdout",
     "output_type": "stream",
     "text": [
      "0 0.4143646408839779\n",
      "1 0.4558011049723757\n",
      "2 0.5650969529085873\n",
      "3 0.4903047091412742\n",
      "4 0.5844875346260388\n"
     ]
    }
   ],
   "source": [
    "for idx,val in enumerate(scores):\n",
    "    print(idx,val)"
   ]
  },
  {
   "cell_type": "code",
   "execution_count": 114,
   "id": "a27d2b01",
   "metadata": {},
   "outputs": [
    {
     "data": {
      "text/plain": [
       "0.5020109885064508"
      ]
     },
     "execution_count": 114,
     "metadata": {},
     "output_type": "execute_result"
    }
   ],
   "source": [
    "scores.mean()"
   ]
  },
  {
   "cell_type": "code",
   "execution_count": 115,
   "id": "73f75fc9",
   "metadata": {},
   "outputs": [
    {
     "name": "stdout",
     "output_type": "stream",
     "text": [
      "              precision    recall  f1-score   support\n",
      "\n",
      "           0       0.08      0.00      0.00       895\n",
      "           1       0.50      0.99      0.67       912\n",
      "\n",
      "    accuracy                           0.50      1807\n",
      "   macro avg       0.29      0.49      0.33      1807\n",
      "weighted avg       0.29      0.50      0.34      1807\n",
      "\n"
     ]
    }
   ],
   "source": [
    "print(classification_report(y_test,y_pred))"
   ]
  },
  {
   "cell_type": "code",
   "execution_count": 116,
   "id": "8cfe05ca",
   "metadata": {},
   "outputs": [],
   "source": [
    "cm=confusion_matrix(y_test,y_pred)"
   ]
  },
  {
   "cell_type": "code",
   "execution_count": 117,
   "id": "012a247f",
   "metadata": {},
   "outputs": [
    {
     "data": {
      "text/plain": [
       "<AxesSubplot:>"
      ]
     },
     "execution_count": 117,
     "metadata": {},
     "output_type": "execute_result"
    },
    {
     "data": {
      "image/png": "[encoded data removed]",
      "text/plain": [
       "<Figure size 432x288 with 2 Axes>"
      ]
     },
     "metadata": {
      "needs_background": "light"
     },
     "output_type": "display_data"
    }
   ],
   "source": [
    "sns.heatmap(data=cm,annot=True,fmt='d')"
   ]
  },
  {
   "cell_type": "markdown",
   "id": "fcbeaf4c",
   "metadata": {},
   "source": [
    "# XGBClassifier"
   ]
  },
  {
   "cell_type": "code",
   "execution_count": 118,
   "id": "a135e06d",
   "metadata": {},
   "outputs": [],
   "source": [
    "xgb_i=xgb.XGBClassifier()"
   ]
  },
  {
   "cell_type": "code",
   "execution_count": 119,
   "id": "1d1a472e",
   "metadata": {},
   "outputs": [
    {
     "data": {
      "text/plain": [
       "XGBClassifier(base_score=None, booster=None, callbacks=None,\n",
       "              colsample_bylevel=None, colsample_bynode=None,\n",
       "              colsample_bytree=None, early_stopping_rounds=None,\n",
       "              enable_categorical=False, eval_metric=None, feature_types=None,\n",
       "              gamma=None, gpu_id=None, grow_policy=None, importance_type=None,\n",
       "              interaction_constraints=None, learning_rate=None, max_bin=None,\n",
       "              max_cat_threshold=None, max_cat_to_onehot=None,\n",
       "              max_delta_step=None, max_depth=None, max_leaves=None,\n",
       "              min_child_weight=None, missing=nan, monotone_constraints=None,\n",
       "              n_estimators=100, n_jobs=None, num_parallel_tree=None,\n",
       "              predictor=None, random_state=None, ...)"
      ]
     },
     "execution_count": 119,
     "metadata": {},
     "output_type": "execute_result"
    }
   ],
   "source": [
    "xgb_i.fit(X_train,y_train)"
   ]
  },
  {
   "cell_type": "code",
   "execution_count": 120,
   "id": "3b637d8a",
   "metadata": {},
   "outputs": [],
   "source": [
    "y_pred=xgb_i.predict(X_train)\n"
   ]
  },
  {
   "cell_type": "code",
   "execution_count": 121,
   "id": "d37d8b85",
   "metadata": {},
   "outputs": [
    {
     "data": {
      "text/plain": [
       "0.7998615916955018"
      ]
     },
     "execution_count": 121,
     "metadata": {},
     "output_type": "execute_result"
    }
   ],
   "source": [
    "accuracy_score(y_train,y_pred)"
   ]
  },
  {
   "cell_type": "code",
   "execution_count": 122,
   "id": "578b4152",
   "metadata": {},
   "outputs": [],
   "source": [
    "y_pred=xgb_i.predict(X_test)\n"
   ]
  },
  {
   "cell_type": "code",
   "execution_count": 123,
   "id": "1e06d7f7",
   "metadata": {},
   "outputs": [
    {
     "data": {
      "text/plain": [
       "0.7526286662977311"
      ]
     },
     "execution_count": 123,
     "metadata": {},
     "output_type": "execute_result"
    }
   ],
   "source": [
    "accuracy_score(y_test,y_pred)"
   ]
  },
  {
   "cell_type": "code",
   "execution_count": 124,
   "id": "01f4a2ee",
   "metadata": {},
   "outputs": [],
   "source": [
    "KF=KFold(5)\n"
   ]
  },
  {
   "cell_type": "code",
   "execution_count": 125,
   "id": "ba5187ce",
   "metadata": {},
   "outputs": [],
   "source": [
    "scores=cross_val_score(xgb_i,X_test,y_test,cv=KF)\n"
   ]
  },
  {
   "cell_type": "code",
   "execution_count": 126,
   "id": "c5a94e60",
   "metadata": {},
   "outputs": [
    {
     "name": "stdout",
     "output_type": "stream",
     "text": [
      "0 0.4861878453038674\n",
      "1 0.49171270718232046\n",
      "2 0.4930747922437673\n",
      "3 0.4930747922437673\n",
      "4 0.5069252077562327\n"
     ]
    }
   ],
   "source": [
    "for idx,val in enumerate(scores):\n",
    "    print(idx,val)"
   ]
  },
  {
   "cell_type": "code",
   "execution_count": 127,
   "id": "35f814c3",
   "metadata": {},
   "outputs": [
    {
     "data": {
      "text/plain": [
       "0.49419506894599097"
      ]
     },
     "execution_count": 127,
     "metadata": {},
     "output_type": "execute_result"
    }
   ],
   "source": [
    "scores.mean()"
   ]
  },
  {
   "cell_type": "code",
   "execution_count": 128,
   "id": "1e0a86b3",
   "metadata": {},
   "outputs": [
    {
     "name": "stdout",
     "output_type": "stream",
     "text": [
      "              precision    recall  f1-score   support\n",
      "\n",
      "           0       0.67      1.00      0.80       895\n",
      "           1       1.00      0.51      0.68       912\n",
      "\n",
      "    accuracy                           0.75      1807\n",
      "   macro avg       0.83      0.75      0.74      1807\n",
      "weighted avg       0.84      0.75      0.74      1807\n",
      "\n"
     ]
    }
   ],
   "source": [
    "print(classification_report(y_test,y_pred))"
   ]
  },
  {
   "cell_type": "code",
   "execution_count": 129,
   "id": "35d31b17",
   "metadata": {},
   "outputs": [],
   "source": [
    "cm=confusion_matrix(y_test,y_pred)"
   ]
  },
  {
   "cell_type": "code",
   "execution_count": 130,
   "id": "a30aa2cc",
   "metadata": {},
   "outputs": [
    {
     "data": {
      "text/plain": [
       "<AxesSubplot:>"
      ]
     },
     "execution_count": 130,
     "metadata": {},
     "output_type": "execute_result"
    },
    {
     "data": {
      "image/png": "[encoded data removed]",
      "text/plain": [
       "<Figure size 432x288 with 2 Axes>"
      ]
     },
     "metadata": {
      "needs_background": "light"
     },
     "output_type": "display_data"
    }
   ],
   "source": [
    "sns.heatmap(data=cm,annot=True,fmt='d')"
   ]
  }
 ],
 "metadata": {
  "kernelspec": {
   "display_name": "Python 3 (ipykernel)",
   "language": "python",
   "name": "python3"
  },
  "language_info": {
   "codemirror_mode": {
    "name": "ipython",
    "version": 3
   },
   "file_extension": ".py",
   "mimetype": "text/x-python",
   "name": "python",
   "nbconvert_exporter": "python",
   "pygments_lexer": "ipython3",
   "version": "3.9.12"
  }
 },
 "nbformat": 4,
 "nbformat_minor": 5
}
