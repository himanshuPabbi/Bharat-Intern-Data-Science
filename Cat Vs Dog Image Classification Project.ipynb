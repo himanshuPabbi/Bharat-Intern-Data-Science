{
 "cells": [
  {
   "cell_type": "code",
   "execution_count": 1,
   "id": "c8acf16a",
   "metadata": {},
   "outputs": [],
   "source": [
    "from tensorflow import keras"
   ]
  },
  {
   "cell_type": "code",
   "execution_count": 2,
   "id": "d299cbec",
   "metadata": {},
   "outputs": [],
   "source": [
    "import tensorflow as tf"
   ]
  },
  {
   "cell_type": "code",
   "execution_count": 50,
   "id": "c5e964ee",
   "metadata": {},
   "outputs": [],
   "source": [
    "import numpy as np"
   ]
  },
  {
   "cell_type": "code",
   "execution_count": 3,
   "id": "4df82f5c",
   "metadata": {},
   "outputs": [],
   "source": [
    "from keras import Sequential"
   ]
  },
  {
   "cell_type": "code",
   "execution_count": 4,
   "id": "b407f683",
   "metadata": {},
   "outputs": [],
   "source": [
    "from keras.layers import Dense,Conv2D,MaxPooling2D,Flatten,BatchNormalization,Dropout"
   ]
  },
  {
   "cell_type": "code",
   "execution_count": 44,
   "id": "a194c6f8",
   "metadata": {},
   "outputs": [],
   "source": [
    "import keras.utils as image\n"
   ]
  },
  {
   "cell_type": "code",
   "execution_count": 5,
   "id": "b8692560",
   "metadata": {},
   "outputs": [],
   "source": [
    "#generator"
   ]
  },
  {
   "cell_type": "code",
   "execution_count": 6,
   "id": "2791fd89",
   "metadata": {},
   "outputs": [
    {
     "name": "stdout",
     "output_type": "stream",
     "text": [
      "Found 8000 files belonging to 2 classes.\n"
     ]
    }
   ],
   "source": [
    "train_ds=tf.keras.utils.image_dataset_from_directory(directory='Documents\\CNN Images\\\\training_set',labels=\"inferred\",\n",
    "    label_mode=\"int\",batch_size=32,image_size=(256, 256))\n"
   ]
  },
  {
   "cell_type": "code",
   "execution_count": 7,
   "id": "f42a8b1e",
   "metadata": {},
   "outputs": [
    {
     "name": "stdout",
     "output_type": "stream",
     "text": [
      "Found 2000 files belonging to 2 classes.\n"
     ]
    }
   ],
   "source": [
    "validation_ds=tf.keras.utils.image_dataset_from_directory(directory='Documents\\CNN Images\\\\test_set',labels=\"inferred\",\n",
    "    label_mode=\"int\",batch_size=32,image_size=(256, 256))\n"
   ]
  },
  {
   "cell_type": "code",
   "execution_count": 8,
   "id": "69c6b64a",
   "metadata": {},
   "outputs": [
    {
     "data": {
      "text/plain": [
       "tensorflow.python.data.ops.dataset_ops.BatchDataset"
      ]
     },
     "execution_count": 8,
     "metadata": {},
     "output_type": "execute_result"
    }
   ],
   "source": [
    "type(train_ds)\n"
   ]
  },
  {
   "cell_type": "markdown",
   "id": "e914114c",
   "metadata": {},
   "source": [
    "# Normalize"
   ]
  },
  {
   "cell_type": "code",
   "execution_count": 9,
   "id": "74b14495",
   "metadata": {},
   "outputs": [],
   "source": [
    "def process(image,label):\n",
    "    image=tf.cast(image/255,tf.float32)\n",
    "    return image,label"
   ]
  },
  {
   "cell_type": "code",
   "execution_count": 10,
   "id": "65c4235d",
   "metadata": {},
   "outputs": [],
   "source": [
    "train_ds=train_ds.map(process)"
   ]
  },
  {
   "cell_type": "code",
   "execution_count": 11,
   "id": "f45f4e8c",
   "metadata": {},
   "outputs": [],
   "source": [
    "validation_ds=validation_ds.map(process)"
   ]
  },
  {
   "cell_type": "markdown",
   "id": "b00c8800",
   "metadata": {},
   "source": [
    "# Creating CNN Model"
   ]
  },
  {
   "cell_type": "code",
   "execution_count": 12,
   "id": "f1bdc7b1",
   "metadata": {},
   "outputs": [],
   "source": [
    "model=Sequential()"
   ]
  },
  {
   "cell_type": "code",
   "execution_count": 13,
   "id": "ae057c4a",
   "metadata": {},
   "outputs": [],
   "source": [
    "model.add(Conv2D(32,kernel_size=(3,3),padding=\"valid\",activation='relu',input_shape=(256,256,3)))"
   ]
  },
  {
   "cell_type": "code",
   "execution_count": 14,
   "id": "c09118a4",
   "metadata": {},
   "outputs": [],
   "source": [
    "model.add(BatchNormalization())"
   ]
  },
  {
   "cell_type": "code",
   "execution_count": 15,
   "id": "ceca708c",
   "metadata": {},
   "outputs": [],
   "source": [
    "model.add(MaxPooling2D(pool_size=(2, 2), strides=2, padding=\"valid\"))"
   ]
  },
  {
   "cell_type": "code",
   "execution_count": 16,
   "id": "0736a84b",
   "metadata": {},
   "outputs": [],
   "source": [
    "model.add(Conv2D(64,kernel_size=(3,3),padding=\"valid\",activation='relu'))"
   ]
  },
  {
   "cell_type": "code",
   "execution_count": 17,
   "id": "a9852502",
   "metadata": {},
   "outputs": [],
   "source": [
    "model.add(BatchNormalization())"
   ]
  },
  {
   "cell_type": "code",
   "execution_count": 18,
   "id": "f5426f15",
   "metadata": {},
   "outputs": [],
   "source": [
    "model.add(MaxPooling2D(pool_size=(2, 2), strides=2, padding=\"valid\"))"
   ]
  },
  {
   "cell_type": "code",
   "execution_count": 19,
   "id": "ad2a96dd",
   "metadata": {},
   "outputs": [],
   "source": [
    "model.add(Conv2D(128,kernel_size=(3,3),padding=\"valid\",activation='relu'))"
   ]
  },
  {
   "cell_type": "code",
   "execution_count": 20,
   "id": "9aec5463",
   "metadata": {},
   "outputs": [],
   "source": [
    "model.add(BatchNormalization())"
   ]
  },
  {
   "cell_type": "code",
   "execution_count": 21,
   "id": "d9272845",
   "metadata": {},
   "outputs": [],
   "source": [
    "model.add(MaxPooling2D(pool_size=(2, 2), strides=2, padding=\"valid\"))"
   ]
  },
  {
   "cell_type": "code",
   "execution_count": 22,
   "id": "ccb77e94",
   "metadata": {},
   "outputs": [],
   "source": [
    "model.add(Flatten())"
   ]
  },
  {
   "cell_type": "code",
   "execution_count": 23,
   "id": "e836ab77",
   "metadata": {},
   "outputs": [],
   "source": [
    "model.add(Dense(128,activation='relu'))"
   ]
  },
  {
   "cell_type": "code",
   "execution_count": 24,
   "id": "8b3216d6",
   "metadata": {},
   "outputs": [],
   "source": [
    "model.add(Dropout(0.1))"
   ]
  },
  {
   "cell_type": "code",
   "execution_count": 25,
   "id": "61683f2a",
   "metadata": {},
   "outputs": [],
   "source": [
    "model.add(Dense(64,activation='relu'))"
   ]
  },
  {
   "cell_type": "code",
   "execution_count": 26,
   "id": "599316e7",
   "metadata": {},
   "outputs": [],
   "source": [
    "model.add(Dropout(0.1))"
   ]
  },
  {
   "cell_type": "code",
   "execution_count": 27,
   "id": "cefb156e",
   "metadata": {},
   "outputs": [],
   "source": [
    "model.add(Dense(1,activation='sigmoid'))"
   ]
  },
  {
   "cell_type": "code",
   "execution_count": 28,
   "id": "12568c14",
   "metadata": {},
   "outputs": [
    {
     "name": "stdout",
     "output_type": "stream",
     "text": [
      "Model: \"sequential\"\n",
      "_________________________________________________________________\n",
      " Layer (type)                Output Shape              Param #   \n",
      "=================================================================\n",
      " conv2d (Conv2D)             (None, 254, 254, 32)      896       \n",
      "                                                                 \n",
      " batch_normalization (BatchN  (None, 254, 254, 32)     128       \n",
      " ormalization)                                                   \n",
      "                                                                 \n",
      " max_pooling2d (MaxPooling2D  (None, 127, 127, 32)     0         \n",
      " )                                                               \n",
      "                                                                 \n",
      " conv2d_1 (Conv2D)           (None, 125, 125, 64)      18496     \n",
      "                                                                 \n",
      " batch_normalization_1 (Batc  (None, 125, 125, 64)     256       \n",
      " hNormalization)                                                 \n",
      "                                                                 \n",
      " max_pooling2d_1 (MaxPooling  (None, 62, 62, 64)       0         \n",
      " 2D)                                                             \n",
      "                                                                 \n",
      " conv2d_2 (Conv2D)           (None, 60, 60, 128)       73856     \n",
      "                                                                 \n",
      " batch_normalization_2 (Batc  (None, 60, 60, 128)      512       \n",
      " hNormalization)                                                 \n",
      "                                                                 \n",
      " max_pooling2d_2 (MaxPooling  (None, 30, 30, 128)      0         \n",
      " 2D)                                                             \n",
      "                                                                 \n",
      " flatten (Flatten)           (None, 115200)            0         \n",
      "                                                                 \n",
      " dense (Dense)               (None, 128)               14745728  \n",
      "                                                                 \n",
      " dropout (Dropout)           (None, 128)               0         \n",
      "                                                                 \n",
      " dense_1 (Dense)             (None, 64)                8256      \n",
      "                                                                 \n",
      " dropout_1 (Dropout)         (None, 64)                0         \n",
      "                                                                 \n",
      " dense_2 (Dense)             (None, 1)                 65        \n",
      "                                                                 \n",
      "=================================================================\n",
      "Total params: 14,848,193\n",
      "Trainable params: 14,847,745\n",
      "Non-trainable params: 448\n",
      "_________________________________________________________________\n"
     ]
    }
   ],
   "source": [
    "model.summary()"
   ]
  },
  {
   "cell_type": "code",
   "execution_count": 29,
   "id": "033b342d",
   "metadata": {},
   "outputs": [],
   "source": [
    "model.compile(optimizer='adam',\n",
    "    loss=\"binary_crossentropy\",\n",
    "    metrics=['accuracy'])"
   ]
  },
  {
   "cell_type": "code",
   "execution_count": 30,
   "id": "6de5d373",
   "metadata": {},
   "outputs": [
    {
     "name": "stdout",
     "output_type": "stream",
     "text": [
      "Epoch 1/10\n",
      "250/250 [==============================] - 338s 1s/step - loss: 2.2932 - accuracy: 0.5550 - val_loss: 0.9489 - val_accuracy: 0.5375\n",
      "Epoch 2/10\n",
      "250/250 [==============================] - 329s 1s/step - loss: 0.7263 - accuracy: 0.5932 - val_loss: 0.6549 - val_accuracy: 0.6350\n",
      "Epoch 3/10\n",
      "250/250 [==============================] - 327s 1s/step - loss: 0.6615 - accuracy: 0.6460 - val_loss: 1.0592 - val_accuracy: 0.5415\n",
      "Epoch 4/10\n",
      "250/250 [==============================] - 346s 1s/step - loss: 0.5575 - accuracy: 0.7155 - val_loss: 0.5605 - val_accuracy: 0.7130\n",
      "Epoch 5/10\n",
      "250/250 [==============================] - 337s 1s/step - loss: 0.5074 - accuracy: 0.7499 - val_loss: 0.5879 - val_accuracy: 0.6865\n",
      "Epoch 6/10\n",
      "250/250 [==============================] - 341s 1s/step - loss: 0.4799 - accuracy: 0.7840 - val_loss: 0.6135 - val_accuracy: 0.7060\n",
      "Epoch 7/10\n",
      "250/250 [==============================] - 343s 1s/step - loss: 0.4184 - accuracy: 0.8085 - val_loss: 0.5078 - val_accuracy: 0.7555\n",
      "Epoch 8/10\n",
      "250/250 [==============================] - 339s 1s/step - loss: 0.3522 - accuracy: 0.8439 - val_loss: 0.6594 - val_accuracy: 0.7170\n",
      "Epoch 9/10\n",
      "250/250 [==============================] - 338s 1s/step - loss: 0.3124 - accuracy: 0.8636 - val_loss: 0.5322 - val_accuracy: 0.7525\n",
      "Epoch 10/10\n",
      "250/250 [==============================] - 343s 1s/step - loss: 0.2538 - accuracy: 0.8939 - val_loss: 0.6560 - val_accuracy: 0.6985\n"
     ]
    }
   ],
   "source": [
    "history=model.fit(train_ds,epochs=10,validation_data=validation_ds)"
   ]
  },
  {
   "cell_type": "code",
   "execution_count": 31,
   "id": "26e8b8db",
   "metadata": {},
   "outputs": [
    {
     "data": {
      "image/png": "[encoded data removed]",
      "text/plain": [
       "<Figure size 432x288 with 1 Axes>"
      ]
     },
     "metadata": {
      "needs_background": "light"
     },
     "output_type": "display_data"
    }
   ],
   "source": [
    "import matplotlib.pyplot as plt\n",
    "\n",
    "plt.plot(history.history['accuracy'],color='red',label='train')\n",
    "plt.plot(history.history['val_accuracy'],color='blue',label='validation')\n",
    "plt.legend()\n",
    "plt.show()"
   ]
  },
  {
   "cell_type": "code",
   "execution_count": 32,
   "id": "24af8708",
   "metadata": {},
   "outputs": [
    {
     "data": {
      "image/png": "[encoded data removed]",
      "text/plain": [
       "<Figure size 432x288 with 1 Axes>"
      ]
     },
     "metadata": {
      "needs_background": "light"
     },
     "output_type": "display_data"
    }
   ],
   "source": [
    "plt.plot(history.history['loss'],color='red',label='train')\n",
    "plt.plot(history.history['val_loss'],color='blue',label='validation')\n",
    "plt.legend()\n",
    "plt.show()"
   ]
  },
  {
   "cell_type": "code",
   "execution_count": 69,
   "id": "e1fca48b",
   "metadata": {},
   "outputs": [],
   "source": [
    "test_image=image.load_img('Documents\\CNN Images\\single_prediction\\cat_or_dog_2.jpg',target_size=(256,256))"
   ]
  },
  {
   "cell_type": "code",
   "execution_count": 70,
   "id": "2e5b1c49",
   "metadata": {},
   "outputs": [],
   "source": [
    "test_image=image.img_to_array(test_image, data_format=None, dtype=None)\n"
   ]
  },
  {
   "cell_type": "code",
   "execution_count": 71,
   "id": "64adca50",
   "metadata": {},
   "outputs": [
    {
     "data": {
      "text/plain": [
       "array([[[239., 239., 239.],\n",
       "        [239., 239., 239.],\n",
       "        [239., 239., 239.],\n",
       "        ...,\n",
       "        [245., 245., 245.],\n",
       "        [245., 245., 245.],\n",
       "        [245., 245., 245.]],\n",
       "\n",
       "       [[239., 239., 239.],\n",
       "        [239., 239., 239.],\n",
       "        [239., 239., 239.],\n",
       "        ...,\n",
       "        [245., 245., 245.],\n",
       "        [245., 245., 247.],\n",
       "        [245., 245., 247.]],\n",
       "\n",
       "       [[239., 239., 239.],\n",
       "        [239., 239., 239.],\n",
       "        [239., 239., 239.],\n",
       "        ...,\n",
       "        [245., 245., 245.],\n",
       "        [245., 245., 247.],\n",
       "        [244., 244., 246.]],\n",
       "\n",
       "       ...,\n",
       "\n",
       "       [[242., 225., 217.],\n",
       "        [251., 234., 227.],\n",
       "        [248., 235., 229.],\n",
       "        ...,\n",
       "        [223., 197., 182.],\n",
       "        [236., 207., 193.],\n",
       "        [231., 205., 188.]],\n",
       "\n",
       "       [[247., 234., 226.],\n",
       "        [244., 231., 225.],\n",
       "        [248., 233., 228.],\n",
       "        ...,\n",
       "        [220., 201., 187.],\n",
       "        [225., 208., 192.],\n",
       "        [228., 211., 195.]],\n",
       "\n",
       "       [[240., 223., 216.],\n",
       "        [247., 229., 225.],\n",
       "        [238., 223., 216.],\n",
       "        ...,\n",
       "        [218., 191., 174.],\n",
       "        [220., 189., 168.],\n",
       "        [217., 186., 165.]]], dtype=float32)"
      ]
     },
     "execution_count": 71,
     "metadata": {},
     "output_type": "execute_result"
    }
   ],
   "source": [
    "test_image"
   ]
  },
  {
   "cell_type": "code",
   "execution_count": 72,
   "id": "03efcfac",
   "metadata": {},
   "outputs": [],
   "source": [
    "test_image=np.expand_dims(test_image,axis=0)\n"
   ]
  },
  {
   "cell_type": "code",
   "execution_count": 73,
   "id": "d28471f5",
   "metadata": {},
   "outputs": [
    {
     "name": "stdout",
     "output_type": "stream",
     "text": [
      "1/1 [==============================] - 0s 39ms/step\n"
     ]
    }
   ],
   "source": [
    "result=model.predict(test_image)"
   ]
  },
  {
   "cell_type": "code",
   "execution_count": 74,
   "id": "48569d81",
   "metadata": {},
   "outputs": [
    {
     "data": {
      "text/plain": [
       "array([[0.]], dtype=float32)"
      ]
     },
     "execution_count": 74,
     "metadata": {},
     "output_type": "execute_result"
    }
   ],
   "source": [
    "result"
   ]
  },
  {
   "cell_type": "markdown",
   "id": "965ceb64",
   "metadata": {},
   "source": [
    "# 0 = cat\n",
    "# 1 = dog"
   ]
  },
  {
   "cell_type": "code",
   "execution_count": null,
   "id": "8c727e7c",
   "metadata": {},
   "outputs": [],
   "source": []
  }
 ],
 "metadata": {
  "kernelspec": {
   "display_name": "Python 3 (ipykernel)",
   "language": "python",
   "name": "python3"
  },
  "language_info": {
   "codemirror_mode": {
    "name": "ipython",
    "version": 3
   },
   "file_extension": ".py",
   "mimetype": "text/x-python",
   "name": "python",
   "nbconvert_exporter": "python",
   "pygments_lexer": "ipython3",
   "version": "3.9.12"
  }
 },
 "nbformat": 4,
 "nbformat_minor": 5
}
